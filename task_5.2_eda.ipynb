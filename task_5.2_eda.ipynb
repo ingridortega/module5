{
 "cells": [
  {
   "cell_type": "markdown",
   "metadata": {},
   "source": [
    "# TASK 5.2 PREPARE AND EXPLORE THE DATA\n",
    "**Contents of this notebook:** Part I: Exploratory Data Analysis, Part II: Lessons Learned Report\n",
    "## Part I: Exploratory Data Analysis\n",
    "\n",
    "**BACKGROUND**\n",
    "\n",
    "**Problems:** \n",
    "\n",
    "1. Increase in customer default rates: This is bad for Credit One since we approve the customers for loans in the first place.\n",
    "\n",
    "2. Revenue and customer loss for clients then loss of clients for Credit One.\n",
    "\n",
    "We cannot control habits, nor identify their underlying \"why\". We will focus on identifying the attributes statistically significant to the problems, and derive information from the data available. Through different methods, we will uncover information.\n"
   ]
  },
  {
   "cell_type": "markdown",
   "metadata": {},
   "source": [
    "**Importing and pre-processing the data**"
   ]
  },
  {
   "cell_type": "code",
   "execution_count": 1,
   "metadata": {},
   "outputs": [],
   "source": [
    "# IMPORT LIBRARIES (Always first cell): In order to access different functions and methods inside a library.\n",
    "import pandas as pd # This call Pandas library from PC and make it accessible for the project calling it 'pd'\n",
    "from pandas import Series, DataFrame\n",
    "import matplotlib as mpl\n",
    "import matplotlib.pyplot as plt # Used for visualization in data science\n",
    "import seaborn as sns # Used for visualization in data science\n",
    "%matplotlib inline"
   ]
  },
  {
   "cell_type": "code",
   "execution_count": 2,
   "metadata": {},
   "outputs": [],
   "source": [
    "# IMPORT DATA: Note: has to be in the same folder where is the notebook. Default structure: dataframe.\n",
    "credit = pd.read_csv('default_credit_card_clients.csv', header =1)"
   ]
  },
  {
   "cell_type": "code",
   "execution_count": 3,
   "metadata": {},
   "outputs": [
    {
     "data": {
      "text/html": [
       "<div>\n",
       "<style scoped>\n",
       "    .dataframe tbody tr th:only-of-type {\n",
       "        vertical-align: middle;\n",
       "    }\n",
       "\n",
       "    .dataframe tbody tr th {\n",
       "        vertical-align: top;\n",
       "    }\n",
       "\n",
       "    .dataframe thead th {\n",
       "        text-align: right;\n",
       "    }\n",
       "</style>\n",
       "<table border=\"1\" class=\"dataframe\">\n",
       "  <thead>\n",
       "    <tr style=\"text-align: right;\">\n",
       "      <th></th>\n",
       "      <th>ID</th>\n",
       "      <th>LIMIT_BAL</th>\n",
       "      <th>SEX</th>\n",
       "      <th>EDUCATION</th>\n",
       "      <th>MARRIAGE</th>\n",
       "      <th>AGE</th>\n",
       "      <th>PAY_0</th>\n",
       "      <th>PAY_2</th>\n",
       "      <th>PAY_3</th>\n",
       "      <th>PAY_4</th>\n",
       "      <th>...</th>\n",
       "      <th>BILL_AMT4</th>\n",
       "      <th>BILL_AMT5</th>\n",
       "      <th>BILL_AMT6</th>\n",
       "      <th>PAY_AMT1</th>\n",
       "      <th>PAY_AMT2</th>\n",
       "      <th>PAY_AMT3</th>\n",
       "      <th>PAY_AMT4</th>\n",
       "      <th>PAY_AMT5</th>\n",
       "      <th>PAY_AMT6</th>\n",
       "      <th>default payment next month</th>\n",
       "    </tr>\n",
       "  </thead>\n",
       "  <tbody>\n",
       "    <tr>\n",
       "      <th>0</th>\n",
       "      <td>1</td>\n",
       "      <td>20000</td>\n",
       "      <td>2</td>\n",
       "      <td>2</td>\n",
       "      <td>1</td>\n",
       "      <td>24</td>\n",
       "      <td>2</td>\n",
       "      <td>2</td>\n",
       "      <td>-1</td>\n",
       "      <td>-1</td>\n",
       "      <td>...</td>\n",
       "      <td>0</td>\n",
       "      <td>0</td>\n",
       "      <td>0</td>\n",
       "      <td>0</td>\n",
       "      <td>689</td>\n",
       "      <td>0</td>\n",
       "      <td>0</td>\n",
       "      <td>0</td>\n",
       "      <td>0</td>\n",
       "      <td>1</td>\n",
       "    </tr>\n",
       "    <tr>\n",
       "      <th>1</th>\n",
       "      <td>2</td>\n",
       "      <td>120000</td>\n",
       "      <td>2</td>\n",
       "      <td>2</td>\n",
       "      <td>2</td>\n",
       "      <td>26</td>\n",
       "      <td>-1</td>\n",
       "      <td>2</td>\n",
       "      <td>0</td>\n",
       "      <td>0</td>\n",
       "      <td>...</td>\n",
       "      <td>3272</td>\n",
       "      <td>3455</td>\n",
       "      <td>3261</td>\n",
       "      <td>0</td>\n",
       "      <td>1000</td>\n",
       "      <td>1000</td>\n",
       "      <td>1000</td>\n",
       "      <td>0</td>\n",
       "      <td>2000</td>\n",
       "      <td>1</td>\n",
       "    </tr>\n",
       "    <tr>\n",
       "      <th>2</th>\n",
       "      <td>3</td>\n",
       "      <td>90000</td>\n",
       "      <td>2</td>\n",
       "      <td>2</td>\n",
       "      <td>2</td>\n",
       "      <td>34</td>\n",
       "      <td>0</td>\n",
       "      <td>0</td>\n",
       "      <td>0</td>\n",
       "      <td>0</td>\n",
       "      <td>...</td>\n",
       "      <td>14331</td>\n",
       "      <td>14948</td>\n",
       "      <td>15549</td>\n",
       "      <td>1518</td>\n",
       "      <td>1500</td>\n",
       "      <td>1000</td>\n",
       "      <td>1000</td>\n",
       "      <td>1000</td>\n",
       "      <td>5000</td>\n",
       "      <td>0</td>\n",
       "    </tr>\n",
       "    <tr>\n",
       "      <th>3</th>\n",
       "      <td>4</td>\n",
       "      <td>50000</td>\n",
       "      <td>2</td>\n",
       "      <td>2</td>\n",
       "      <td>1</td>\n",
       "      <td>37</td>\n",
       "      <td>0</td>\n",
       "      <td>0</td>\n",
       "      <td>0</td>\n",
       "      <td>0</td>\n",
       "      <td>...</td>\n",
       "      <td>28314</td>\n",
       "      <td>28959</td>\n",
       "      <td>29547</td>\n",
       "      <td>2000</td>\n",
       "      <td>2019</td>\n",
       "      <td>1200</td>\n",
       "      <td>1100</td>\n",
       "      <td>1069</td>\n",
       "      <td>1000</td>\n",
       "      <td>0</td>\n",
       "    </tr>\n",
       "    <tr>\n",
       "      <th>4</th>\n",
       "      <td>5</td>\n",
       "      <td>50000</td>\n",
       "      <td>1</td>\n",
       "      <td>2</td>\n",
       "      <td>1</td>\n",
       "      <td>57</td>\n",
       "      <td>-1</td>\n",
       "      <td>0</td>\n",
       "      <td>-1</td>\n",
       "      <td>0</td>\n",
       "      <td>...</td>\n",
       "      <td>20940</td>\n",
       "      <td>19146</td>\n",
       "      <td>19131</td>\n",
       "      <td>2000</td>\n",
       "      <td>36681</td>\n",
       "      <td>10000</td>\n",
       "      <td>9000</td>\n",
       "      <td>689</td>\n",
       "      <td>679</td>\n",
       "      <td>0</td>\n",
       "    </tr>\n",
       "  </tbody>\n",
       "</table>\n",
       "<p>5 rows × 25 columns</p>\n",
       "</div>"
      ],
      "text/plain": [
       "   ID  LIMIT_BAL  SEX  EDUCATION  MARRIAGE  AGE  PAY_0  PAY_2  PAY_3  PAY_4  \\\n",
       "0   1      20000    2          2         1   24      2      2     -1     -1   \n",
       "1   2     120000    2          2         2   26     -1      2      0      0   \n",
       "2   3      90000    2          2         2   34      0      0      0      0   \n",
       "3   4      50000    2          2         1   37      0      0      0      0   \n",
       "4   5      50000    1          2         1   57     -1      0     -1      0   \n",
       "\n",
       "   ...  BILL_AMT4  BILL_AMT5  BILL_AMT6  PAY_AMT1  PAY_AMT2  PAY_AMT3  \\\n",
       "0  ...          0          0          0         0       689         0   \n",
       "1  ...       3272       3455       3261         0      1000      1000   \n",
       "2  ...      14331      14948      15549      1518      1500      1000   \n",
       "3  ...      28314      28959      29547      2000      2019      1200   \n",
       "4  ...      20940      19146      19131      2000     36681     10000   \n",
       "\n",
       "   PAY_AMT4  PAY_AMT5  PAY_AMT6  default payment next month  \n",
       "0         0         0         0                           1  \n",
       "1      1000         0      2000                           1  \n",
       "2      1000      1000      5000                           0  \n",
       "3      1100      1069      1000                           0  \n",
       "4      9000       689       679                           0  \n",
       "\n",
       "[5 rows x 25 columns]"
      ]
     },
     "execution_count": 3,
     "metadata": {},
     "output_type": "execute_result"
    }
   ],
   "source": [
    "credit.head()# quick view sample the dataframe by calling the name in a cell"
   ]
  },
  {
   "cell_type": "code",
   "execution_count": 4,
   "metadata": {
    "scrolled": true
   },
   "outputs": [],
   "source": [
    "# RENAME OF COLUMNS\n",
    "credit.columns = ['ID', 'LIMIT_BAL', 'SEX', 'EDUCATION', 'MARRIAGE', 'AGE', 'PAY_STATUS_M9', 'PAY_STATUS_M8', 'PAY_STATUS_M7', 'PAY_STATUS_M6',\n",
    "       'PAY_STATUS_M5', 'PAY_STATUS_M4', 'BILL_M9', 'BILL_M8', 'BILL_M7', 'BILL_M6', 'BILL_M5', 'BILL_M4', 'PAID_M9', 'PAID_M8',\n",
    "       'PAID_M7', 'PAID_M6', 'PAID_M5', 'PAID_M4', 'DEFAULT']"
   ]
  },
  {
   "cell_type": "code",
   "execution_count": 5,
   "metadata": {},
   "outputs": [
    {
     "data": {
      "text/plain": [
       "Index(['ID', 'LIMIT_BAL', 'SEX', 'EDUCATION', 'MARRIAGE', 'AGE',\n",
       "       'PAY_STATUS_M9', 'PAY_STATUS_M8', 'PAY_STATUS_M7', 'PAY_STATUS_M6',\n",
       "       'PAY_STATUS_M5', 'PAY_STATUS_M4', 'BILL_M9', 'BILL_M8', 'BILL_M7',\n",
       "       'BILL_M6', 'BILL_M5', 'BILL_M4', 'PAID_M9', 'PAID_M8', 'PAID_M7',\n",
       "       'PAID_M6', 'PAID_M5', 'PAID_M4', 'DEFAULT'],\n",
       "      dtype='object')"
      ]
     },
     "execution_count": 5,
     "metadata": {},
     "output_type": "execute_result"
    }
   ],
   "source": [
    "credit.columns # confirmation of new column names"
   ]
  },
  {
   "cell_type": "code",
   "execution_count": 6,
   "metadata": {
    "scrolled": true
   },
   "outputs": [
    {
     "data": {
      "text/html": [
       "<div>\n",
       "<style scoped>\n",
       "    .dataframe tbody tr th:only-of-type {\n",
       "        vertical-align: middle;\n",
       "    }\n",
       "\n",
       "    .dataframe tbody tr th {\n",
       "        vertical-align: top;\n",
       "    }\n",
       "\n",
       "    .dataframe thead th {\n",
       "        text-align: right;\n",
       "    }\n",
       "</style>\n",
       "<table border=\"1\" class=\"dataframe\">\n",
       "  <thead>\n",
       "    <tr style=\"text-align: right;\">\n",
       "      <th></th>\n",
       "      <th>ID</th>\n",
       "      <th>LIMIT_BAL</th>\n",
       "      <th>SEX</th>\n",
       "      <th>EDUCATION</th>\n",
       "      <th>MARRIAGE</th>\n",
       "      <th>AGE</th>\n",
       "      <th>PAY_STATUS_M9</th>\n",
       "      <th>PAY_STATUS_M8</th>\n",
       "      <th>PAY_STATUS_M7</th>\n",
       "      <th>PAY_STATUS_M6</th>\n",
       "      <th>...</th>\n",
       "      <th>BILL_M6</th>\n",
       "      <th>BILL_M5</th>\n",
       "      <th>BILL_M4</th>\n",
       "      <th>PAID_M9</th>\n",
       "      <th>PAID_M8</th>\n",
       "      <th>PAID_M7</th>\n",
       "      <th>PAID_M6</th>\n",
       "      <th>PAID_M5</th>\n",
       "      <th>PAID_M4</th>\n",
       "      <th>DEFAULT</th>\n",
       "    </tr>\n",
       "  </thead>\n",
       "  <tbody>\n",
       "    <tr>\n",
       "      <th>count</th>\n",
       "      <td>30000.000000</td>\n",
       "      <td>30000.000000</td>\n",
       "      <td>30000.000000</td>\n",
       "      <td>30000.000000</td>\n",
       "      <td>30000.000000</td>\n",
       "      <td>30000.000000</td>\n",
       "      <td>30000.000000</td>\n",
       "      <td>30000.000000</td>\n",
       "      <td>30000.000000</td>\n",
       "      <td>30000.000000</td>\n",
       "      <td>...</td>\n",
       "      <td>30000.000000</td>\n",
       "      <td>30000.000000</td>\n",
       "      <td>30000.000000</td>\n",
       "      <td>30000.000000</td>\n",
       "      <td>3.000000e+04</td>\n",
       "      <td>30000.00000</td>\n",
       "      <td>30000.000000</td>\n",
       "      <td>30000.000000</td>\n",
       "      <td>30000.000000</td>\n",
       "      <td>30000.000000</td>\n",
       "    </tr>\n",
       "    <tr>\n",
       "      <th>mean</th>\n",
       "      <td>15000.500000</td>\n",
       "      <td>167484.322667</td>\n",
       "      <td>1.603733</td>\n",
       "      <td>1.853133</td>\n",
       "      <td>1.551867</td>\n",
       "      <td>35.485500</td>\n",
       "      <td>-0.016700</td>\n",
       "      <td>-0.133767</td>\n",
       "      <td>-0.166200</td>\n",
       "      <td>-0.220667</td>\n",
       "      <td>...</td>\n",
       "      <td>43262.948967</td>\n",
       "      <td>40311.400967</td>\n",
       "      <td>38871.760400</td>\n",
       "      <td>5663.580500</td>\n",
       "      <td>5.921163e+03</td>\n",
       "      <td>5225.68150</td>\n",
       "      <td>4826.076867</td>\n",
       "      <td>4799.387633</td>\n",
       "      <td>5215.502567</td>\n",
       "      <td>0.221200</td>\n",
       "    </tr>\n",
       "    <tr>\n",
       "      <th>std</th>\n",
       "      <td>8660.398374</td>\n",
       "      <td>129747.661567</td>\n",
       "      <td>0.489129</td>\n",
       "      <td>0.790349</td>\n",
       "      <td>0.521970</td>\n",
       "      <td>9.217904</td>\n",
       "      <td>1.123802</td>\n",
       "      <td>1.197186</td>\n",
       "      <td>1.196868</td>\n",
       "      <td>1.169139</td>\n",
       "      <td>...</td>\n",
       "      <td>64332.856134</td>\n",
       "      <td>60797.155770</td>\n",
       "      <td>59554.107537</td>\n",
       "      <td>16563.280354</td>\n",
       "      <td>2.304087e+04</td>\n",
       "      <td>17606.96147</td>\n",
       "      <td>15666.159744</td>\n",
       "      <td>15278.305679</td>\n",
       "      <td>17777.465775</td>\n",
       "      <td>0.415062</td>\n",
       "    </tr>\n",
       "    <tr>\n",
       "      <th>min</th>\n",
       "      <td>1.000000</td>\n",
       "      <td>10000.000000</td>\n",
       "      <td>1.000000</td>\n",
       "      <td>0.000000</td>\n",
       "      <td>0.000000</td>\n",
       "      <td>21.000000</td>\n",
       "      <td>-2.000000</td>\n",
       "      <td>-2.000000</td>\n",
       "      <td>-2.000000</td>\n",
       "      <td>-2.000000</td>\n",
       "      <td>...</td>\n",
       "      <td>-170000.000000</td>\n",
       "      <td>-81334.000000</td>\n",
       "      <td>-339603.000000</td>\n",
       "      <td>0.000000</td>\n",
       "      <td>0.000000e+00</td>\n",
       "      <td>0.00000</td>\n",
       "      <td>0.000000</td>\n",
       "      <td>0.000000</td>\n",
       "      <td>0.000000</td>\n",
       "      <td>0.000000</td>\n",
       "    </tr>\n",
       "    <tr>\n",
       "      <th>25%</th>\n",
       "      <td>7500.750000</td>\n",
       "      <td>50000.000000</td>\n",
       "      <td>1.000000</td>\n",
       "      <td>1.000000</td>\n",
       "      <td>1.000000</td>\n",
       "      <td>28.000000</td>\n",
       "      <td>-1.000000</td>\n",
       "      <td>-1.000000</td>\n",
       "      <td>-1.000000</td>\n",
       "      <td>-1.000000</td>\n",
       "      <td>...</td>\n",
       "      <td>2326.750000</td>\n",
       "      <td>1763.000000</td>\n",
       "      <td>1256.000000</td>\n",
       "      <td>1000.000000</td>\n",
       "      <td>8.330000e+02</td>\n",
       "      <td>390.00000</td>\n",
       "      <td>296.000000</td>\n",
       "      <td>252.500000</td>\n",
       "      <td>117.750000</td>\n",
       "      <td>0.000000</td>\n",
       "    </tr>\n",
       "    <tr>\n",
       "      <th>50%</th>\n",
       "      <td>15000.500000</td>\n",
       "      <td>140000.000000</td>\n",
       "      <td>2.000000</td>\n",
       "      <td>2.000000</td>\n",
       "      <td>2.000000</td>\n",
       "      <td>34.000000</td>\n",
       "      <td>0.000000</td>\n",
       "      <td>0.000000</td>\n",
       "      <td>0.000000</td>\n",
       "      <td>0.000000</td>\n",
       "      <td>...</td>\n",
       "      <td>19052.000000</td>\n",
       "      <td>18104.500000</td>\n",
       "      <td>17071.000000</td>\n",
       "      <td>2100.000000</td>\n",
       "      <td>2.009000e+03</td>\n",
       "      <td>1800.00000</td>\n",
       "      <td>1500.000000</td>\n",
       "      <td>1500.000000</td>\n",
       "      <td>1500.000000</td>\n",
       "      <td>0.000000</td>\n",
       "    </tr>\n",
       "    <tr>\n",
       "      <th>75%</th>\n",
       "      <td>22500.250000</td>\n",
       "      <td>240000.000000</td>\n",
       "      <td>2.000000</td>\n",
       "      <td>2.000000</td>\n",
       "      <td>2.000000</td>\n",
       "      <td>41.000000</td>\n",
       "      <td>0.000000</td>\n",
       "      <td>0.000000</td>\n",
       "      <td>0.000000</td>\n",
       "      <td>0.000000</td>\n",
       "      <td>...</td>\n",
       "      <td>54506.000000</td>\n",
       "      <td>50190.500000</td>\n",
       "      <td>49198.250000</td>\n",
       "      <td>5006.000000</td>\n",
       "      <td>5.000000e+03</td>\n",
       "      <td>4505.00000</td>\n",
       "      <td>4013.250000</td>\n",
       "      <td>4031.500000</td>\n",
       "      <td>4000.000000</td>\n",
       "      <td>0.000000</td>\n",
       "    </tr>\n",
       "    <tr>\n",
       "      <th>max</th>\n",
       "      <td>30000.000000</td>\n",
       "      <td>1000000.000000</td>\n",
       "      <td>2.000000</td>\n",
       "      <td>6.000000</td>\n",
       "      <td>3.000000</td>\n",
       "      <td>79.000000</td>\n",
       "      <td>8.000000</td>\n",
       "      <td>8.000000</td>\n",
       "      <td>8.000000</td>\n",
       "      <td>8.000000</td>\n",
       "      <td>...</td>\n",
       "      <td>891586.000000</td>\n",
       "      <td>927171.000000</td>\n",
       "      <td>961664.000000</td>\n",
       "      <td>873552.000000</td>\n",
       "      <td>1.684259e+06</td>\n",
       "      <td>896040.00000</td>\n",
       "      <td>621000.000000</td>\n",
       "      <td>426529.000000</td>\n",
       "      <td>528666.000000</td>\n",
       "      <td>1.000000</td>\n",
       "    </tr>\n",
       "  </tbody>\n",
       "</table>\n",
       "<p>8 rows × 25 columns</p>\n",
       "</div>"
      ],
      "text/plain": [
       "                 ID       LIMIT_BAL           SEX     EDUCATION      MARRIAGE  \\\n",
       "count  30000.000000    30000.000000  30000.000000  30000.000000  30000.000000   \n",
       "mean   15000.500000   167484.322667      1.603733      1.853133      1.551867   \n",
       "std     8660.398374   129747.661567      0.489129      0.790349      0.521970   \n",
       "min        1.000000    10000.000000      1.000000      0.000000      0.000000   \n",
       "25%     7500.750000    50000.000000      1.000000      1.000000      1.000000   \n",
       "50%    15000.500000   140000.000000      2.000000      2.000000      2.000000   \n",
       "75%    22500.250000   240000.000000      2.000000      2.000000      2.000000   \n",
       "max    30000.000000  1000000.000000      2.000000      6.000000      3.000000   \n",
       "\n",
       "                AGE  PAY_STATUS_M9  PAY_STATUS_M8  PAY_STATUS_M7  \\\n",
       "count  30000.000000   30000.000000   30000.000000   30000.000000   \n",
       "mean      35.485500      -0.016700      -0.133767      -0.166200   \n",
       "std        9.217904       1.123802       1.197186       1.196868   \n",
       "min       21.000000      -2.000000      -2.000000      -2.000000   \n",
       "25%       28.000000      -1.000000      -1.000000      -1.000000   \n",
       "50%       34.000000       0.000000       0.000000       0.000000   \n",
       "75%       41.000000       0.000000       0.000000       0.000000   \n",
       "max       79.000000       8.000000       8.000000       8.000000   \n",
       "\n",
       "       PAY_STATUS_M6  ...        BILL_M6        BILL_M5        BILL_M4  \\\n",
       "count   30000.000000  ...   30000.000000   30000.000000   30000.000000   \n",
       "mean       -0.220667  ...   43262.948967   40311.400967   38871.760400   \n",
       "std         1.169139  ...   64332.856134   60797.155770   59554.107537   \n",
       "min        -2.000000  ... -170000.000000  -81334.000000 -339603.000000   \n",
       "25%        -1.000000  ...    2326.750000    1763.000000    1256.000000   \n",
       "50%         0.000000  ...   19052.000000   18104.500000   17071.000000   \n",
       "75%         0.000000  ...   54506.000000   50190.500000   49198.250000   \n",
       "max         8.000000  ...  891586.000000  927171.000000  961664.000000   \n",
       "\n",
       "             PAID_M9       PAID_M8       PAID_M7        PAID_M6  \\\n",
       "count   30000.000000  3.000000e+04   30000.00000   30000.000000   \n",
       "mean     5663.580500  5.921163e+03    5225.68150    4826.076867   \n",
       "std     16563.280354  2.304087e+04   17606.96147   15666.159744   \n",
       "min         0.000000  0.000000e+00       0.00000       0.000000   \n",
       "25%      1000.000000  8.330000e+02     390.00000     296.000000   \n",
       "50%      2100.000000  2.009000e+03    1800.00000    1500.000000   \n",
       "75%      5006.000000  5.000000e+03    4505.00000    4013.250000   \n",
       "max    873552.000000  1.684259e+06  896040.00000  621000.000000   \n",
       "\n",
       "             PAID_M5        PAID_M4       DEFAULT  \n",
       "count   30000.000000   30000.000000  30000.000000  \n",
       "mean     4799.387633    5215.502567      0.221200  \n",
       "std     15278.305679   17777.465775      0.415062  \n",
       "min         0.000000       0.000000      0.000000  \n",
       "25%       252.500000     117.750000      0.000000  \n",
       "50%      1500.000000    1500.000000      0.000000  \n",
       "75%      4031.500000    4000.000000      0.000000  \n",
       "max    426529.000000  528666.000000      1.000000  \n",
       "\n",
       "[8 rows x 25 columns]"
      ]
     },
     "execution_count": 6,
     "metadata": {},
     "output_type": "execute_result"
    }
   ],
   "source": [
    "credit.describe() # equivalent to summary() in R. "
   ]
  },
  {
   "cell_type": "code",
   "execution_count": 7,
   "metadata": {},
   "outputs": [
    {
     "name": "stdout",
     "output_type": "stream",
     "text": [
      "<class 'pandas.core.frame.DataFrame'>\n",
      "RangeIndex: 30000 entries, 0 to 29999\n",
      "Data columns (total 25 columns):\n",
      " #   Column         Non-Null Count  Dtype\n",
      "---  ------         --------------  -----\n",
      " 0   ID             30000 non-null  int64\n",
      " 1   LIMIT_BAL      30000 non-null  int64\n",
      " 2   SEX            30000 non-null  int64\n",
      " 3   EDUCATION      30000 non-null  int64\n",
      " 4   MARRIAGE       30000 non-null  int64\n",
      " 5   AGE            30000 non-null  int64\n",
      " 6   PAY_STATUS_M9  30000 non-null  int64\n",
      " 7   PAY_STATUS_M8  30000 non-null  int64\n",
      " 8   PAY_STATUS_M7  30000 non-null  int64\n",
      " 9   PAY_STATUS_M6  30000 non-null  int64\n",
      " 10  PAY_STATUS_M5  30000 non-null  int64\n",
      " 11  PAY_STATUS_M4  30000 non-null  int64\n",
      " 12  BILL_M9        30000 non-null  int64\n",
      " 13  BILL_M8        30000 non-null  int64\n",
      " 14  BILL_M7        30000 non-null  int64\n",
      " 15  BILL_M6        30000 non-null  int64\n",
      " 16  BILL_M5        30000 non-null  int64\n",
      " 17  BILL_M4        30000 non-null  int64\n",
      " 18  PAID_M9        30000 non-null  int64\n",
      " 19  PAID_M8        30000 non-null  int64\n",
      " 20  PAID_M7        30000 non-null  int64\n",
      " 21  PAID_M6        30000 non-null  int64\n",
      " 22  PAID_M5        30000 non-null  int64\n",
      " 23  PAID_M4        30000 non-null  int64\n",
      " 24  DEFAULT        30000 non-null  int64\n",
      "dtypes: int64(25)\n",
      "memory usage: 5.7 MB\n"
     ]
    }
   ],
   "source": [
    "credit.info() # Dataset structure. All data was imported as integer"
   ]
  },
  {
   "cell_type": "code",
   "execution_count": 8,
   "metadata": {},
   "outputs": [
    {
     "data": {
      "text/plain": [
       "False"
      ]
     },
     "execution_count": 8,
     "metadata": {},
     "output_type": "execute_result"
    }
   ],
   "source": [
    "credit.isnull().values.any() # transformation: identify if there are any null values. There are no missing values"
   ]
  },
  {
   "cell_type": "code",
   "execution_count": 9,
   "metadata": {},
   "outputs": [],
   "source": [
    "# TRANSFORMATION AND TEXT CLEANING\n",
    "credit['SEX'].replace([1,2],['male','female'], inplace=True)\n",
    "credit['EDUCATION'].replace([0,1,2,3,4,5,6],['other','grad_school','university',\n",
    "                                             'high_school', 'other',\n",
    "                                             'other','other'], inplace=True)\n",
    "credit['MARRIAGE'].replace([0,1,2,3],['other', 'married', 'single', \n",
    "                                      'divorce'], inplace=True)\n",
    "\n",
    "def set_payment_status(df, col):\n",
    "  df[col].replace([-2,-1,0,1,2,3,4,5,6,7,8,9],\n",
    "                  ['no_consumption','paid_in_full','use_revolving_credit',\n",
    "                   'delay_1m','delay_2m','delay_3m','delay_4m','delay_5m',\n",
    "                   'delay_6m','delay_7m','delay_8m','delay_9m'], inplace=True)\n",
    "\n",
    "set_payment_status(credit, 'PAY_STATUS_M9')\n",
    "set_payment_status(credit, 'PAY_STATUS_M8')\n",
    "set_payment_status(credit, 'PAY_STATUS_M7')\n",
    "set_payment_status(credit, 'PAY_STATUS_M6')\n",
    "set_payment_status(credit, 'PAY_STATUS_M5')\n",
    "set_payment_status(credit, 'PAY_STATUS_M4')\n",
    "\n",
    "credit['DEFAULT'].replace([0,1],['False','True'], inplace=True)\n",
    "\n",
    "for col in ['SEX', 'EDUCATION', 'MARRIAGE', 'PAY_STATUS_M9','PAY_STATUS_M8',\n",
    "            'PAY_STATUS_M7','PAY_STATUS_M6','PAY_STATUS_M5',\n",
    "            'PAY_STATUS_M4', 'DEFAULT']:            \n",
    "            credit[col] = credit[col].astype('category')"
   ]
  },
  {
   "cell_type": "code",
   "execution_count": 10,
   "metadata": {},
   "outputs": [
    {
     "data": {
      "text/html": [
       "<div>\n",
       "<style scoped>\n",
       "    .dataframe tbody tr th:only-of-type {\n",
       "        vertical-align: middle;\n",
       "    }\n",
       "\n",
       "    .dataframe tbody tr th {\n",
       "        vertical-align: top;\n",
       "    }\n",
       "\n",
       "    .dataframe thead th {\n",
       "        text-align: right;\n",
       "    }\n",
       "</style>\n",
       "<table border=\"1\" class=\"dataframe\">\n",
       "  <thead>\n",
       "    <tr style=\"text-align: right;\">\n",
       "      <th></th>\n",
       "      <th>ID</th>\n",
       "      <th>LIMIT_BAL</th>\n",
       "      <th>SEX</th>\n",
       "      <th>EDUCATION</th>\n",
       "      <th>MARRIAGE</th>\n",
       "      <th>AGE</th>\n",
       "      <th>PAY_STATUS_M9</th>\n",
       "      <th>PAY_STATUS_M8</th>\n",
       "      <th>PAY_STATUS_M7</th>\n",
       "      <th>PAY_STATUS_M6</th>\n",
       "      <th>...</th>\n",
       "      <th>BILL_M6</th>\n",
       "      <th>BILL_M5</th>\n",
       "      <th>BILL_M4</th>\n",
       "      <th>PAID_M9</th>\n",
       "      <th>PAID_M8</th>\n",
       "      <th>PAID_M7</th>\n",
       "      <th>PAID_M6</th>\n",
       "      <th>PAID_M5</th>\n",
       "      <th>PAID_M4</th>\n",
       "      <th>DEFAULT</th>\n",
       "    </tr>\n",
       "  </thead>\n",
       "  <tbody>\n",
       "    <tr>\n",
       "      <th>7457</th>\n",
       "      <td>7458</td>\n",
       "      <td>100000</td>\n",
       "      <td>female</td>\n",
       "      <td>university</td>\n",
       "      <td>married</td>\n",
       "      <td>34</td>\n",
       "      <td>use_revolving_credit</td>\n",
       "      <td>use_revolving_credit</td>\n",
       "      <td>use_revolving_credit</td>\n",
       "      <td>use_revolving_credit</td>\n",
       "      <td>...</td>\n",
       "      <td>101856</td>\n",
       "      <td>101105</td>\n",
       "      <td>101071</td>\n",
       "      <td>4600</td>\n",
       "      <td>5000</td>\n",
       "      <td>4000</td>\n",
       "      <td>4000</td>\n",
       "      <td>4200</td>\n",
       "      <td>3800</td>\n",
       "      <td>False</td>\n",
       "    </tr>\n",
       "    <tr>\n",
       "      <th>28959</th>\n",
       "      <td>28960</td>\n",
       "      <td>220000</td>\n",
       "      <td>female</td>\n",
       "      <td>university</td>\n",
       "      <td>married</td>\n",
       "      <td>34</td>\n",
       "      <td>use_revolving_credit</td>\n",
       "      <td>use_revolving_credit</td>\n",
       "      <td>use_revolving_credit</td>\n",
       "      <td>use_revolving_credit</td>\n",
       "      <td>...</td>\n",
       "      <td>40737</td>\n",
       "      <td>42743</td>\n",
       "      <td>44052</td>\n",
       "      <td>3000</td>\n",
       "      <td>2000</td>\n",
       "      <td>2000</td>\n",
       "      <td>3000</td>\n",
       "      <td>2000</td>\n",
       "      <td>3000</td>\n",
       "      <td>False</td>\n",
       "    </tr>\n",
       "    <tr>\n",
       "      <th>10326</th>\n",
       "      <td>10327</td>\n",
       "      <td>20000</td>\n",
       "      <td>male</td>\n",
       "      <td>university</td>\n",
       "      <td>single</td>\n",
       "      <td>22</td>\n",
       "      <td>paid_in_full</td>\n",
       "      <td>use_revolving_credit</td>\n",
       "      <td>use_revolving_credit</td>\n",
       "      <td>use_revolving_credit</td>\n",
       "      <td>...</td>\n",
       "      <td>18982</td>\n",
       "      <td>13762</td>\n",
       "      <td>0</td>\n",
       "      <td>1451</td>\n",
       "      <td>1400</td>\n",
       "      <td>380</td>\n",
       "      <td>0</td>\n",
       "      <td>0</td>\n",
       "      <td>0</td>\n",
       "      <td>True</td>\n",
       "    </tr>\n",
       "    <tr>\n",
       "      <th>20578</th>\n",
       "      <td>20579</td>\n",
       "      <td>100000</td>\n",
       "      <td>male</td>\n",
       "      <td>university</td>\n",
       "      <td>married</td>\n",
       "      <td>29</td>\n",
       "      <td>use_revolving_credit</td>\n",
       "      <td>use_revolving_credit</td>\n",
       "      <td>use_revolving_credit</td>\n",
       "      <td>use_revolving_credit</td>\n",
       "      <td>...</td>\n",
       "      <td>57079</td>\n",
       "      <td>16634</td>\n",
       "      <td>26438</td>\n",
       "      <td>2303</td>\n",
       "      <td>3000</td>\n",
       "      <td>3000</td>\n",
       "      <td>1000</td>\n",
       "      <td>10022</td>\n",
       "      <td>3065</td>\n",
       "      <td>False</td>\n",
       "    </tr>\n",
       "    <tr>\n",
       "      <th>16027</th>\n",
       "      <td>16028</td>\n",
       "      <td>30000</td>\n",
       "      <td>female</td>\n",
       "      <td>university</td>\n",
       "      <td>single</td>\n",
       "      <td>41</td>\n",
       "      <td>delay_1m</td>\n",
       "      <td>delay_2m</td>\n",
       "      <td>use_revolving_credit</td>\n",
       "      <td>use_revolving_credit</td>\n",
       "      <td>...</td>\n",
       "      <td>21295</td>\n",
       "      <td>19076</td>\n",
       "      <td>9292</td>\n",
       "      <td>0</td>\n",
       "      <td>1600</td>\n",
       "      <td>1500</td>\n",
       "      <td>1000</td>\n",
       "      <td>1720</td>\n",
       "      <td>0</td>\n",
       "      <td>False</td>\n",
       "    </tr>\n",
       "    <tr>\n",
       "      <th>8172</th>\n",
       "      <td>8173</td>\n",
       "      <td>500000</td>\n",
       "      <td>male</td>\n",
       "      <td>grad_school</td>\n",
       "      <td>single</td>\n",
       "      <td>43</td>\n",
       "      <td>use_revolving_credit</td>\n",
       "      <td>use_revolving_credit</td>\n",
       "      <td>use_revolving_credit</td>\n",
       "      <td>paid_in_full</td>\n",
       "      <td>...</td>\n",
       "      <td>3887</td>\n",
       "      <td>0</td>\n",
       "      <td>7413</td>\n",
       "      <td>22650</td>\n",
       "      <td>0</td>\n",
       "      <td>3887</td>\n",
       "      <td>0</td>\n",
       "      <td>7413</td>\n",
       "      <td>0</td>\n",
       "      <td>True</td>\n",
       "    </tr>\n",
       "    <tr>\n",
       "      <th>28438</th>\n",
       "      <td>28439</td>\n",
       "      <td>270000</td>\n",
       "      <td>female</td>\n",
       "      <td>grad_school</td>\n",
       "      <td>married</td>\n",
       "      <td>37</td>\n",
       "      <td>no_consumption</td>\n",
       "      <td>no_consumption</td>\n",
       "      <td>no_consumption</td>\n",
       "      <td>no_consumption</td>\n",
       "      <td>...</td>\n",
       "      <td>189</td>\n",
       "      <td>-75</td>\n",
       "      <td>525</td>\n",
       "      <td>217</td>\n",
       "      <td>300</td>\n",
       "      <td>200</td>\n",
       "      <td>0</td>\n",
       "      <td>600</td>\n",
       "      <td>200</td>\n",
       "      <td>False</td>\n",
       "    </tr>\n",
       "    <tr>\n",
       "      <th>27727</th>\n",
       "      <td>27728</td>\n",
       "      <td>30000</td>\n",
       "      <td>female</td>\n",
       "      <td>university</td>\n",
       "      <td>married</td>\n",
       "      <td>23</td>\n",
       "      <td>use_revolving_credit</td>\n",
       "      <td>use_revolving_credit</td>\n",
       "      <td>use_revolving_credit</td>\n",
       "      <td>use_revolving_credit</td>\n",
       "      <td>...</td>\n",
       "      <td>26067</td>\n",
       "      <td>25357</td>\n",
       "      <td>25887</td>\n",
       "      <td>1670</td>\n",
       "      <td>1500</td>\n",
       "      <td>2609</td>\n",
       "      <td>0</td>\n",
       "      <td>930</td>\n",
       "      <td>946</td>\n",
       "      <td>True</td>\n",
       "    </tr>\n",
       "    <tr>\n",
       "      <th>4133</th>\n",
       "      <td>4134</td>\n",
       "      <td>200000</td>\n",
       "      <td>female</td>\n",
       "      <td>university</td>\n",
       "      <td>married</td>\n",
       "      <td>39</td>\n",
       "      <td>use_revolving_credit</td>\n",
       "      <td>use_revolving_credit</td>\n",
       "      <td>delay_2m</td>\n",
       "      <td>use_revolving_credit</td>\n",
       "      <td>...</td>\n",
       "      <td>131741</td>\n",
       "      <td>134488</td>\n",
       "      <td>137240</td>\n",
       "      <td>9201</td>\n",
       "      <td>5000</td>\n",
       "      <td>4500</td>\n",
       "      <td>4600</td>\n",
       "      <td>4700</td>\n",
       "      <td>5319</td>\n",
       "      <td>True</td>\n",
       "    </tr>\n",
       "    <tr>\n",
       "      <th>22415</th>\n",
       "      <td>22416</td>\n",
       "      <td>20000</td>\n",
       "      <td>female</td>\n",
       "      <td>high_school</td>\n",
       "      <td>single</td>\n",
       "      <td>37</td>\n",
       "      <td>delay_2m</td>\n",
       "      <td>delay_2m</td>\n",
       "      <td>delay_2m</td>\n",
       "      <td>delay_2m</td>\n",
       "      <td>...</td>\n",
       "      <td>12495</td>\n",
       "      <td>12787</td>\n",
       "      <td>13583</td>\n",
       "      <td>2000</td>\n",
       "      <td>902</td>\n",
       "      <td>500</td>\n",
       "      <td>500</td>\n",
       "      <td>1000</td>\n",
       "      <td>700</td>\n",
       "      <td>False</td>\n",
       "    </tr>\n",
       "  </tbody>\n",
       "</table>\n",
       "<p>10 rows × 25 columns</p>\n",
       "</div>"
      ],
      "text/plain": [
       "          ID  LIMIT_BAL     SEX    EDUCATION MARRIAGE  AGE  \\\n",
       "7457    7458     100000  female   university  married   34   \n",
       "28959  28960     220000  female   university  married   34   \n",
       "10326  10327      20000    male   university   single   22   \n",
       "20578  20579     100000    male   university  married   29   \n",
       "16027  16028      30000  female   university   single   41   \n",
       "8172    8173     500000    male  grad_school   single   43   \n",
       "28438  28439     270000  female  grad_school  married   37   \n",
       "27727  27728      30000  female   university  married   23   \n",
       "4133    4134     200000  female   university  married   39   \n",
       "22415  22416      20000  female  high_school   single   37   \n",
       "\n",
       "              PAY_STATUS_M9         PAY_STATUS_M8         PAY_STATUS_M7  \\\n",
       "7457   use_revolving_credit  use_revolving_credit  use_revolving_credit   \n",
       "28959  use_revolving_credit  use_revolving_credit  use_revolving_credit   \n",
       "10326          paid_in_full  use_revolving_credit  use_revolving_credit   \n",
       "20578  use_revolving_credit  use_revolving_credit  use_revolving_credit   \n",
       "16027              delay_1m              delay_2m  use_revolving_credit   \n",
       "8172   use_revolving_credit  use_revolving_credit  use_revolving_credit   \n",
       "28438        no_consumption        no_consumption        no_consumption   \n",
       "27727  use_revolving_credit  use_revolving_credit  use_revolving_credit   \n",
       "4133   use_revolving_credit  use_revolving_credit              delay_2m   \n",
       "22415              delay_2m              delay_2m              delay_2m   \n",
       "\n",
       "              PAY_STATUS_M6  ... BILL_M6 BILL_M5  BILL_M4  PAID_M9  PAID_M8  \\\n",
       "7457   use_revolving_credit  ...  101856  101105   101071     4600     5000   \n",
       "28959  use_revolving_credit  ...   40737   42743    44052     3000     2000   \n",
       "10326  use_revolving_credit  ...   18982   13762        0     1451     1400   \n",
       "20578  use_revolving_credit  ...   57079   16634    26438     2303     3000   \n",
       "16027  use_revolving_credit  ...   21295   19076     9292        0     1600   \n",
       "8172           paid_in_full  ...    3887       0     7413    22650        0   \n",
       "28438        no_consumption  ...     189     -75      525      217      300   \n",
       "27727  use_revolving_credit  ...   26067   25357    25887     1670     1500   \n",
       "4133   use_revolving_credit  ...  131741  134488   137240     9201     5000   \n",
       "22415              delay_2m  ...   12495   12787    13583     2000      902   \n",
       "\n",
       "       PAID_M7  PAID_M6  PAID_M5  PAID_M4  DEFAULT  \n",
       "7457      4000     4000     4200     3800    False  \n",
       "28959     2000     3000     2000     3000    False  \n",
       "10326      380        0        0        0     True  \n",
       "20578     3000     1000    10022     3065    False  \n",
       "16027     1500     1000     1720        0    False  \n",
       "8172      3887        0     7413        0     True  \n",
       "28438      200        0      600      200    False  \n",
       "27727     2609        0      930      946     True  \n",
       "4133      4500     4600     4700     5319     True  \n",
       "22415      500      500     1000      700    False  \n",
       "\n",
       "[10 rows x 25 columns]"
      ]
     },
     "execution_count": 10,
     "metadata": {},
     "output_type": "execute_result"
    }
   ],
   "source": [
    "credit.sample(10) # confirmation of changes made"
   ]
  },
  {
   "cell_type": "code",
   "execution_count": 11,
   "metadata": {},
   "outputs": [
    {
     "name": "stdout",
     "output_type": "stream",
     "text": [
      "<class 'pandas.core.frame.DataFrame'>\n",
      "RangeIndex: 30000 entries, 0 to 29999\n",
      "Data columns (total 25 columns):\n",
      " #   Column         Non-Null Count  Dtype   \n",
      "---  ------         --------------  -----   \n",
      " 0   ID             30000 non-null  int64   \n",
      " 1   LIMIT_BAL      30000 non-null  int64   \n",
      " 2   SEX            30000 non-null  category\n",
      " 3   EDUCATION      30000 non-null  category\n",
      " 4   MARRIAGE       30000 non-null  category\n",
      " 5   AGE            30000 non-null  int64   \n",
      " 6   PAY_STATUS_M9  30000 non-null  category\n",
      " 7   PAY_STATUS_M8  30000 non-null  category\n",
      " 8   PAY_STATUS_M7  30000 non-null  category\n",
      " 9   PAY_STATUS_M6  30000 non-null  category\n",
      " 10  PAY_STATUS_M5  30000 non-null  category\n",
      " 11  PAY_STATUS_M4  30000 non-null  category\n",
      " 12  BILL_M9        30000 non-null  int64   \n",
      " 13  BILL_M8        30000 non-null  int64   \n",
      " 14  BILL_M7        30000 non-null  int64   \n",
      " 15  BILL_M6        30000 non-null  int64   \n",
      " 16  BILL_M5        30000 non-null  int64   \n",
      " 17  BILL_M4        30000 non-null  int64   \n",
      " 18  PAID_M9        30000 non-null  int64   \n",
      " 19  PAID_M8        30000 non-null  int64   \n",
      " 20  PAID_M7        30000 non-null  int64   \n",
      " 21  PAID_M6        30000 non-null  int64   \n",
      " 22  PAID_M5        30000 non-null  int64   \n",
      " 23  PAID_M4        30000 non-null  int64   \n",
      " 24  DEFAULT        30000 non-null  category\n",
      "dtypes: category(10), int64(15)\n",
      "memory usage: 3.7 MB\n"
     ]
    }
   ],
   "source": [
    "credit.info() # checking column types; look the changes to category"
   ]
  },
  {
   "cell_type": "code",
   "execution_count": 12,
   "metadata": {},
   "outputs": [],
   "source": [
    "credit.to_csv('fixed_credit.csv') #  as pre-processing has been finished, a csv file (Pandas) is written for later use."
   ]
  },
  {
   "cell_type": "markdown",
   "metadata": {},
   "source": [
    "**EXPLORATORY DATA ANALYSIS (EDA)**\n",
    "\n",
    "It has been written (Mayo, 2017) that \"Exploratory data analysis (EDA) is an integral aspect of any greater data analysis, data science, or machine learning project. Understanding data before working with it isn't just a pretty good idea, it is a priority if you plan on accomplishing anything of consequence.\"\n",
    "\n",
    "EDA usually involves at least some, if not all, of the following:\n",
    "1. Visualization and Statistics about each variable\n",
    "2. Scatter plots comparing the relationships between any two variables\n",
    "3. If needed, visualizing the relationship between many (more than 2) variables\n",
    "4. Checking for collinearity or performing dimensionality reduction "
   ]
  },
  {
   "cell_type": "markdown",
   "metadata": {},
   "source": [
    "**Statistics about each variable**"
   ]
  },
  {
   "cell_type": "code",
   "execution_count": 13,
   "metadata": {},
   "outputs": [
    {
     "data": {
      "text/html": [
       "<div>\n",
       "<style scoped>\n",
       "    .dataframe tbody tr th:only-of-type {\n",
       "        vertical-align: middle;\n",
       "    }\n",
       "\n",
       "    .dataframe tbody tr th {\n",
       "        vertical-align: top;\n",
       "    }\n",
       "\n",
       "    .dataframe thead th {\n",
       "        text-align: right;\n",
       "    }\n",
       "</style>\n",
       "<table border=\"1\" class=\"dataframe\">\n",
       "  <thead>\n",
       "    <tr style=\"text-align: right;\">\n",
       "      <th></th>\n",
       "      <th>ID</th>\n",
       "      <th>LIMIT_BAL</th>\n",
       "      <th>AGE</th>\n",
       "      <th>BILL_M9</th>\n",
       "      <th>BILL_M8</th>\n",
       "      <th>BILL_M7</th>\n",
       "      <th>BILL_M6</th>\n",
       "      <th>BILL_M5</th>\n",
       "      <th>BILL_M4</th>\n",
       "      <th>PAID_M9</th>\n",
       "      <th>PAID_M8</th>\n",
       "      <th>PAID_M7</th>\n",
       "      <th>PAID_M6</th>\n",
       "      <th>PAID_M5</th>\n",
       "      <th>PAID_M4</th>\n",
       "    </tr>\n",
       "  </thead>\n",
       "  <tbody>\n",
       "    <tr>\n",
       "      <th>count</th>\n",
       "      <td>30000.000000</td>\n",
       "      <td>30000.000000</td>\n",
       "      <td>30000.000000</td>\n",
       "      <td>30000.000000</td>\n",
       "      <td>30000.000000</td>\n",
       "      <td>3.000000e+04</td>\n",
       "      <td>30000.000000</td>\n",
       "      <td>30000.000000</td>\n",
       "      <td>30000.000000</td>\n",
       "      <td>30000.000000</td>\n",
       "      <td>3.000000e+04</td>\n",
       "      <td>30000.00000</td>\n",
       "      <td>30000.000000</td>\n",
       "      <td>30000.000000</td>\n",
       "      <td>30000.000000</td>\n",
       "    </tr>\n",
       "    <tr>\n",
       "      <th>mean</th>\n",
       "      <td>15000.500000</td>\n",
       "      <td>167484.322667</td>\n",
       "      <td>35.485500</td>\n",
       "      <td>51223.330900</td>\n",
       "      <td>49179.075167</td>\n",
       "      <td>4.701315e+04</td>\n",
       "      <td>43262.948967</td>\n",
       "      <td>40311.400967</td>\n",
       "      <td>38871.760400</td>\n",
       "      <td>5663.580500</td>\n",
       "      <td>5.921163e+03</td>\n",
       "      <td>5225.68150</td>\n",
       "      <td>4826.076867</td>\n",
       "      <td>4799.387633</td>\n",
       "      <td>5215.502567</td>\n",
       "    </tr>\n",
       "    <tr>\n",
       "      <th>std</th>\n",
       "      <td>8660.398374</td>\n",
       "      <td>129747.661567</td>\n",
       "      <td>9.217904</td>\n",
       "      <td>73635.860576</td>\n",
       "      <td>71173.768783</td>\n",
       "      <td>6.934939e+04</td>\n",
       "      <td>64332.856134</td>\n",
       "      <td>60797.155770</td>\n",
       "      <td>59554.107537</td>\n",
       "      <td>16563.280354</td>\n",
       "      <td>2.304087e+04</td>\n",
       "      <td>17606.96147</td>\n",
       "      <td>15666.159744</td>\n",
       "      <td>15278.305679</td>\n",
       "      <td>17777.465775</td>\n",
       "    </tr>\n",
       "    <tr>\n",
       "      <th>min</th>\n",
       "      <td>1.000000</td>\n",
       "      <td>10000.000000</td>\n",
       "      <td>21.000000</td>\n",
       "      <td>-165580.000000</td>\n",
       "      <td>-69777.000000</td>\n",
       "      <td>-1.572640e+05</td>\n",
       "      <td>-170000.000000</td>\n",
       "      <td>-81334.000000</td>\n",
       "      <td>-339603.000000</td>\n",
       "      <td>0.000000</td>\n",
       "      <td>0.000000e+00</td>\n",
       "      <td>0.00000</td>\n",
       "      <td>0.000000</td>\n",
       "      <td>0.000000</td>\n",
       "      <td>0.000000</td>\n",
       "    </tr>\n",
       "    <tr>\n",
       "      <th>25%</th>\n",
       "      <td>7500.750000</td>\n",
       "      <td>50000.000000</td>\n",
       "      <td>28.000000</td>\n",
       "      <td>3558.750000</td>\n",
       "      <td>2984.750000</td>\n",
       "      <td>2.666250e+03</td>\n",
       "      <td>2326.750000</td>\n",
       "      <td>1763.000000</td>\n",
       "      <td>1256.000000</td>\n",
       "      <td>1000.000000</td>\n",
       "      <td>8.330000e+02</td>\n",
       "      <td>390.00000</td>\n",
       "      <td>296.000000</td>\n",
       "      <td>252.500000</td>\n",
       "      <td>117.750000</td>\n",
       "    </tr>\n",
       "    <tr>\n",
       "      <th>50%</th>\n",
       "      <td>15000.500000</td>\n",
       "      <td>140000.000000</td>\n",
       "      <td>34.000000</td>\n",
       "      <td>22381.500000</td>\n",
       "      <td>21200.000000</td>\n",
       "      <td>2.008850e+04</td>\n",
       "      <td>19052.000000</td>\n",
       "      <td>18104.500000</td>\n",
       "      <td>17071.000000</td>\n",
       "      <td>2100.000000</td>\n",
       "      <td>2.009000e+03</td>\n",
       "      <td>1800.00000</td>\n",
       "      <td>1500.000000</td>\n",
       "      <td>1500.000000</td>\n",
       "      <td>1500.000000</td>\n",
       "    </tr>\n",
       "    <tr>\n",
       "      <th>75%</th>\n",
       "      <td>22500.250000</td>\n",
       "      <td>240000.000000</td>\n",
       "      <td>41.000000</td>\n",
       "      <td>67091.000000</td>\n",
       "      <td>64006.250000</td>\n",
       "      <td>6.016475e+04</td>\n",
       "      <td>54506.000000</td>\n",
       "      <td>50190.500000</td>\n",
       "      <td>49198.250000</td>\n",
       "      <td>5006.000000</td>\n",
       "      <td>5.000000e+03</td>\n",
       "      <td>4505.00000</td>\n",
       "      <td>4013.250000</td>\n",
       "      <td>4031.500000</td>\n",
       "      <td>4000.000000</td>\n",
       "    </tr>\n",
       "    <tr>\n",
       "      <th>max</th>\n",
       "      <td>30000.000000</td>\n",
       "      <td>1000000.000000</td>\n",
       "      <td>79.000000</td>\n",
       "      <td>964511.000000</td>\n",
       "      <td>983931.000000</td>\n",
       "      <td>1.664089e+06</td>\n",
       "      <td>891586.000000</td>\n",
       "      <td>927171.000000</td>\n",
       "      <td>961664.000000</td>\n",
       "      <td>873552.000000</td>\n",
       "      <td>1.684259e+06</td>\n",
       "      <td>896040.00000</td>\n",
       "      <td>621000.000000</td>\n",
       "      <td>426529.000000</td>\n",
       "      <td>528666.000000</td>\n",
       "    </tr>\n",
       "  </tbody>\n",
       "</table>\n",
       "</div>"
      ],
      "text/plain": [
       "                 ID       LIMIT_BAL           AGE        BILL_M9  \\\n",
       "count  30000.000000    30000.000000  30000.000000   30000.000000   \n",
       "mean   15000.500000   167484.322667     35.485500   51223.330900   \n",
       "std     8660.398374   129747.661567      9.217904   73635.860576   \n",
       "min        1.000000    10000.000000     21.000000 -165580.000000   \n",
       "25%     7500.750000    50000.000000     28.000000    3558.750000   \n",
       "50%    15000.500000   140000.000000     34.000000   22381.500000   \n",
       "75%    22500.250000   240000.000000     41.000000   67091.000000   \n",
       "max    30000.000000  1000000.000000     79.000000  964511.000000   \n",
       "\n",
       "             BILL_M8       BILL_M7        BILL_M6        BILL_M5  \\\n",
       "count   30000.000000  3.000000e+04   30000.000000   30000.000000   \n",
       "mean    49179.075167  4.701315e+04   43262.948967   40311.400967   \n",
       "std     71173.768783  6.934939e+04   64332.856134   60797.155770   \n",
       "min    -69777.000000 -1.572640e+05 -170000.000000  -81334.000000   \n",
       "25%      2984.750000  2.666250e+03    2326.750000    1763.000000   \n",
       "50%     21200.000000  2.008850e+04   19052.000000   18104.500000   \n",
       "75%     64006.250000  6.016475e+04   54506.000000   50190.500000   \n",
       "max    983931.000000  1.664089e+06  891586.000000  927171.000000   \n",
       "\n",
       "             BILL_M4        PAID_M9       PAID_M8       PAID_M7  \\\n",
       "count   30000.000000   30000.000000  3.000000e+04   30000.00000   \n",
       "mean    38871.760400    5663.580500  5.921163e+03    5225.68150   \n",
       "std     59554.107537   16563.280354  2.304087e+04   17606.96147   \n",
       "min   -339603.000000       0.000000  0.000000e+00       0.00000   \n",
       "25%      1256.000000    1000.000000  8.330000e+02     390.00000   \n",
       "50%     17071.000000    2100.000000  2.009000e+03    1800.00000   \n",
       "75%     49198.250000    5006.000000  5.000000e+03    4505.00000   \n",
       "max    961664.000000  873552.000000  1.684259e+06  896040.00000   \n",
       "\n",
       "             PAID_M6        PAID_M5        PAID_M4  \n",
       "count   30000.000000   30000.000000   30000.000000  \n",
       "mean     4826.076867    4799.387633    5215.502567  \n",
       "std     15666.159744   15278.305679   17777.465775  \n",
       "min         0.000000       0.000000       0.000000  \n",
       "25%       296.000000     252.500000     117.750000  \n",
       "50%      1500.000000    1500.000000    1500.000000  \n",
       "75%      4013.250000    4031.500000    4000.000000  \n",
       "max    621000.000000  426529.000000  528666.000000  "
      ]
     },
     "execution_count": 13,
     "metadata": {},
     "output_type": "execute_result"
    }
   ],
   "source": [
    "credit.describe() # statistics are calculated"
   ]
  },
  {
   "cell_type": "code",
   "execution_count": 14,
   "metadata": {},
   "outputs": [
    {
     "data": {
      "text/html": [
       "<div>\n",
       "<style scoped>\n",
       "    .dataframe tbody tr th:only-of-type {\n",
       "        vertical-align: middle;\n",
       "    }\n",
       "\n",
       "    .dataframe tbody tr th {\n",
       "        vertical-align: top;\n",
       "    }\n",
       "\n",
       "    .dataframe thead th {\n",
       "        text-align: right;\n",
       "    }\n",
       "</style>\n",
       "<table border=\"1\" class=\"dataframe\">\n",
       "  <thead>\n",
       "    <tr style=\"text-align: right;\">\n",
       "      <th></th>\n",
       "      <th>SEX</th>\n",
       "      <th>EDUCATION</th>\n",
       "      <th>MARRIAGE</th>\n",
       "      <th>PAY_STATUS_M9</th>\n",
       "      <th>PAY_STATUS_M8</th>\n",
       "      <th>PAY_STATUS_M7</th>\n",
       "      <th>PAY_STATUS_M6</th>\n",
       "      <th>PAY_STATUS_M5</th>\n",
       "      <th>PAY_STATUS_M4</th>\n",
       "      <th>DEFAULT</th>\n",
       "    </tr>\n",
       "  </thead>\n",
       "  <tbody>\n",
       "    <tr>\n",
       "      <th>count</th>\n",
       "      <td>30000</td>\n",
       "      <td>30000</td>\n",
       "      <td>30000</td>\n",
       "      <td>30000</td>\n",
       "      <td>30000</td>\n",
       "      <td>30000</td>\n",
       "      <td>30000</td>\n",
       "      <td>30000</td>\n",
       "      <td>30000</td>\n",
       "      <td>30000</td>\n",
       "    </tr>\n",
       "    <tr>\n",
       "      <th>unique</th>\n",
       "      <td>2</td>\n",
       "      <td>4</td>\n",
       "      <td>4</td>\n",
       "      <td>11</td>\n",
       "      <td>11</td>\n",
       "      <td>11</td>\n",
       "      <td>11</td>\n",
       "      <td>10</td>\n",
       "      <td>10</td>\n",
       "      <td>2</td>\n",
       "    </tr>\n",
       "    <tr>\n",
       "      <th>top</th>\n",
       "      <td>female</td>\n",
       "      <td>university</td>\n",
       "      <td>single</td>\n",
       "      <td>use_revolving_credit</td>\n",
       "      <td>use_revolving_credit</td>\n",
       "      <td>use_revolving_credit</td>\n",
       "      <td>use_revolving_credit</td>\n",
       "      <td>use_revolving_credit</td>\n",
       "      <td>use_revolving_credit</td>\n",
       "      <td>False</td>\n",
       "    </tr>\n",
       "    <tr>\n",
       "      <th>freq</th>\n",
       "      <td>18112</td>\n",
       "      <td>14030</td>\n",
       "      <td>15964</td>\n",
       "      <td>14737</td>\n",
       "      <td>15730</td>\n",
       "      <td>15764</td>\n",
       "      <td>16455</td>\n",
       "      <td>16947</td>\n",
       "      <td>16286</td>\n",
       "      <td>23364</td>\n",
       "    </tr>\n",
       "  </tbody>\n",
       "</table>\n",
       "</div>"
      ],
      "text/plain": [
       "           SEX   EDUCATION MARRIAGE         PAY_STATUS_M9  \\\n",
       "count    30000       30000    30000                 30000   \n",
       "unique       2           4        4                    11   \n",
       "top     female  university   single  use_revolving_credit   \n",
       "freq     18112       14030    15964                 14737   \n",
       "\n",
       "               PAY_STATUS_M8         PAY_STATUS_M7         PAY_STATUS_M6  \\\n",
       "count                  30000                 30000                 30000   \n",
       "unique                    11                    11                    11   \n",
       "top     use_revolving_credit  use_revolving_credit  use_revolving_credit   \n",
       "freq                   15730                 15764                 16455   \n",
       "\n",
       "               PAY_STATUS_M5         PAY_STATUS_M4 DEFAULT  \n",
       "count                  30000                 30000   30000  \n",
       "unique                    10                    10       2  \n",
       "top     use_revolving_credit  use_revolving_credit   False  \n",
       "freq                   16947                 16286   23364  "
      ]
     },
     "execution_count": 14,
     "metadata": {},
     "output_type": "execute_result"
    }
   ],
   "source": [
    "credit.describe(include='category') # this includes category for the descriptions"
   ]
  },
  {
   "cell_type": "code",
   "execution_count": 15,
   "metadata": {},
   "outputs": [
    {
     "data": {
      "text/plain": [
       "SEX\n",
       "female    18112\n",
       "male      11888\n",
       "Name: SEX, dtype: int64"
      ]
     },
     "execution_count": 15,
     "metadata": {},
     "output_type": "execute_result"
    }
   ],
   "source": [
    "credit.groupby('SEX')['SEX'].count() # more descriptive analysis: agrupation; example distribution by sex"
   ]
  },
  {
   "cell_type": "code",
   "execution_count": 16,
   "metadata": {},
   "outputs": [
    {
     "data": {
      "text/plain": [
       "DEFAULT\n",
       "False    23364\n",
       "True      6636\n",
       "Name: DEFAULT, dtype: int64"
      ]
     },
     "execution_count": 16,
     "metadata": {},
     "output_type": "execute_result"
    }
   ],
   "source": [
    "credit.groupby('DEFAULT')['DEFAULT'].count() # more descriptive analysis: agrupation; example distribution by sex"
   ]
  },
  {
   "cell_type": "markdown",
   "metadata": {},
   "source": [
    "**Visualizations about each variable**"
   ]
  },
  {
   "cell_type": "markdown",
   "metadata": {},
   "source": [
    "To make visualizations, the first step is have clear the variables available."
   ]
  },
  {
   "cell_type": "code",
   "execution_count": 17,
   "metadata": {},
   "outputs": [
    {
     "name": "stdout",
     "output_type": "stream",
     "text": [
      "Index(['ID', 'LIMIT_BAL', 'SEX', 'EDUCATION', 'MARRIAGE', 'AGE',\n",
      "       'PAY_STATUS_M9', 'PAY_STATUS_M8', 'PAY_STATUS_M7', 'PAY_STATUS_M6',\n",
      "       'PAY_STATUS_M5', 'PAY_STATUS_M4', 'BILL_M9', 'BILL_M8', 'BILL_M7',\n",
      "       'BILL_M6', 'BILL_M5', 'BILL_M4', 'PAID_M9', 'PAID_M8', 'PAID_M7',\n",
      "       'PAID_M6', 'PAID_M5', 'PAID_M4', 'DEFAULT'],\n",
      "      dtype='object')\n"
     ]
    }
   ],
   "source": [
    "header = credit.dtypes.index # Pandas. Confirm column names in dataframe to build plots for each, where needed.\n",
    "print(header)"
   ]
  },
  {
   "cell_type": "code",
   "execution_count": 18,
   "metadata": {},
   "outputs": [
    {
     "data": {
      "image/png": "[encoded data removed]",
      "text/plain": [
       "<Figure size 432x288 with 1 Axes>"
      ]
     },
     "metadata": {
      "needs_background": "light"
     },
     "output_type": "display_data"
    }
   ],
   "source": [
    "plt.hist(credit['LIMIT_BAL']) # first histogram using the .hist method of matplotlib\n",
    "plt.show()"
   ]
  },
  {
   "cell_type": "markdown",
   "metadata": {},
   "source": [
    "After changing the number of bins, it is possible to identify a little peak preferred by high incomers close to 500.000:"
   ]
  },
  {
   "cell_type": "code",
   "execution_count": 19,
   "metadata": {},
   "outputs": [
    {
     "data": {
      "text/plain": [
       "(array([4.311e+03, 4.921e+03, 3.266e+03, 2.792e+03, 2.336e+03, 2.752e+03,\n",
       "        2.555e+03, 1.109e+03, 1.395e+03, 7.580e+02, 1.400e+03, 6.010e+02,\n",
       "        3.290e+02, 4.040e+02, 8.650e+02, 4.900e+01, 4.500e+01, 3.300e+01,\n",
       "        2.700e+01, 1.300e+01, 1.600e+01, 1.100e+01, 7.000e+00, 4.000e+00,\n",
       "        0.000e+00, 0.000e+00, 0.000e+00, 0.000e+00, 0.000e+00, 1.000e+00]),\n",
       " array([  10000.,   43000.,   76000.,  109000.,  142000.,  175000.,\n",
       "         208000.,  241000.,  274000.,  307000.,  340000.,  373000.,\n",
       "         406000.,  439000.,  472000.,  505000.,  538000.,  571000.,\n",
       "         604000.,  637000.,  670000.,  703000.,  736000.,  769000.,\n",
       "         802000.,  835000.,  868000.,  901000.,  934000.,  967000.,\n",
       "        1000000.]),\n",
       " <a list of 30 Patch objects>)"
      ]
     },
     "execution_count": 19,
     "metadata": {},
     "output_type": "execute_result"
    },
    {
     "data": {
      "image/png": "[encoded data removed]",
      "text/plain": [
       "<Figure size 432x288 with 1 Axes>"
      ]
     },
     "metadata": {
      "needs_background": "light"
     },
     "output_type": "display_data"
    }
   ],
   "source": [
    "plt.hist(credit['LIMIT_BAL'], bins=30) #change of number of bins to 30"
   ]
  },
  {
   "cell_type": "code",
   "execution_count": 20,
   "metadata": {},
   "outputs": [
    {
     "name": "stdout",
     "output_type": "stream",
     "text": [
      "(30000, 25)\n"
     ]
    }
   ],
   "source": [
    "print(credit.shape) # this identifies numbes of rows and number of columns"
   ]
  },
  {
   "cell_type": "markdown",
   "metadata": {},
   "source": [
    "Subsetting to graph defaulters vs non-defaulters\n",
    "Link of reference: https://cmdlinetips.com/2018/02/how-to-subset-pandas-dataframe-based-on-values-of-a-column/"
   ]
  },
  {
   "cell_type": "code",
   "execution_count": 21,
   "metadata": {},
   "outputs": [],
   "source": [
    "non_default = credit['DEFAULT']=='False'"
   ]
  },
  {
   "cell_type": "code",
   "execution_count": 22,
   "metadata": {},
   "outputs": [
    {
     "name": "stdout",
     "output_type": "stream",
     "text": [
      "(30000,)\n"
     ]
    }
   ],
   "source": [
    "print(non_default.shape)"
   ]
  },
  {
   "cell_type": "code",
   "execution_count": 23,
   "metadata": {},
   "outputs": [],
   "source": [
    "credit_nondefault = credit[non_default]"
   ]
  },
  {
   "cell_type": "code",
   "execution_count": 24,
   "metadata": {},
   "outputs": [
    {
     "name": "stdout",
     "output_type": "stream",
     "text": [
      "(23364, 25)\n"
     ]
    }
   ],
   "source": [
    "print(credit_nondefault.shape) # this gives the dimension of the dataframe, which is consequent to grouping before."
   ]
  },
  {
   "cell_type": "code",
   "execution_count": 25,
   "metadata": {},
   "outputs": [],
   "source": [
    "is_default = credit['DEFAULT']!='False'"
   ]
  },
  {
   "cell_type": "code",
   "execution_count": 26,
   "metadata": {},
   "outputs": [
    {
     "name": "stdout",
     "output_type": "stream",
     "text": [
      "(30000,)\n"
     ]
    }
   ],
   "source": [
    "print(is_default.shape)"
   ]
  },
  {
   "cell_type": "code",
   "execution_count": 27,
   "metadata": {},
   "outputs": [],
   "source": [
    "credit_default = credit[is_default]"
   ]
  },
  {
   "cell_type": "code",
   "execution_count": 28,
   "metadata": {},
   "outputs": [
    {
     "name": "stdout",
     "output_type": "stream",
     "text": [
      "(6636, 25)\n"
     ]
    }
   ],
   "source": [
    "print(credit_default.shape)"
   ]
  },
  {
   "cell_type": "markdown",
   "metadata": {},
   "source": [
    "A comparison is made by numerical statistics. In the limit balance, the mean is 36% greater in non defaulters."
   ]
  },
  {
   "cell_type": "code",
   "execution_count": 29,
   "metadata": {},
   "outputs": [
    {
     "data": {
      "text/html": [
       "<div>\n",
       "<style scoped>\n",
       "    .dataframe tbody tr th:only-of-type {\n",
       "        vertical-align: middle;\n",
       "    }\n",
       "\n",
       "    .dataframe tbody tr th {\n",
       "        vertical-align: top;\n",
       "    }\n",
       "\n",
       "    .dataframe thead th {\n",
       "        text-align: right;\n",
       "    }\n",
       "</style>\n",
       "<table border=\"1\" class=\"dataframe\">\n",
       "  <thead>\n",
       "    <tr style=\"text-align: right;\">\n",
       "      <th></th>\n",
       "      <th>ID</th>\n",
       "      <th>LIMIT_BAL</th>\n",
       "      <th>AGE</th>\n",
       "      <th>BILL_M9</th>\n",
       "      <th>BILL_M8</th>\n",
       "      <th>BILL_M7</th>\n",
       "      <th>BILL_M6</th>\n",
       "      <th>BILL_M5</th>\n",
       "      <th>BILL_M4</th>\n",
       "      <th>PAID_M9</th>\n",
       "      <th>PAID_M8</th>\n",
       "      <th>PAID_M7</th>\n",
       "      <th>PAID_M6</th>\n",
       "      <th>PAID_M5</th>\n",
       "      <th>PAID_M4</th>\n",
       "    </tr>\n",
       "  </thead>\n",
       "  <tbody>\n",
       "    <tr>\n",
       "      <th>count</th>\n",
       "      <td>6636.000000</td>\n",
       "      <td>6636.000000</td>\n",
       "      <td>6636.000000</td>\n",
       "      <td>6636.000000</td>\n",
       "      <td>6636.000000</td>\n",
       "      <td>6636.000000</td>\n",
       "      <td>6636.000000</td>\n",
       "      <td>6636.000000</td>\n",
       "      <td>6636.000000</td>\n",
       "      <td>6636.000000</td>\n",
       "      <td>6636.000000</td>\n",
       "      <td>6636.000000</td>\n",
       "      <td>6636.000000</td>\n",
       "      <td>6636.000000</td>\n",
       "      <td>6636.000000</td>\n",
       "    </tr>\n",
       "    <tr>\n",
       "      <th>mean</th>\n",
       "      <td>14773.781947</td>\n",
       "      <td>130109.656420</td>\n",
       "      <td>35.725738</td>\n",
       "      <td>48509.162297</td>\n",
       "      <td>47283.617842</td>\n",
       "      <td>45181.598855</td>\n",
       "      <td>42036.950573</td>\n",
       "      <td>39540.190476</td>\n",
       "      <td>38271.435503</td>\n",
       "      <td>3397.044153</td>\n",
       "      <td>3388.649638</td>\n",
       "      <td>3367.351567</td>\n",
       "      <td>3155.626733</td>\n",
       "      <td>3219.139542</td>\n",
       "      <td>3441.482068</td>\n",
       "    </tr>\n",
       "    <tr>\n",
       "      <th>std</th>\n",
       "      <td>8571.616622</td>\n",
       "      <td>115378.540571</td>\n",
       "      <td>9.693438</td>\n",
       "      <td>73782.067220</td>\n",
       "      <td>71651.030364</td>\n",
       "      <td>68516.975738</td>\n",
       "      <td>64351.076092</td>\n",
       "      <td>61424.695949</td>\n",
       "      <td>59579.674268</td>\n",
       "      <td>9544.252427</td>\n",
       "      <td>11737.986064</td>\n",
       "      <td>12959.624486</td>\n",
       "      <td>11191.973162</td>\n",
       "      <td>11944.731175</td>\n",
       "      <td>13464.005894</td>\n",
       "    </tr>\n",
       "    <tr>\n",
       "      <th>min</th>\n",
       "      <td>1.000000</td>\n",
       "      <td>10000.000000</td>\n",
       "      <td>21.000000</td>\n",
       "      <td>-6676.000000</td>\n",
       "      <td>-17710.000000</td>\n",
       "      <td>-61506.000000</td>\n",
       "      <td>-65167.000000</td>\n",
       "      <td>-53007.000000</td>\n",
       "      <td>-339603.000000</td>\n",
       "      <td>0.000000</td>\n",
       "      <td>0.000000</td>\n",
       "      <td>0.000000</td>\n",
       "      <td>0.000000</td>\n",
       "      <td>0.000000</td>\n",
       "      <td>0.000000</td>\n",
       "    </tr>\n",
       "    <tr>\n",
       "      <th>25%</th>\n",
       "      <td>7408.500000</td>\n",
       "      <td>50000.000000</td>\n",
       "      <td>28.000000</td>\n",
       "      <td>2987.750000</td>\n",
       "      <td>2694.000000</td>\n",
       "      <td>2500.000000</td>\n",
       "      <td>2141.500000</td>\n",
       "      <td>1502.750000</td>\n",
       "      <td>1150.000000</td>\n",
       "      <td>0.000000</td>\n",
       "      <td>0.000000</td>\n",
       "      <td>0.000000</td>\n",
       "      <td>0.000000</td>\n",
       "      <td>0.000000</td>\n",
       "      <td>0.000000</td>\n",
       "    </tr>\n",
       "    <tr>\n",
       "      <th>50%</th>\n",
       "      <td>14758.500000</td>\n",
       "      <td>90000.000000</td>\n",
       "      <td>34.000000</td>\n",
       "      <td>20185.000000</td>\n",
       "      <td>20300.500000</td>\n",
       "      <td>19834.500000</td>\n",
       "      <td>19119.500000</td>\n",
       "      <td>18478.500000</td>\n",
       "      <td>18028.500000</td>\n",
       "      <td>1636.000000</td>\n",
       "      <td>1533.500000</td>\n",
       "      <td>1222.000000</td>\n",
       "      <td>1000.000000</td>\n",
       "      <td>1000.000000</td>\n",
       "      <td>1000.000000</td>\n",
       "    </tr>\n",
       "    <tr>\n",
       "      <th>75%</th>\n",
       "      <td>21831.750000</td>\n",
       "      <td>200000.000000</td>\n",
       "      <td>42.000000</td>\n",
       "      <td>59626.500000</td>\n",
       "      <td>57919.750000</td>\n",
       "      <td>54733.750000</td>\n",
       "      <td>50175.750000</td>\n",
       "      <td>47853.000000</td>\n",
       "      <td>47424.000000</td>\n",
       "      <td>3478.250000</td>\n",
       "      <td>3309.750000</td>\n",
       "      <td>3000.000000</td>\n",
       "      <td>2939.250000</td>\n",
       "      <td>3000.000000</td>\n",
       "      <td>2974.500000</td>\n",
       "    </tr>\n",
       "    <tr>\n",
       "      <th>max</th>\n",
       "      <td>30000.000000</td>\n",
       "      <td>740000.000000</td>\n",
       "      <td>75.000000</td>\n",
       "      <td>613860.000000</td>\n",
       "      <td>581775.000000</td>\n",
       "      <td>578971.000000</td>\n",
       "      <td>548020.000000</td>\n",
       "      <td>547880.000000</td>\n",
       "      <td>514975.000000</td>\n",
       "      <td>300000.000000</td>\n",
       "      <td>358689.000000</td>\n",
       "      <td>508229.000000</td>\n",
       "      <td>432130.000000</td>\n",
       "      <td>332000.000000</td>\n",
       "      <td>345293.000000</td>\n",
       "    </tr>\n",
       "  </tbody>\n",
       "</table>\n",
       "</div>"
      ],
      "text/plain": [
       "                 ID      LIMIT_BAL          AGE        BILL_M9        BILL_M8  \\\n",
       "count   6636.000000    6636.000000  6636.000000    6636.000000    6636.000000   \n",
       "mean   14773.781947  130109.656420    35.725738   48509.162297   47283.617842   \n",
       "std     8571.616622  115378.540571     9.693438   73782.067220   71651.030364   \n",
       "min        1.000000   10000.000000    21.000000   -6676.000000  -17710.000000   \n",
       "25%     7408.500000   50000.000000    28.000000    2987.750000    2694.000000   \n",
       "50%    14758.500000   90000.000000    34.000000   20185.000000   20300.500000   \n",
       "75%    21831.750000  200000.000000    42.000000   59626.500000   57919.750000   \n",
       "max    30000.000000  740000.000000    75.000000  613860.000000  581775.000000   \n",
       "\n",
       "             BILL_M7        BILL_M6        BILL_M5        BILL_M4  \\\n",
       "count    6636.000000    6636.000000    6636.000000    6636.000000   \n",
       "mean    45181.598855   42036.950573   39540.190476   38271.435503   \n",
       "std     68516.975738   64351.076092   61424.695949   59579.674268   \n",
       "min    -61506.000000  -65167.000000  -53007.000000 -339603.000000   \n",
       "25%      2500.000000    2141.500000    1502.750000    1150.000000   \n",
       "50%     19834.500000   19119.500000   18478.500000   18028.500000   \n",
       "75%     54733.750000   50175.750000   47853.000000   47424.000000   \n",
       "max    578971.000000  548020.000000  547880.000000  514975.000000   \n",
       "\n",
       "             PAID_M9        PAID_M8        PAID_M7        PAID_M6  \\\n",
       "count    6636.000000    6636.000000    6636.000000    6636.000000   \n",
       "mean     3397.044153    3388.649638    3367.351567    3155.626733   \n",
       "std      9544.252427   11737.986064   12959.624486   11191.973162   \n",
       "min         0.000000       0.000000       0.000000       0.000000   \n",
       "25%         0.000000       0.000000       0.000000       0.000000   \n",
       "50%      1636.000000    1533.500000    1222.000000    1000.000000   \n",
       "75%      3478.250000    3309.750000    3000.000000    2939.250000   \n",
       "max    300000.000000  358689.000000  508229.000000  432130.000000   \n",
       "\n",
       "             PAID_M5        PAID_M4  \n",
       "count    6636.000000    6636.000000  \n",
       "mean     3219.139542    3441.482068  \n",
       "std     11944.731175   13464.005894  \n",
       "min         0.000000       0.000000  \n",
       "25%         0.000000       0.000000  \n",
       "50%      1000.000000    1000.000000  \n",
       "75%      3000.000000    2974.500000  \n",
       "max    332000.000000  345293.000000  "
      ]
     },
     "execution_count": 29,
     "metadata": {},
     "output_type": "execute_result"
    }
   ],
   "source": [
    "credit_default.describe()"
   ]
  },
  {
   "cell_type": "code",
   "execution_count": 30,
   "metadata": {},
   "outputs": [
    {
     "data": {
      "text/html": [
       "<div>\n",
       "<style scoped>\n",
       "    .dataframe tbody tr th:only-of-type {\n",
       "        vertical-align: middle;\n",
       "    }\n",
       "\n",
       "    .dataframe tbody tr th {\n",
       "        vertical-align: top;\n",
       "    }\n",
       "\n",
       "    .dataframe thead th {\n",
       "        text-align: right;\n",
       "    }\n",
       "</style>\n",
       "<table border=\"1\" class=\"dataframe\">\n",
       "  <thead>\n",
       "    <tr style=\"text-align: right;\">\n",
       "      <th></th>\n",
       "      <th>ID</th>\n",
       "      <th>LIMIT_BAL</th>\n",
       "      <th>AGE</th>\n",
       "      <th>BILL_M9</th>\n",
       "      <th>BILL_M8</th>\n",
       "      <th>BILL_M7</th>\n",
       "      <th>BILL_M6</th>\n",
       "      <th>BILL_M5</th>\n",
       "      <th>BILL_M4</th>\n",
       "      <th>PAID_M9</th>\n",
       "      <th>PAID_M8</th>\n",
       "      <th>PAID_M7</th>\n",
       "      <th>PAID_M6</th>\n",
       "      <th>PAID_M5</th>\n",
       "      <th>PAID_M4</th>\n",
       "    </tr>\n",
       "  </thead>\n",
       "  <tbody>\n",
       "    <tr>\n",
       "      <th>count</th>\n",
       "      <td>23364.000000</td>\n",
       "      <td>23364.000000</td>\n",
       "      <td>23364.000000</td>\n",
       "      <td>23364.000000</td>\n",
       "      <td>23364.000000</td>\n",
       "      <td>2.336400e+04</td>\n",
       "      <td>23364.000000</td>\n",
       "      <td>23364.000000</td>\n",
       "      <td>23364.000000</td>\n",
       "      <td>23364.000000</td>\n",
       "      <td>2.336400e+04</td>\n",
       "      <td>23364.000000</td>\n",
       "      <td>23364.000000</td>\n",
       "      <td>23364.000000</td>\n",
       "      <td>23364.000000</td>\n",
       "    </tr>\n",
       "    <tr>\n",
       "      <th>mean</th>\n",
       "      <td>15064.893982</td>\n",
       "      <td>178099.726074</td>\n",
       "      <td>35.417266</td>\n",
       "      <td>51994.227273</td>\n",
       "      <td>49717.435670</td>\n",
       "      <td>4.753337e+04</td>\n",
       "      <td>43611.165254</td>\n",
       "      <td>40530.445343</td>\n",
       "      <td>39042.268704</td>\n",
       "      <td>6307.337357</td>\n",
       "      <td>6.640465e+03</td>\n",
       "      <td>5753.496833</td>\n",
       "      <td>5300.529319</td>\n",
       "      <td>5248.220296</td>\n",
       "      <td>5719.371769</td>\n",
       "    </tr>\n",
       "    <tr>\n",
       "      <th>std</th>\n",
       "      <td>8684.552145</td>\n",
       "      <td>131628.359660</td>\n",
       "      <td>9.077355</td>\n",
       "      <td>73577.606694</td>\n",
       "      <td>71029.946709</td>\n",
       "      <td>6.957666e+04</td>\n",
       "      <td>64324.796730</td>\n",
       "      <td>60617.268112</td>\n",
       "      <td>59547.015717</td>\n",
       "      <td>18014.508990</td>\n",
       "      <td>2.530226e+04</td>\n",
       "      <td>18684.255937</td>\n",
       "      <td>16689.778060</td>\n",
       "      <td>16071.667860</td>\n",
       "      <td>18792.950473</td>\n",
       "    </tr>\n",
       "    <tr>\n",
       "      <th>min</th>\n",
       "      <td>3.000000</td>\n",
       "      <td>10000.000000</td>\n",
       "      <td>21.000000</td>\n",
       "      <td>-165580.000000</td>\n",
       "      <td>-69777.000000</td>\n",
       "      <td>-1.572640e+05</td>\n",
       "      <td>-170000.000000</td>\n",
       "      <td>-81334.000000</td>\n",
       "      <td>-209051.000000</td>\n",
       "      <td>0.000000</td>\n",
       "      <td>0.000000e+00</td>\n",
       "      <td>0.000000</td>\n",
       "      <td>0.000000</td>\n",
       "      <td>0.000000</td>\n",
       "      <td>0.000000</td>\n",
       "    </tr>\n",
       "    <tr>\n",
       "      <th>25%</th>\n",
       "      <td>7526.750000</td>\n",
       "      <td>70000.000000</td>\n",
       "      <td>28.000000</td>\n",
       "      <td>3677.250000</td>\n",
       "      <td>3055.000000</td>\n",
       "      <td>2.769750e+03</td>\n",
       "      <td>2360.000000</td>\n",
       "      <td>1823.000000</td>\n",
       "      <td>1265.500000</td>\n",
       "      <td>1163.750000</td>\n",
       "      <td>1.005000e+03</td>\n",
       "      <td>600.000000</td>\n",
       "      <td>390.000000</td>\n",
       "      <td>369.000000</td>\n",
       "      <td>300.000000</td>\n",
       "    </tr>\n",
       "    <tr>\n",
       "      <th>50%</th>\n",
       "      <td>15073.500000</td>\n",
       "      <td>150000.000000</td>\n",
       "      <td>34.000000</td>\n",
       "      <td>23119.500000</td>\n",
       "      <td>21660.500000</td>\n",
       "      <td>2.020250e+04</td>\n",
       "      <td>19000.000000</td>\n",
       "      <td>17998.000000</td>\n",
       "      <td>16679.000000</td>\n",
       "      <td>2459.500000</td>\n",
       "      <td>2.247500e+03</td>\n",
       "      <td>2000.000000</td>\n",
       "      <td>1734.000000</td>\n",
       "      <td>1765.000000</td>\n",
       "      <td>1706.000000</td>\n",
       "    </tr>\n",
       "    <tr>\n",
       "      <th>75%</th>\n",
       "      <td>22637.250000</td>\n",
       "      <td>250000.000000</td>\n",
       "      <td>41.000000</td>\n",
       "      <td>69027.000000</td>\n",
       "      <td>65686.000000</td>\n",
       "      <td>6.189400e+04</td>\n",
       "      <td>55988.000000</td>\n",
       "      <td>51135.250000</td>\n",
       "      <td>49842.500000</td>\n",
       "      <td>5606.250000</td>\n",
       "      <td>5.311250e+03</td>\n",
       "      <td>5000.000000</td>\n",
       "      <td>4602.000000</td>\n",
       "      <td>4600.000000</td>\n",
       "      <td>4545.000000</td>\n",
       "    </tr>\n",
       "    <tr>\n",
       "      <th>max</th>\n",
       "      <td>29997.000000</td>\n",
       "      <td>1000000.000000</td>\n",
       "      <td>79.000000</td>\n",
       "      <td>964511.000000</td>\n",
       "      <td>983931.000000</td>\n",
       "      <td>1.664089e+06</td>\n",
       "      <td>891586.000000</td>\n",
       "      <td>927171.000000</td>\n",
       "      <td>961664.000000</td>\n",
       "      <td>873552.000000</td>\n",
       "      <td>1.684259e+06</td>\n",
       "      <td>896040.000000</td>\n",
       "      <td>621000.000000</td>\n",
       "      <td>426529.000000</td>\n",
       "      <td>528666.000000</td>\n",
       "    </tr>\n",
       "  </tbody>\n",
       "</table>\n",
       "</div>"
      ],
      "text/plain": [
       "                 ID       LIMIT_BAL           AGE        BILL_M9  \\\n",
       "count  23364.000000    23364.000000  23364.000000   23364.000000   \n",
       "mean   15064.893982   178099.726074     35.417266   51994.227273   \n",
       "std     8684.552145   131628.359660      9.077355   73577.606694   \n",
       "min        3.000000    10000.000000     21.000000 -165580.000000   \n",
       "25%     7526.750000    70000.000000     28.000000    3677.250000   \n",
       "50%    15073.500000   150000.000000     34.000000   23119.500000   \n",
       "75%    22637.250000   250000.000000     41.000000   69027.000000   \n",
       "max    29997.000000  1000000.000000     79.000000  964511.000000   \n",
       "\n",
       "             BILL_M8       BILL_M7        BILL_M6        BILL_M5  \\\n",
       "count   23364.000000  2.336400e+04   23364.000000   23364.000000   \n",
       "mean    49717.435670  4.753337e+04   43611.165254   40530.445343   \n",
       "std     71029.946709  6.957666e+04   64324.796730   60617.268112   \n",
       "min    -69777.000000 -1.572640e+05 -170000.000000  -81334.000000   \n",
       "25%      3055.000000  2.769750e+03    2360.000000    1823.000000   \n",
       "50%     21660.500000  2.020250e+04   19000.000000   17998.000000   \n",
       "75%     65686.000000  6.189400e+04   55988.000000   51135.250000   \n",
       "max    983931.000000  1.664089e+06  891586.000000  927171.000000   \n",
       "\n",
       "             BILL_M4        PAID_M9       PAID_M8        PAID_M7  \\\n",
       "count   23364.000000   23364.000000  2.336400e+04   23364.000000   \n",
       "mean    39042.268704    6307.337357  6.640465e+03    5753.496833   \n",
       "std     59547.015717   18014.508990  2.530226e+04   18684.255937   \n",
       "min   -209051.000000       0.000000  0.000000e+00       0.000000   \n",
       "25%      1265.500000    1163.750000  1.005000e+03     600.000000   \n",
       "50%     16679.000000    2459.500000  2.247500e+03    2000.000000   \n",
       "75%     49842.500000    5606.250000  5.311250e+03    5000.000000   \n",
       "max    961664.000000  873552.000000  1.684259e+06  896040.000000   \n",
       "\n",
       "             PAID_M6        PAID_M5        PAID_M4  \n",
       "count   23364.000000   23364.000000   23364.000000  \n",
       "mean     5300.529319    5248.220296    5719.371769  \n",
       "std     16689.778060   16071.667860   18792.950473  \n",
       "min         0.000000       0.000000       0.000000  \n",
       "25%       390.000000     369.000000     300.000000  \n",
       "50%      1734.000000    1765.000000    1706.000000  \n",
       "75%      4602.000000    4600.000000    4545.000000  \n",
       "max    621000.000000  426529.000000  528666.000000  "
      ]
     },
     "execution_count": 30,
     "metadata": {},
     "output_type": "execute_result"
    }
   ],
   "source": [
    "credit_nondefault.describe()"
   ]
  },
  {
   "cell_type": "markdown",
   "metadata": {},
   "source": [
    "**Bar Graphs** (For categorical variables)"
   ]
  },
  {
   "cell_type": "code",
   "execution_count": 228,
   "metadata": {},
   "outputs": [
    {
     "data": {
      "text/plain": [
       "Text(-8.825000000000003, 0.5, 'Count of customers')"
      ]
     },
     "execution_count": 228,
     "metadata": {},
     "output_type": "execute_result"
    },
    {
     "data": {
      "image/png": "[encoded data removed]",
      "text/plain": [
       "<Figure size 360x360 with 1 Axes>"
      ]
     },
     "metadata": {
      "needs_background": "light"
     },
     "output_type": "display_data"
    },
    {
     "data": {
      "image/png": "[encoded data removed]",
      "text/plain": [
       "<Figure size 360x360 with 1 Axes>"
      ]
     },
     "metadata": {
      "needs_background": "light"
     },
     "output_type": "display_data"
    }
   ],
   "source": [
    "# Comparison by Sex\n",
    "sns.set_palette('coolwarm')\n",
    "sns.catplot(x='SEX', kind='count', data=credit_default)\n",
    "plt.title('Default Customers Box-Plot')\n",
    "plt.ylabel('Count of customers')\n",
    "\n",
    "sns.catplot(x='SEX', kind='count', data=credit_nondefault)\n",
    "plt.title('Default Customers Box-Plot')\n",
    "plt.ylabel('Count of customers')"
   ]
  },
  {
   "cell_type": "code",
   "execution_count": 256,
   "metadata": {},
   "outputs": [
    {
     "data": {
      "text/plain": [
       "SEX\n",
       "female    18112\n",
       "male      11888\n",
       "Name: SEX, dtype: int64"
      ]
     },
     "execution_count": 256,
     "metadata": {},
     "output_type": "execute_result"
    }
   ],
   "source": [
    "credit.groupby('SEX')['SEX'].count() "
   ]
  },
  {
   "cell_type": "code",
   "execution_count": 257,
   "metadata": {},
   "outputs": [
    {
     "data": {
      "text/plain": [
       "SEX\n",
       "female    3763\n",
       "male      2873\n",
       "Name: SEX, dtype: int64"
      ]
     },
     "execution_count": 257,
     "metadata": {},
     "output_type": "execute_result"
    }
   ],
   "source": [
    "credit_default.groupby('SEX')['SEX'].count() "
   ]
  },
  {
   "cell_type": "code",
   "execution_count": 252,
   "metadata": {},
   "outputs": [
    {
     "name": "stdout",
     "output_type": "stream",
     "text": [
      "The Credit One Female Failure Rate is = 20.78 %\n"
     ]
    }
   ],
   "source": [
    "fem_failure_rate = 3763/18112*100\n",
    "fem_failure_rate = format(fem_failure_rate, '.2f')\n",
    "print('The Credit One Female Failure Rate is =',fem_failure_rate, '%')"
   ]
  },
  {
   "cell_type": "code",
   "execution_count": 255,
   "metadata": {},
   "outputs": [
    {
     "name": "stdout",
     "output_type": "stream",
     "text": [
      "The Credit One Male Failure Rate is = 24.17 %\n"
     ]
    }
   ],
   "source": [
    "male_failure_rate = 2873/11888*100\n",
    "male_failure_rate = format(male_failure_rate, '.2f')\n",
    "print('The Credit One Male Failure Rate is =',male_failure_rate, '%')"
   ]
  },
  {
   "cell_type": "code",
   "execution_count": 32,
   "metadata": {},
   "outputs": [
    {
     "data": {
      "image/png": "[encoded data removed]",
      "text/plain": [
       "<Figure size 456x360 with 1 Axes>"
      ]
     },
     "metadata": {
      "needs_background": "light"
     },
     "output_type": "display_data"
    }
   ],
   "source": [
    "# Comparison by Education\n",
    "sns.catplot(x='DEFAULT', hue='EDUCATION', kind='count', data=credit);"
   ]
  },
  {
   "cell_type": "code",
   "execution_count": 33,
   "metadata": {},
   "outputs": [
    {
     "data": {
      "image/png": "[encoded data removed]",
      "text/plain": [
       "<Figure size 435.375x360 with 1 Axes>"
      ]
     },
     "metadata": {
      "needs_background": "light"
     },
     "output_type": "display_data"
    }
   ],
   "source": [
    "# Comparison by Marriage\n",
    "sns.catplot(x='DEFAULT', hue='MARRIAGE', kind='count', data=credit);"
   ]
  },
  {
   "cell_type": "code",
   "execution_count": 259,
   "metadata": {},
   "outputs": [
    {
     "data": {
      "image/png": "[encoded data removed]",
      "text/plain": [
       "<Figure size 499.125x360 with 1 Axes>"
      ]
     },
     "metadata": {
      "needs_background": "light"
     },
     "output_type": "display_data"
    }
   ],
   "source": [
    "# Comparison by Pay Status Month 4 (APRIL)\n",
    "sns.catplot(x='DEFAULT', hue='PAY_STATUS_M4', kind='count', data=credit);"
   ]
  },
  {
   "cell_type": "code",
   "execution_count": 35,
   "metadata": {},
   "outputs": [
    {
     "data": {
      "image/png": "[encoded data removed]",
      "text/plain": [
       "<Figure size 499.125x360 with 1 Axes>"
      ]
     },
     "metadata": {
      "needs_background": "light"
     },
     "output_type": "display_data"
    }
   ],
   "source": [
    "# Comparison by Pay Status Month 9 (SEPT)\n",
    "sns.catplot(x='DEFAULT', hue='PAY_STATUS_M9', kind='count', data=credit);"
   ]
  },
  {
   "cell_type": "markdown",
   "metadata": {},
   "source": [
    "**Histograms** (For continuous variables)"
   ]
  },
  {
   "cell_type": "code",
   "execution_count": 36,
   "metadata": {},
   "outputs": [
    {
     "data": {
      "text/plain": [
       "(array([1.463e+03, 1.210e+03, 7.390e+02, 7.400e+02, 4.940e+02, 3.030e+02,\n",
       "        5.890e+02, 2.480e+02, 1.500e+02, 1.880e+02, 2.180e+02, 4.600e+01,\n",
       "        7.100e+01, 4.800e+01, 1.060e+02, 5.000e+00, 7.000e+00, 2.000e+00,\n",
       "        5.000e+00, 0.000e+00, 1.000e+00, 2.000e+00, 1.000e+00, 0.000e+00,\n",
       "        0.000e+00, 0.000e+00, 0.000e+00, 0.000e+00, 0.000e+00, 0.000e+00]),\n",
       " array([      0.        ,   33333.33333333,   66666.66666667,\n",
       "         100000.        ,  133333.33333333,  166666.66666667,\n",
       "         200000.        ,  233333.33333333,  266666.66666667,\n",
       "         300000.        ,  333333.33333333,  366666.66666667,\n",
       "         400000.        ,  433333.33333333,  466666.66666667,\n",
       "         500000.        ,  533333.33333333,  566666.66666667,\n",
       "         600000.        ,  633333.33333333,  666666.66666667,\n",
       "         700000.        ,  733333.33333333,  766666.66666667,\n",
       "         800000.        ,  833333.33333333,  866666.66666667,\n",
       "         900000.        ,  933333.33333333,  966666.66666667,\n",
       "        1000000.        ]),\n",
       " <a list of 30 Patch objects>)"
      ]
     },
     "execution_count": 36,
     "metadata": {},
     "output_type": "execute_result"
    },
    {
     "data": {
      "image/png": "[encoded data removed]",
      "text/plain": [
       "<Figure size 432x288 with 1 Axes>"
      ]
     },
     "metadata": {
      "needs_background": "light"
     },
     "output_type": "display_data"
    }
   ],
   "source": [
    "plt.hist(credit_default['LIMIT_BAL'], bins=30, color='darkred',range=[0, 1000000]) # range was adjusted to non-defaulters"
   ]
  },
  {
   "cell_type": "code",
   "execution_count": 37,
   "metadata": {},
   "outputs": [
    {
     "data": {
      "text/plain": [
       "(array([2.756e+03, 3.593e+03, 2.465e+03, 2.154e+03, 1.934e+03, 2.257e+03,\n",
       "        2.126e+03, 9.430e+02, 1.178e+03, 6.650e+02, 1.174e+03, 5.320e+02,\n",
       "        2.890e+02, 3.450e+02, 7.700e+02, 4.400e+01, 3.800e+01, 2.800e+01,\n",
       "        2.500e+01, 1.300e+01, 1.500e+01, 9.000e+00, 6.000e+00, 4.000e+00,\n",
       "        0.000e+00, 0.000e+00, 0.000e+00, 0.000e+00, 0.000e+00, 1.000e+00]),\n",
       " array([  10000.,   43000.,   76000.,  109000.,  142000.,  175000.,\n",
       "         208000.,  241000.,  274000.,  307000.,  340000.,  373000.,\n",
       "         406000.,  439000.,  472000.,  505000.,  538000.,  571000.,\n",
       "         604000.,  637000.,  670000.,  703000.,  736000.,  769000.,\n",
       "         802000.,  835000.,  868000.,  901000.,  934000.,  967000.,\n",
       "        1000000.]),\n",
       " <a list of 30 Patch objects>)"
      ]
     },
     "execution_count": 37,
     "metadata": {},
     "output_type": "execute_result"
    },
    {
     "data": {
      "image/png": "[encoded data removed]",
      "text/plain": [
       "<Figure size 432x288 with 1 Axes>"
      ]
     },
     "metadata": {
      "needs_background": "light"
     },
     "output_type": "display_data"
    }
   ],
   "source": [
    "plt.hist(credit_nondefault['LIMIT_BAL'], bins=30, color='darkgreen') "
   ]
  },
  {
   "cell_type": "markdown",
   "metadata": {},
   "source": [
    "Comparison by Age"
   ]
  },
  {
   "cell_type": "code",
   "execution_count": 38,
   "metadata": {},
   "outputs": [
    {
     "data": {
      "text/plain": [
       "(array([1285., 1415., 1380.,  950.,  705.,  564.,  220.,   89.,   21.,\n",
       "           7.]),\n",
       " array([21. , 26.4, 31.8, 37.2, 42.6, 48. , 53.4, 58.8, 64.2, 69.6, 75. ]),\n",
       " <a list of 10 Patch objects>)"
      ]
     },
     "execution_count": 38,
     "metadata": {},
     "output_type": "execute_result"
    },
    {
     "data": {
      "image/png": "[encoded data removed]",
      "text/plain": [
       "<Figure size 432x288 with 1 Axes>"
      ]
     },
     "metadata": {
      "needs_background": "light"
     },
     "output_type": "display_data"
    }
   ],
   "source": [
    "plt.hist(credit_default['AGE'], bins=10, color='darkred')"
   ]
  },
  {
   "cell_type": "code",
   "execution_count": 39,
   "metadata": {},
   "outputs": [
    {
     "data": {
      "text/plain": [
       "(array([3.842e+03, 6.621e+03, 5.165e+03, 3.744e+03, 1.990e+03, 1.382e+03,\n",
       "        4.560e+02, 1.300e+02, 3.000e+01, 4.000e+00]),\n",
       " array([21. , 26.8, 32.6, 38.4, 44.2, 50. , 55.8, 61.6, 67.4, 73.2, 79. ]),\n",
       " <a list of 10 Patch objects>)"
      ]
     },
     "execution_count": 39,
     "metadata": {},
     "output_type": "execute_result"
    },
    {
     "data": {
      "image/png": "[encoded data removed]",
      "text/plain": [
       "<Figure size 432x288 with 1 Axes>"
      ]
     },
     "metadata": {
      "needs_background": "light"
     },
     "output_type": "display_data"
    }
   ],
   "source": [
    "plt.hist(credit_nondefault['AGE'], bins=10, color='darkgreen') "
   ]
  },
  {
   "cell_type": "markdown",
   "metadata": {},
   "source": [
    "**Line Plots**\n",
    "\n",
    "Line plots are often used in EDA to illustrate the range and mode of any given numerical variable. This can be very important for things like preventing bias and model overfit and even identifying collinearity.Creating line plots is made in matplotlib for single variables or multivariate. Lets start by creating a line plot for the same variable we studied previously. For example:"
   ]
  },
  {
   "cell_type": "code",
   "execution_count": 40,
   "metadata": {
    "scrolled": true
   },
   "outputs": [
    {
     "data": {
      "image/png": "[encoded data removed]",
      "text/plain": [
       "<Figure size 432x288 with 1 Axes>"
      ]
     },
     "metadata": {
      "needs_background": "light"
     },
     "output_type": "display_data"
    }
   ],
   "source": [
    "plt.plot(credit['LIMIT_BAL'])\n",
    "plt.show()"
   ]
  },
  {
   "cell_type": "code",
   "execution_count": 41,
   "metadata": {
    "scrolled": true
   },
   "outputs": [
    {
     "data": {
      "image/png": "[encoded data removed]",
      "text/plain": [
       "<Figure size 1080x720 with 6 Axes>"
      ]
     },
     "metadata": {
      "needs_background": "light"
     },
     "output_type": "display_data"
    }
   ],
   "source": [
    "# NON DEFAULTERS. Customers Bills vs Payments !Attention: it takes several minutes to run\n",
    "fig, axes = plt.subplots(2, 3, figsize=(15, 10))\n",
    "\n",
    "for col, ax in zip([('BILL_M4','PAID_M4'),\n",
    "                    ('BILL_M5','PAID_M5'), \n",
    "                    ('BILL_M6','PAID_M6'), \n",
    "                    ('BILL_M7','PAID_M7'),\n",
    "                    ('BILL_M8','PAID_M8'), \n",
    "                    ('BILL_M9','PAID_M9')], axes.flatten()):\n",
    "  #ax.plot(credit_nondefault[[col]])\n",
    "  _bill, _paid = col\n",
    "  sns.lineplot(data=credit_nondefault[[_bill, _paid]], ax=ax)\n",
    "plt.show()"
   ]
  },
  {
   "cell_type": "code",
   "execution_count": 42,
   "metadata": {},
   "outputs": [
    {
     "data": {
      "image/png": "[encoded data removed]",
      "text/plain": [
       "<Figure size 1080x720 with 6 Axes>"
      ]
     },
     "metadata": {
      "needs_background": "light"
     },
     "output_type": "display_data"
    }
   ],
   "source": [
    "# DEFAULTERS. Customers Bills vs Payments !Attention: it takes several minutes to run\n",
    "fig, axes = plt.subplots(2, 3, figsize=(15, 10))\n",
    "\n",
    "for col, ax in zip([('BILL_M4','PAID_M4'),\n",
    "                    ('BILL_M5','PAID_M5'), \n",
    "                    ('BILL_M6','PAID_M6'), \n",
    "                    ('BILL_M7','PAID_M7'),\n",
    "                    ('BILL_M8','PAID_M8'), \n",
    "                    ('BILL_M9','PAID_M9')], axes.flatten()):\n",
    "  #ax.plot(credit_default[[col]])\n",
    "  _bill, _paid = col\n",
    "  sns.lineplot(data=credit_default[[_bill, _paid]], ax=ax)\n",
    "plt.show()"
   ]
  },
  {
   "cell_type": "markdown",
   "metadata": {},
   "source": [
    "**Visualizing the relationship between variables**\n",
    "\n",
    "**Scatter plots**"
   ]
  },
  {
   "cell_type": "markdown",
   "metadata": {},
   "source": [
    "Scatter plots are very useful for comparing two features (bivariate and multiple features (multivariate) to each other. This is very useful for understanding any possible relationships between the data, but as you are aware, does not always point to any causal relationship.\n",
    "\n",
    "The following graphs, show that defaulters and non-defaulters behave different. Both groups tend to remain with the bill but visually and taking into account proportion there more point below the 45° angle in non-defaulters vs defaulters."
   ]
  },
  {
   "cell_type": "code",
   "execution_count": 90,
   "metadata": {},
   "outputs": [
    {
     "data": {
      "image/png": "[encoded data removed]",
      "text/plain": [
       "<Figure size 720x720 with 1 Axes>"
      ]
     },
     "metadata": {
      "needs_background": "light"
     },
     "output_type": "display_data"
    }
   ],
   "source": [
    "# Set of features\n",
    "x = credit_default['BILL_M4']\n",
    "y = credit_default['BILL_M9']\n",
    "plt.figure(figsize=(10,10))\n",
    "plt.xlim(0, 600000) # adjustment axis range after graphing  default and non default, without outliers and same scale\n",
    "plt.ylim(0, 600000)\n",
    "\n",
    "# Use matplotlib to create the scatter plot using the two variables for the X and Y axes\n",
    "plt.scatter(x,y,s=2,color='darkred')\n",
    "plt.show()"
   ]
  },
  {
   "cell_type": "code",
   "execution_count": 91,
   "metadata": {},
   "outputs": [
    {
     "data": {
      "image/png": "[encoded data removed]",
      "text/plain": [
       "<Figure size 720x720 with 1 Axes>"
      ]
     },
     "metadata": {
      "needs_background": "light"
     },
     "output_type": "display_data"
    }
   ],
   "source": [
    "# Set of features\n",
    "x = credit_nondefault['BILL_M4']\n",
    "y = credit_nondefault['BILL_M9']\n",
    "plt.figure(figsize=(10,10))\n",
    "plt.xlim(0, 600000)\n",
    "plt.ylim(0, 600000)\n",
    "\n",
    "# Use matplotlib to create the scatter plot using the two variables for the X and Y axes\n",
    "plt.scatter(x,y,s=2,color='darkgreen')\n",
    "plt.show()"
   ]
  },
  {
   "cell_type": "markdown",
   "metadata": {},
   "source": [
    "**Box plots**\n",
    "\n",
    "Also called Box and Whisker Plots, are very useful for quickly visualizing where the bulk of the data is in any given feature ad are also very useful for identifying feature with outliers or extreme variances in the observations. Understanding what features might contain outliers is important in Data Science and Machine Learning."
   ]
  },
  {
   "cell_type": "code",
   "execution_count": 93,
   "metadata": {},
   "outputs": [
    {
     "name": "stdout",
     "output_type": "stream",
     "text": [
      "Index(['ID', 'LIMIT_BAL', 'SEX', 'EDUCATION', 'MARRIAGE', 'AGE',\n",
      "       'PAY_STATUS_M9', 'PAY_STATUS_M8', 'PAY_STATUS_M7', 'PAY_STATUS_M6',\n",
      "       'PAY_STATUS_M5', 'PAY_STATUS_M4', 'BILL_M9', 'BILL_M8', 'BILL_M7',\n",
      "       'BILL_M6', 'BILL_M5', 'BILL_M4', 'PAID_M9', 'PAID_M8', 'PAID_M7',\n",
      "       'PAID_M6', 'PAID_M5', 'PAID_M4', 'DEFAULT'],\n",
      "      dtype='object')\n"
     ]
    }
   ],
   "source": [
    "# Remembering the name of the columns to choose one\n",
    "header = credit.dtypes.index\n",
    "print(header)"
   ]
  },
  {
   "cell_type": "code",
   "execution_count": 166,
   "metadata": {},
   "outputs": [
    {
     "data": {
      "text/plain": [
       "Text(0, 0.5, 'Total credit limit (NT$)')"
      ]
     },
     "execution_count": 166,
     "metadata": {},
     "output_type": "execute_result"
    },
    {
     "data": {
      "image/png": "[encoded data removed]",
      "text/plain": [
       "<Figure size 432x288 with 1 Axes>"
      ]
     },
     "metadata": {
      "needs_background": "light"
     },
     "output_type": "display_data"
    }
   ],
   "source": [
    "A = credit['LIMIT_BAL']\n",
    "plt.boxplot(A,0,'bD')\n",
    "plt.title('Total Customers Box-Plot')\n",
    "plt.ylabel('Total credit limit (NT$)')"
   ]
  },
  {
   "cell_type": "code",
   "execution_count": 176,
   "metadata": {},
   "outputs": [
    {
     "data": {
      "text/plain": [
       "Text(0, 0.5, 'Total credit limit (NT$)')"
      ]
     },
     "execution_count": 176,
     "metadata": {},
     "output_type": "execute_result"
    },
    {
     "data": {
      "image/png": "[encoded data removed]",
      "text/plain": [
       "<Figure size 432x288 with 2 Axes>"
      ]
     },
     "metadata": {
      "needs_background": "light"
     },
     "output_type": "display_data"
    }
   ],
   "source": [
    "B = credit_default['LIMIT_BAL']\n",
    "plt.subplot(2,3,4)\n",
    "plt.boxplot(B,0,'rD')\n",
    "plt.ylim(0, 1000000)\n",
    "plt.title('Default Customers Box-Plot')\n",
    "plt.ylabel('Total credit limit (NT$)')\n",
    "\n",
    "C = credit_nondefault['LIMIT_BAL']\n",
    "plt.subplot(2,3,6)\n",
    "plt.boxplot(C,0,'gD')\n",
    "plt.title('Non-Default Customers Box-Plot')\n",
    "plt.ylabel('Total credit limit (NT$)')\n"
   ]
  },
  {
   "cell_type": "markdown",
   "metadata": {},
   "source": [
    "**Checking for collinearity or performing dimensionality reduction**\n",
    "\n",
    "**Correlation**\n",
    "\n",
    "Whether addressing collinearity or checking for relationships between features for selection or engineering, calculating correlation is a vital part of all Data Science projects and it is easy to do using pandas or even numpy."
   ]
  },
  {
   "cell_type": "code",
   "execution_count": 208,
   "metadata": {},
   "outputs": [
    {
     "name": "stdout",
     "output_type": "stream",
     "text": [
      "              LIMIT_BAL            AGE       BILL_M9       BILL_M8  \\\n",
      "LIMIT_BAL  1.683446e+10  173076.722569  2.727020e+09  2.570130e+09   \n",
      "AGE        1.730767e+05      84.969755  3.817293e+04  3.561366e+04   \n",
      "BILL_M9    2.727020e+09   38172.933546  5.422240e+09  4.986670e+09   \n",
      "BILL_M8    2.570130e+09   35613.657962  4.986670e+09  5.065705e+09   \n",
      "BILL_M7    2.548533e+09   34334.251320  4.556511e+09  4.582086e+09   \n",
      "BILL_M6    2.453926e+09   30453.108180  4.075286e+09  4.086508e+09   \n",
      "BILL_M5    2.331481e+09   27654.067800  3.714795e+09  3.720401e+09   \n",
      "BILL_M4    2.243837e+09   26137.648547  3.519876e+09  3.524868e+09   \n",
      "PAID_M9    4.195711e+08    3992.041735  1.710894e+08  3.305146e+08   \n",
      "PAID_M8    5.333504e+08    4626.861549  1.685692e+08  1.653859e+08   \n",
      "PAID_M7    4.801180e+08    4746.824393  2.034048e+08  1.888731e+08   \n",
      "PAID_M6    4.131202e+08    3087.324192  1.826164e+08  1.643518e+08   \n",
      "PAID_M5    4.305657e+08    3218.052172  1.879091e+08  1.717652e+08   \n",
      "PAID_M4    5.065153e+08    3191.903901  2.347681e+08  2.204845e+08   \n",
      "\n",
      "                BILL_M7       BILL_M6       BILL_M5       BILL_M4  \\\n",
      "LIMIT_BAL  2.548533e+09  2.453926e+09  2.331481e+09  2.243837e+09   \n",
      "AGE        3.433425e+04  3.045311e+04  2.765407e+04  2.613765e+04   \n",
      "BILL_M9    4.556511e+09  4.075286e+09  3.714795e+09  3.519876e+09   \n",
      "BILL_M8    4.582086e+09  4.086508e+09  3.720401e+09  3.524868e+09   \n",
      "BILL_M7    4.809338e+09  4.122238e+09  3.726780e+09  3.524247e+09   \n",
      "BILL_M6    4.122238e+09  4.138716e+09  3.677105e+09  3.451762e+09   \n",
      "BILL_M5    3.726780e+09  3.677105e+09  3.696294e+09  3.425914e+09   \n",
      "BILL_M4    3.524247e+09  3.451762e+09  3.425914e+09  3.546692e+09   \n",
      "PAID_M9    2.806565e+08  2.482888e+08  2.185501e+08  1.972478e+08   \n",
      "PAID_M8    5.064226e+08  3.076686e+08  2.538936e+08  2.369244e+08   \n",
      "PAID_M7    1.587478e+08  3.398374e+08  2.700805e+08  2.451233e+08   \n",
      "PAID_M6    1.558003e+08  1.312133e+08  2.791830e+08  2.334670e+08   \n",
      "PAID_M5    1.904126e+08  1.576892e+08  1.315051e+08  2.799982e+08   \n",
      "PAID_M4    2.247817e+08  2.031590e+08  1.774537e+08  1.222761e+08   \n",
      "\n",
      "                PAID_M9       PAID_M8       PAID_M7       PAID_M6  \\\n",
      "LIMIT_BAL  4.195711e+08  5.333504e+08  4.801180e+08  4.131202e+08   \n",
      "AGE        3.992042e+03  4.626862e+03  4.746824e+03  3.087324e+03   \n",
      "BILL_M9    1.710894e+08  1.685692e+08  2.034048e+08  1.826164e+08   \n",
      "BILL_M8    3.305146e+08  1.653859e+08  1.888731e+08  1.643518e+08   \n",
      "BILL_M7    2.806565e+08  5.064226e+08  1.587478e+08  1.558003e+08   \n",
      "BILL_M6    2.482888e+08  3.076686e+08  3.398374e+08  1.312133e+08   \n",
      "BILL_M5    2.185501e+08  2.538936e+08  2.700805e+08  2.791830e+08   \n",
      "BILL_M4    1.972478e+08  2.369244e+08  2.451233e+08  2.334670e+08   \n",
      "PAID_M9    2.743423e+08  1.089849e+08  7.354626e+07  5.178189e+07   \n",
      "PAID_M8    1.089849e+08  5.308817e+08  9.929841e+07  6.501168e+07   \n",
      "PAID_M7    7.354626e+07  9.929841e+07  3.100051e+08  5.966970e+07   \n",
      "PAID_M6    5.178189e+07  6.501168e+07  5.966970e+07  2.454286e+08   \n",
      "PAID_M5    3.756893e+07  6.368414e+07  4.282921e+07  3.634098e+07   \n",
      "PAID_M4    5.469033e+07  6.456816e+07  5.093879e+07  4.395747e+07   \n",
      "\n",
      "                PAID_M5       PAID_M4  \n",
      "LIMIT_BAL  4.305657e+08  5.065153e+08  \n",
      "AGE        3.218052e+03  3.191904e+03  \n",
      "BILL_M9    1.879091e+08  2.347681e+08  \n",
      "BILL_M8    1.717652e+08  2.204845e+08  \n",
      "BILL_M7    1.904126e+08  2.247817e+08  \n",
      "BILL_M6    1.576892e+08  2.031590e+08  \n",
      "BILL_M5    1.315051e+08  1.774537e+08  \n",
      "BILL_M4    2.799982e+08  1.222761e+08  \n",
      "PAID_M9    3.756893e+07  5.469033e+07  \n",
      "PAID_M8    6.368414e+07  6.456816e+07  \n",
      "PAID_M7    4.282921e+07  5.093879e+07  \n",
      "PAID_M6    3.634098e+07  4.395747e+07  \n",
      "PAID_M5    2.334266e+08  4.207110e+07  \n",
      "PAID_M4    4.207110e+07  3.160383e+08  \n"
     ]
    }
   ],
   "source": [
    "# To understand the strength of relationships between any two variables \n",
    "credit_var = credit.iloc[:,1:24] # use of iloc to exclude ID as a variable\n",
    "corrMat = credit_var.cov()\n",
    "print(corrMat)"
   ]
  },
  {
   "cell_type": "markdown",
   "metadata": {},
   "source": [
    "**Covariance**\n",
    "\n",
    "Covariance is often used to gauge the linear degree of change between two variables. Covariance can be used to measure how changes in one variable are associated with changes in a second variable. It is important when studying the impact various features might have on default rates."
   ]
  },
  {
   "cell_type": "code",
   "execution_count": 207,
   "metadata": {},
   "outputs": [
    {
     "name": "stdout",
     "output_type": "stream",
     "text": [
      "              LIMIT_BAL            AGE       BILL_M9       BILL_M8  \\\n",
      "LIMIT_BAL  1.683446e+10  173076.722569  2.727020e+09  2.570130e+09   \n",
      "AGE        1.730767e+05      84.969755  3.817293e+04  3.561366e+04   \n",
      "BILL_M9    2.727020e+09   38172.933546  5.422240e+09  4.986670e+09   \n",
      "BILL_M8    2.570130e+09   35613.657962  4.986670e+09  5.065705e+09   \n",
      "BILL_M7    2.548533e+09   34334.251320  4.556511e+09  4.582086e+09   \n",
      "BILL_M6    2.453926e+09   30453.108180  4.075286e+09  4.086508e+09   \n",
      "BILL_M5    2.331481e+09   27654.067800  3.714795e+09  3.720401e+09   \n",
      "BILL_M4    2.243837e+09   26137.648547  3.519876e+09  3.524868e+09   \n",
      "PAID_M9    4.195711e+08    3992.041735  1.710894e+08  3.305146e+08   \n",
      "PAID_M8    5.333504e+08    4626.861549  1.685692e+08  1.653859e+08   \n",
      "PAID_M7    4.801180e+08    4746.824393  2.034048e+08  1.888731e+08   \n",
      "PAID_M6    4.131202e+08    3087.324192  1.826164e+08  1.643518e+08   \n",
      "PAID_M5    4.305657e+08    3218.052172  1.879091e+08  1.717652e+08   \n",
      "PAID_M4    5.065153e+08    3191.903901  2.347681e+08  2.204845e+08   \n",
      "\n",
      "                BILL_M7       BILL_M6       BILL_M5       BILL_M4  \\\n",
      "LIMIT_BAL  2.548533e+09  2.453926e+09  2.331481e+09  2.243837e+09   \n",
      "AGE        3.433425e+04  3.045311e+04  2.765407e+04  2.613765e+04   \n",
      "BILL_M9    4.556511e+09  4.075286e+09  3.714795e+09  3.519876e+09   \n",
      "BILL_M8    4.582086e+09  4.086508e+09  3.720401e+09  3.524868e+09   \n",
      "BILL_M7    4.809338e+09  4.122238e+09  3.726780e+09  3.524247e+09   \n",
      "BILL_M6    4.122238e+09  4.138716e+09  3.677105e+09  3.451762e+09   \n",
      "BILL_M5    3.726780e+09  3.677105e+09  3.696294e+09  3.425914e+09   \n",
      "BILL_M4    3.524247e+09  3.451762e+09  3.425914e+09  3.546692e+09   \n",
      "PAID_M9    2.806565e+08  2.482888e+08  2.185501e+08  1.972478e+08   \n",
      "PAID_M8    5.064226e+08  3.076686e+08  2.538936e+08  2.369244e+08   \n",
      "PAID_M7    1.587478e+08  3.398374e+08  2.700805e+08  2.451233e+08   \n",
      "PAID_M6    1.558003e+08  1.312133e+08  2.791830e+08  2.334670e+08   \n",
      "PAID_M5    1.904126e+08  1.576892e+08  1.315051e+08  2.799982e+08   \n",
      "PAID_M4    2.247817e+08  2.031590e+08  1.774537e+08  1.222761e+08   \n",
      "\n",
      "                PAID_M9       PAID_M8       PAID_M7       PAID_M6  \\\n",
      "LIMIT_BAL  4.195711e+08  5.333504e+08  4.801180e+08  4.131202e+08   \n",
      "AGE        3.992042e+03  4.626862e+03  4.746824e+03  3.087324e+03   \n",
      "BILL_M9    1.710894e+08  1.685692e+08  2.034048e+08  1.826164e+08   \n",
      "BILL_M8    3.305146e+08  1.653859e+08  1.888731e+08  1.643518e+08   \n",
      "BILL_M7    2.806565e+08  5.064226e+08  1.587478e+08  1.558003e+08   \n",
      "BILL_M6    2.482888e+08  3.076686e+08  3.398374e+08  1.312133e+08   \n",
      "BILL_M5    2.185501e+08  2.538936e+08  2.700805e+08  2.791830e+08   \n",
      "BILL_M4    1.972478e+08  2.369244e+08  2.451233e+08  2.334670e+08   \n",
      "PAID_M9    2.743423e+08  1.089849e+08  7.354626e+07  5.178189e+07   \n",
      "PAID_M8    1.089849e+08  5.308817e+08  9.929841e+07  6.501168e+07   \n",
      "PAID_M7    7.354626e+07  9.929841e+07  3.100051e+08  5.966970e+07   \n",
      "PAID_M6    5.178189e+07  6.501168e+07  5.966970e+07  2.454286e+08   \n",
      "PAID_M5    3.756893e+07  6.368414e+07  4.282921e+07  3.634098e+07   \n",
      "PAID_M4    5.469033e+07  6.456816e+07  5.093879e+07  4.395747e+07   \n",
      "\n",
      "                PAID_M5       PAID_M4  \n",
      "LIMIT_BAL  4.305657e+08  5.065153e+08  \n",
      "AGE        3.218052e+03  3.191904e+03  \n",
      "BILL_M9    1.879091e+08  2.347681e+08  \n",
      "BILL_M8    1.717652e+08  2.204845e+08  \n",
      "BILL_M7    1.904126e+08  2.247817e+08  \n",
      "BILL_M6    1.576892e+08  2.031590e+08  \n",
      "BILL_M5    1.315051e+08  1.774537e+08  \n",
      "BILL_M4    2.799982e+08  1.222761e+08  \n",
      "PAID_M9    3.756893e+07  5.469033e+07  \n",
      "PAID_M8    6.368414e+07  6.456816e+07  \n",
      "PAID_M7    4.282921e+07  5.093879e+07  \n",
      "PAID_M6    3.634098e+07  4.395747e+07  \n",
      "PAID_M5    2.334266e+08  4.207110e+07  \n",
      "PAID_M4    4.207110e+07  3.160383e+08  \n"
     ]
    }
   ],
   "source": [
    "credit_var = credit.iloc[:,1:24] #u\n",
    "covMat = credit_var.cov()\n",
    "print(covMat)"
   ]
  },
  {
   "cell_type": "code",
   "execution_count": 206,
   "metadata": {},
   "outputs": [
    {
     "name": "stdout",
     "output_type": "stream",
     "text": [
      "<class 'pandas.core.frame.DataFrame'>\n",
      "RangeIndex: 30000 entries, 0 to 29999\n",
      "Data columns (total 25 columns):\n",
      " #   Column         Non-Null Count  Dtype   \n",
      "---  ------         --------------  -----   \n",
      " 0   ID             30000 non-null  int64   \n",
      " 1   LIMIT_BAL      30000 non-null  int64   \n",
      " 2   SEX            30000 non-null  category\n",
      " 3   EDUCATION      30000 non-null  category\n",
      " 4   MARRIAGE       30000 non-null  category\n",
      " 5   AGE            30000 non-null  int64   \n",
      " 6   PAY_STATUS_M9  30000 non-null  category\n",
      " 7   PAY_STATUS_M8  30000 non-null  category\n",
      " 8   PAY_STATUS_M7  30000 non-null  category\n",
      " 9   PAY_STATUS_M6  30000 non-null  category\n",
      " 10  PAY_STATUS_M5  30000 non-null  category\n",
      " 11  PAY_STATUS_M4  30000 non-null  category\n",
      " 12  BILL_M9        30000 non-null  int64   \n",
      " 13  BILL_M8        30000 non-null  int64   \n",
      " 14  BILL_M7        30000 non-null  int64   \n",
      " 15  BILL_M6        30000 non-null  int64   \n",
      " 16  BILL_M5        30000 non-null  int64   \n",
      " 17  BILL_M4        30000 non-null  int64   \n",
      " 18  PAID_M9        30000 non-null  int64   \n",
      " 19  PAID_M8        30000 non-null  int64   \n",
      " 20  PAID_M7        30000 non-null  int64   \n",
      " 21  PAID_M6        30000 non-null  int64   \n",
      " 22  PAID_M5        30000 non-null  int64   \n",
      " 23  PAID_M4        30000 non-null  int64   \n",
      " 24  DEFAULT        30000 non-null  category\n",
      "dtypes: category(10), int64(15)\n",
      "memory usage: 3.7 MB\n"
     ]
    }
   ],
   "source": [
    "credit.info()"
   ]
  },
  {
   "cell_type": "markdown",
   "metadata": {},
   "source": [
    "## Part II: Lesssons Learned Report"
   ]
  },
  {
   "cell_type": "markdown",
   "metadata": {},
   "source": [
    "**Lessons learned of potential business value from this analysis**\n",
    "\n",
    "Exploratory Data Analysis are indispensable. Visualizations are important to detect possible patterns that are gold (that is why is named datamining) before taking the next step of building and evaluating models. I initiated with some possible hypothesis in my head and ended with new questions which can be a base to experiment. I used many techniques: box-plot, histogram, scatter plot; but there are more to deep in: multi-vari chart, run chart (lines chart), pareto chart, stem and leaf plot, paralell coordinates, odds ratio, targeted projection pursuit (I cannot wait to try this one as it is interactive), among others. \n",
    "\n",
    "**Main lessons learned from this experience**\n",
    "\n",
    "I love Python; it is more versatile and straightforward when compared to R; but it is a little bit more complicated in concepts associated with object-programming. Writing down everything just as I have being doing is always very valuable way to learn and confirm concepts. \n",
    "\n",
    "**Recommendations to Guido regarding your findings**\n",
    "\n",
    "The problem of increase in customer default rates which is bad for Credit One: This can be diminished by developing a model which can identify the probability of default based on variables; which I recommend to be the next step, then make a plan of action according to different ranges of probability; this is assigning more loans to the ones that are more probable of not defaulting. \n",
    "Revenue and customer loss for clients and, eventually, loss of clients for Credit One: In the EDA, there is a clear behavior of customers increasing their debt through time. Even though behavior cannot be changed, it can be modified, by revising limits of credits.\n",
    "\n",
    "**How to ensure that customers can/will pay their loans? Can we do this?**\n",
    "\n",
    "We cannnot change control customer spending habits, but we can limit them. According to data, male default rate is almost 4% greater than female. This means that if we have resources we can assign it for example to give education or promotions to pay to males."
   ]
  },
  {
   "cell_type": "code",
   "execution_count": null,
   "metadata": {},
   "outputs": [],
   "source": []
  }
 ],
 "metadata": {
  "kernelspec": {
   "display_name": "Python 3",
   "language": "python",
   "name": "python3"
  },
  "language_info": {
   "codemirror_mode": {
    "name": "ipython",
    "version": 3
   },
   "file_extension": ".py",
   "mimetype": "text/x-python",
   "name": "python",
   "nbconvert_exporter": "python",
   "pygments_lexer": "ipython3",
   "version": "3.7.6"
  }
 },
 "nbformat": 4,
 "nbformat_minor": 2
}
