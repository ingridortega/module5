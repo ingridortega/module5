{
 "cells": [
  {
   "cell_type": "markdown",
   "metadata": {},
   "source": [
    "# TASK 5.3 BUILD AND EVALUATE MODELS\n",
    "\n",
    "**Contents of this notebook:** Part I: Plan of attack tutorial, Part II: Application to Credit-One classification problem.\n",
    "\n",
    "## Part I: Plan of attack tutorial\n",
    "\n",
    "What separates Data Science from Data Analytics is creative problem-solving skills which include learning new skills to solve a problem, like in this case from Sci-Kit Learn resources. \n",
    "\n",
    "**Learnings** \n",
    "1. Selecting and dividing the data.\n",
    "2. Building the models and choosing the right model.\n",
    "3. Making predictions and evaluating the results.\n",
    "\n",
    "Sci-Kit Learn library: pip install scipy (in Anaconda prompt). It is equivalent to caret but: faster, pipeline easier, models can be serialized for deployment, more metrics , feature & variable selection in form of indices, data in arrays.\n",
    "\n",
    "**Data Structure:** A dataset is a dictionary-like object that holds all the data and some metadata about the data. This data is stored in the .data member, which is a n_samples, n_features array. In supervised problem, one or more response variables are stored in the .target member."
   ]
  },
  {
   "cell_type": "markdown",
   "metadata": {},
   "source": [
    "4 sections required by Sci-Kit Learn:\n",
    "\n",
    "| Type | Features | Dependent(Outcomes) |\n",
    "| --- | --- | --- |\n",
    "| Train data(eg.75%) | x_train | y_train |\n",
    "| Test data(eg.75%) | x_test | y_test (groundtruth) |"
   ]
  },
  {
   "cell_type": "markdown",
   "metadata": {},
   "source": [
    "## 1. Selecting and dividing the data\n",
    "**STEPS**\n",
    "\n",
    "**Step 1.1:** Start a new notebook and name it.\n",
    "\n",
    "**Step 1.2:** Import libraries."
   ]
  },
  {
   "cell_type": "code",
   "execution_count": 1,
   "metadata": {},
   "outputs": [],
   "source": [
    "#imports\n",
    "#numpy, pandas, scipy, sklearn, sqrt, matplotlib, tabulate, seaborn\n",
    "import numpy as np\n",
    "import pandas as pd\n",
    "import scipy #scipy: \"Scientific computing tools for Python\"\n",
    "import sklearn\n",
    "from math import sqrt\n",
    "import matplotlib.pyplot as plt\n",
    "from tabulate import tabulate #to tabulate final results\n",
    "import seaborn as sns\n",
    "\n",
    "#estimators\n",
    "from sklearn.ensemble import RandomForestRegressor\n",
    "from sklearn.linear_model import LinearRegression\n",
    "from sklearn.svm import SVR\n",
    "from sklearn import linear_model\n",
    "\n",
    "#model metrics\n",
    "from sklearn.metrics import mean_squared_error\n",
    "from sklearn.metrics import r2_score\n",
    "from sklearn.model_selection import cross_val_score\n",
    "\n",
    "#cross validation\n",
    "from sklearn.model_selection import train_test_split #plan of attack: \"from sklearn.cross_validation\""
   ]
  },
  {
   "cell_type": "markdown",
   "metadata": {},
   "source": [
    "**Step 1.3:** Import preprocessed and cleaned data"
   ]
  },
  {
   "cell_type": "code",
   "execution_count": 2,
   "metadata": {},
   "outputs": [
    {
     "data": {
      "text/html": [
       "<div>\n",
       "<style scoped>\n",
       "    .dataframe tbody tr th:only-of-type {\n",
       "        vertical-align: middle;\n",
       "    }\n",
       "\n",
       "    .dataframe tbody tr th {\n",
       "        vertical-align: top;\n",
       "    }\n",
       "\n",
       "    .dataframe thead th {\n",
       "        text-align: right;\n",
       "    }\n",
       "</style>\n",
       "<table border=\"1\" class=\"dataframe\">\n",
       "  <thead>\n",
       "    <tr style=\"text-align: right;\">\n",
       "      <th></th>\n",
       "      <th>ID</th>\n",
       "      <th>LIMIT_BAL</th>\n",
       "      <th>SEX</th>\n",
       "      <th>EDUCATION</th>\n",
       "      <th>MARRIAGE</th>\n",
       "      <th>AGE</th>\n",
       "      <th>PAY_0</th>\n",
       "      <th>PAY_2</th>\n",
       "      <th>PAY_3</th>\n",
       "      <th>PAY_4</th>\n",
       "      <th>...</th>\n",
       "      <th>BILL_AMT4</th>\n",
       "      <th>BILL_AMT5</th>\n",
       "      <th>BILL_AMT6</th>\n",
       "      <th>PAY_AMT1</th>\n",
       "      <th>PAY_AMT2</th>\n",
       "      <th>PAY_AMT3</th>\n",
       "      <th>PAY_AMT4</th>\n",
       "      <th>PAY_AMT5</th>\n",
       "      <th>PAY_AMT6</th>\n",
       "      <th>default payment next month</th>\n",
       "    </tr>\n",
       "  </thead>\n",
       "  <tbody>\n",
       "    <tr>\n",
       "      <th>0</th>\n",
       "      <td>1</td>\n",
       "      <td>20000</td>\n",
       "      <td>2</td>\n",
       "      <td>2</td>\n",
       "      <td>1</td>\n",
       "      <td>24</td>\n",
       "      <td>2</td>\n",
       "      <td>2</td>\n",
       "      <td>-1</td>\n",
       "      <td>-1</td>\n",
       "      <td>...</td>\n",
       "      <td>0</td>\n",
       "      <td>0</td>\n",
       "      <td>0</td>\n",
       "      <td>0</td>\n",
       "      <td>689</td>\n",
       "      <td>0</td>\n",
       "      <td>0</td>\n",
       "      <td>0</td>\n",
       "      <td>0</td>\n",
       "      <td>1</td>\n",
       "    </tr>\n",
       "    <tr>\n",
       "      <th>1</th>\n",
       "      <td>2</td>\n",
       "      <td>120000</td>\n",
       "      <td>2</td>\n",
       "      <td>2</td>\n",
       "      <td>2</td>\n",
       "      <td>26</td>\n",
       "      <td>-1</td>\n",
       "      <td>2</td>\n",
       "      <td>0</td>\n",
       "      <td>0</td>\n",
       "      <td>...</td>\n",
       "      <td>3272</td>\n",
       "      <td>3455</td>\n",
       "      <td>3261</td>\n",
       "      <td>0</td>\n",
       "      <td>1000</td>\n",
       "      <td>1000</td>\n",
       "      <td>1000</td>\n",
       "      <td>0</td>\n",
       "      <td>2000</td>\n",
       "      <td>1</td>\n",
       "    </tr>\n",
       "    <tr>\n",
       "      <th>2</th>\n",
       "      <td>3</td>\n",
       "      <td>90000</td>\n",
       "      <td>2</td>\n",
       "      <td>2</td>\n",
       "      <td>2</td>\n",
       "      <td>34</td>\n",
       "      <td>0</td>\n",
       "      <td>0</td>\n",
       "      <td>0</td>\n",
       "      <td>0</td>\n",
       "      <td>...</td>\n",
       "      <td>14331</td>\n",
       "      <td>14948</td>\n",
       "      <td>15549</td>\n",
       "      <td>1518</td>\n",
       "      <td>1500</td>\n",
       "      <td>1000</td>\n",
       "      <td>1000</td>\n",
       "      <td>1000</td>\n",
       "      <td>5000</td>\n",
       "      <td>0</td>\n",
       "    </tr>\n",
       "    <tr>\n",
       "      <th>3</th>\n",
       "      <td>4</td>\n",
       "      <td>50000</td>\n",
       "      <td>2</td>\n",
       "      <td>2</td>\n",
       "      <td>1</td>\n",
       "      <td>37</td>\n",
       "      <td>0</td>\n",
       "      <td>0</td>\n",
       "      <td>0</td>\n",
       "      <td>0</td>\n",
       "      <td>...</td>\n",
       "      <td>28314</td>\n",
       "      <td>28959</td>\n",
       "      <td>29547</td>\n",
       "      <td>2000</td>\n",
       "      <td>2019</td>\n",
       "      <td>1200</td>\n",
       "      <td>1100</td>\n",
       "      <td>1069</td>\n",
       "      <td>1000</td>\n",
       "      <td>0</td>\n",
       "    </tr>\n",
       "    <tr>\n",
       "      <th>4</th>\n",
       "      <td>5</td>\n",
       "      <td>50000</td>\n",
       "      <td>1</td>\n",
       "      <td>2</td>\n",
       "      <td>1</td>\n",
       "      <td>57</td>\n",
       "      <td>-1</td>\n",
       "      <td>0</td>\n",
       "      <td>-1</td>\n",
       "      <td>0</td>\n",
       "      <td>...</td>\n",
       "      <td>20940</td>\n",
       "      <td>19146</td>\n",
       "      <td>19131</td>\n",
       "      <td>2000</td>\n",
       "      <td>36681</td>\n",
       "      <td>10000</td>\n",
       "      <td>9000</td>\n",
       "      <td>689</td>\n",
       "      <td>679</td>\n",
       "      <td>0</td>\n",
       "    </tr>\n",
       "  </tbody>\n",
       "</table>\n",
       "<p>5 rows × 25 columns</p>\n",
       "</div>"
      ],
      "text/plain": [
       "   ID  LIMIT_BAL  SEX  EDUCATION  MARRIAGE  AGE  PAY_0  PAY_2  PAY_3  PAY_4  \\\n",
       "0   1      20000    2          2         1   24      2      2     -1     -1   \n",
       "1   2     120000    2          2         2   26     -1      2      0      0   \n",
       "2   3      90000    2          2         2   34      0      0      0      0   \n",
       "3   4      50000    2          2         1   37      0      0      0      0   \n",
       "4   5      50000    1          2         1   57     -1      0     -1      0   \n",
       "\n",
       "   ...  BILL_AMT4  BILL_AMT5  BILL_AMT6  PAY_AMT1  PAY_AMT2  PAY_AMT3  \\\n",
       "0  ...          0          0          0         0       689         0   \n",
       "1  ...       3272       3455       3261         0      1000      1000   \n",
       "2  ...      14331      14948      15549      1518      1500      1000   \n",
       "3  ...      28314      28959      29547      2000      2019      1200   \n",
       "4  ...      20940      19146      19131      2000     36681     10000   \n",
       "\n",
       "   PAY_AMT4  PAY_AMT5  PAY_AMT6  default payment next month  \n",
       "0         0         0         0                           1  \n",
       "1      1000         0      2000                           1  \n",
       "2      1000      1000      5000                           0  \n",
       "3      1100      1069      1000                           0  \n",
       "4      9000       689       679                           0  \n",
       "\n",
       "[5 rows x 25 columns]"
      ]
     },
     "execution_count": 2,
     "metadata": {},
     "output_type": "execute_result"
    }
   ],
   "source": [
    "#data\n",
    "rawData = pd.read_csv('default_credit_card_clients.csv', header=1)\n",
    "rawData.head() "
   ]
  },
  {
   "cell_type": "code",
   "execution_count": 3,
   "metadata": {},
   "outputs": [],
   "source": [
    "#RENAME OF COLUMNS\n",
    "rawData.columns = ['ID', 'LIMIT_BAL', 'SEX', 'EDUCATION', 'MARRIAGE', 'AGE', 'PAY_STATUS_M9', 'PAY_STATUS_M8', 'PAY_STATUS_M7', 'PAY_STATUS_M6',\n",
    "       'PAY_STATUS_M5', 'PAY_STATUS_M4', 'BILL_M9', 'BILL_M8', 'BILL_M7', 'BILL_M6', 'BILL_M5', 'BILL_M4', 'PAID_M9', 'PAID_M8',\n",
    "       'PAID_M7', 'PAID_M6', 'PAID_M5', 'PAID_M4', 'DEFAULT']"
   ]
  },
  {
   "cell_type": "markdown",
   "metadata": {},
   "source": [
    "**Step 1.4:** Examination of the structure: ensure format needed."
   ]
  },
  {
   "cell_type": "code",
   "execution_count": 4,
   "metadata": {},
   "outputs": [
    {
     "name": "stdout",
     "output_type": "stream",
     "text": [
      "<class 'pandas.core.frame.DataFrame'>\n",
      "RangeIndex: 30000 entries, 0 to 29999\n",
      "Data columns (total 25 columns):\n",
      " #   Column         Non-Null Count  Dtype\n",
      "---  ------         --------------  -----\n",
      " 0   ID             30000 non-null  int64\n",
      " 1   LIMIT_BAL      30000 non-null  int64\n",
      " 2   SEX            30000 non-null  int64\n",
      " 3   EDUCATION      30000 non-null  int64\n",
      " 4   MARRIAGE       30000 non-null  int64\n",
      " 5   AGE            30000 non-null  int64\n",
      " 6   PAY_STATUS_M9  30000 non-null  int64\n",
      " 7   PAY_STATUS_M8  30000 non-null  int64\n",
      " 8   PAY_STATUS_M7  30000 non-null  int64\n",
      " 9   PAY_STATUS_M6  30000 non-null  int64\n",
      " 10  PAY_STATUS_M5  30000 non-null  int64\n",
      " 11  PAY_STATUS_M4  30000 non-null  int64\n",
      " 12  BILL_M9        30000 non-null  int64\n",
      " 13  BILL_M8        30000 non-null  int64\n",
      " 14  BILL_M7        30000 non-null  int64\n",
      " 15  BILL_M6        30000 non-null  int64\n",
      " 16  BILL_M5        30000 non-null  int64\n",
      " 17  BILL_M4        30000 non-null  int64\n",
      " 18  PAID_M9        30000 non-null  int64\n",
      " 19  PAID_M8        30000 non-null  int64\n",
      " 20  PAID_M7        30000 non-null  int64\n",
      " 21  PAID_M6        30000 non-null  int64\n",
      " 22  PAID_M5        30000 non-null  int64\n",
      " 23  PAID_M4        30000 non-null  int64\n",
      " 24  DEFAULT        30000 non-null  int64\n",
      "dtypes: int64(25)\n",
      "memory usage: 5.7 MB\n"
     ]
    }
   ],
   "source": [
    "rawData.info() #the data was imported as integer even though some where categorized"
   ]
  },
  {
   "cell_type": "markdown",
   "metadata": {},
   "source": [
    "**Step 1.5:** Select features and dependent variables: with Pandas library.\n",
    "\n",
    "In R: by using indices in the following format: [rows,columns]. \n",
    "\n",
    "In Pandas: Integer location-based indexing for selection by position."
   ]
  },
  {
   "cell_type": "code",
   "execution_count": 5,
   "metadata": {},
   "outputs": [
    {
     "name": "stdout",
     "output_type": "stream",
     "text": [
      "       LIMIT_BAL  SEX  EDUCATION  MARRIAGE  AGE  PAY_STATUS_M9  PAY_STATUS_M8  \\\n",
      "0          20000    2          2         1   24              2              2   \n",
      "1         120000    2          2         2   26             -1              2   \n",
      "2          90000    2          2         2   34              0              0   \n",
      "3          50000    2          2         1   37              0              0   \n",
      "4          50000    1          2         1   57             -1              0   \n",
      "...          ...  ...        ...       ...  ...            ...            ...   \n",
      "29995     220000    1          3         1   39              0              0   \n",
      "29996     150000    1          3         2   43             -1             -1   \n",
      "29997      30000    1          2         2   37              4              3   \n",
      "29998      80000    1          3         1   41              1             -1   \n",
      "29999      50000    1          2         1   46              0              0   \n",
      "\n",
      "       PAY_STATUS_M7  PAY_STATUS_M6  PAY_STATUS_M5  ...  BILL_M7  BILL_M6  \\\n",
      "0                 -1             -1             -2  ...      689        0   \n",
      "1                  0              0              0  ...     2682     3272   \n",
      "2                  0              0              0  ...    13559    14331   \n",
      "3                  0              0              0  ...    49291    28314   \n",
      "4                 -1              0              0  ...    35835    20940   \n",
      "...              ...            ...            ...  ...      ...      ...   \n",
      "29995              0              0              0  ...   208365    88004   \n",
      "29996             -1             -1              0  ...     3502     8979   \n",
      "29997              2             -1              0  ...     2758    20878   \n",
      "29998              0              0              0  ...    76304    52774   \n",
      "29999              0              0              0  ...    49764    36535   \n",
      "\n",
      "       BILL_M5  BILL_M4  PAID_M9  PAID_M8  PAID_M7  PAID_M6  PAID_M5  PAID_M4  \n",
      "0            0        0        0      689        0        0        0        0  \n",
      "1         3455     3261        0     1000     1000     1000        0     2000  \n",
      "2        14948    15549     1518     1500     1000     1000     1000     5000  \n",
      "3        28959    29547     2000     2019     1200     1100     1069     1000  \n",
      "4        19146    19131     2000    36681    10000     9000      689      679  \n",
      "...        ...      ...      ...      ...      ...      ...      ...      ...  \n",
      "29995    31237    15980     8500    20000     5003     3047     5000     1000  \n",
      "29996     5190        0     1837     3526     8998      129        0        0  \n",
      "29997    20582    19357        0        0    22000     4200     2000     3100  \n",
      "29998    11855    48944    85900     3409     1178     1926    52964     1804  \n",
      "29999    32428    15313     2078     1800     1430     1000     1000     1000  \n",
      "\n",
      "[30000 rows x 23 columns]\n"
     ]
    }
   ],
   "source": [
    "# Selection of columns: Method 1\n",
    "# variableName = dataframe.iloc[rows,columns]\n",
    "selection = rawData.iloc[:,1:24] # with \":\" all rows are selected.\n",
    "print(selection)"
   ]
  },
  {
   "cell_type": "code",
   "execution_count": 6,
   "metadata": {},
   "outputs": [
    {
     "name": "stdout",
     "output_type": "stream",
     "text": [
      "0           0\n",
      "1        2000\n",
      "2        5000\n",
      "3        1000\n",
      "4         679\n",
      "         ... \n",
      "29995    1000\n",
      "29996       0\n",
      "29997    3100\n",
      "29998    1804\n",
      "29999    1000\n",
      "Name: PAID_M4, Length: 30000, dtype: int64\n"
     ]
    }
   ],
   "source": [
    "# Selection of columns: Method 2\n",
    "# variableName = dataframe.iloc[rows,columns]\n",
    "selection = rawData['PAID_M4']\n",
    "print(selection)"
   ]
  },
  {
   "cell_type": "code",
   "execution_count": 7,
   "metadata": {},
   "outputs": [
    {
     "name": "stdout",
     "output_type": "stream",
     "text": [
      "       DEFAULT\n",
      "0            1\n",
      "1            1\n",
      "2            0\n",
      "3            0\n",
      "4            0\n",
      "...        ...\n",
      "29995        0\n",
      "29996        0\n",
      "29997        1\n",
      "29998        1\n",
      "29999        1\n",
      "\n",
      "[30000 rows x 1 columns]\n"
     ]
    }
   ],
   "source": [
    "# Selection of range of columns: Method 3 \n",
    "# variableName = dataframe.iloc[rows,columns]\n",
    "selection = rawData.iloc[:,24:] # with \":\" all is selected; then the columns are selected.\n",
    "print(selection)"
   ]
  },
  {
   "cell_type": "markdown",
   "metadata": {},
   "source": [
    "1. Select the features:"
   ]
  },
  {
   "cell_type": "code",
   "execution_count": 8,
   "metadata": {},
   "outputs": [
    {
     "name": "stdout",
     "output_type": "stream",
     "text": [
      "Summary of feature sample\n"
     ]
    },
    {
     "data": {
      "text/html": [
       "<div>\n",
       "<style scoped>\n",
       "    .dataframe tbody tr th:only-of-type {\n",
       "        vertical-align: middle;\n",
       "    }\n",
       "\n",
       "    .dataframe tbody tr th {\n",
       "        vertical-align: top;\n",
       "    }\n",
       "\n",
       "    .dataframe thead th {\n",
       "        text-align: right;\n",
       "    }\n",
       "</style>\n",
       "<table border=\"1\" class=\"dataframe\">\n",
       "  <thead>\n",
       "    <tr style=\"text-align: right;\">\n",
       "      <th></th>\n",
       "      <th>LIMIT_BAL</th>\n",
       "      <th>SEX</th>\n",
       "      <th>EDUCATION</th>\n",
       "      <th>MARRIAGE</th>\n",
       "      <th>AGE</th>\n",
       "      <th>PAY_STATUS_M9</th>\n",
       "      <th>PAY_STATUS_M8</th>\n",
       "      <th>PAY_STATUS_M7</th>\n",
       "      <th>PAY_STATUS_M6</th>\n",
       "      <th>PAY_STATUS_M5</th>\n",
       "      <th>...</th>\n",
       "      <th>BILL_M6</th>\n",
       "      <th>BILL_M5</th>\n",
       "      <th>BILL_M4</th>\n",
       "      <th>PAID_M9</th>\n",
       "      <th>PAID_M8</th>\n",
       "      <th>PAID_M7</th>\n",
       "      <th>PAID_M6</th>\n",
       "      <th>PAID_M5</th>\n",
       "      <th>PAID_M4</th>\n",
       "      <th>DEFAULT</th>\n",
       "    </tr>\n",
       "  </thead>\n",
       "  <tbody>\n",
       "    <tr>\n",
       "      <th>0</th>\n",
       "      <td>20000</td>\n",
       "      <td>2</td>\n",
       "      <td>2</td>\n",
       "      <td>1</td>\n",
       "      <td>24</td>\n",
       "      <td>2</td>\n",
       "      <td>2</td>\n",
       "      <td>-1</td>\n",
       "      <td>-1</td>\n",
       "      <td>-2</td>\n",
       "      <td>...</td>\n",
       "      <td>0</td>\n",
       "      <td>0</td>\n",
       "      <td>0</td>\n",
       "      <td>0</td>\n",
       "      <td>689</td>\n",
       "      <td>0</td>\n",
       "      <td>0</td>\n",
       "      <td>0</td>\n",
       "      <td>0</td>\n",
       "      <td>1</td>\n",
       "    </tr>\n",
       "    <tr>\n",
       "      <th>1</th>\n",
       "      <td>120000</td>\n",
       "      <td>2</td>\n",
       "      <td>2</td>\n",
       "      <td>2</td>\n",
       "      <td>26</td>\n",
       "      <td>-1</td>\n",
       "      <td>2</td>\n",
       "      <td>0</td>\n",
       "      <td>0</td>\n",
       "      <td>0</td>\n",
       "      <td>...</td>\n",
       "      <td>3272</td>\n",
       "      <td>3455</td>\n",
       "      <td>3261</td>\n",
       "      <td>0</td>\n",
       "      <td>1000</td>\n",
       "      <td>1000</td>\n",
       "      <td>1000</td>\n",
       "      <td>0</td>\n",
       "      <td>2000</td>\n",
       "      <td>1</td>\n",
       "    </tr>\n",
       "    <tr>\n",
       "      <th>2</th>\n",
       "      <td>90000</td>\n",
       "      <td>2</td>\n",
       "      <td>2</td>\n",
       "      <td>2</td>\n",
       "      <td>34</td>\n",
       "      <td>0</td>\n",
       "      <td>0</td>\n",
       "      <td>0</td>\n",
       "      <td>0</td>\n",
       "      <td>0</td>\n",
       "      <td>...</td>\n",
       "      <td>14331</td>\n",
       "      <td>14948</td>\n",
       "      <td>15549</td>\n",
       "      <td>1518</td>\n",
       "      <td>1500</td>\n",
       "      <td>1000</td>\n",
       "      <td>1000</td>\n",
       "      <td>1000</td>\n",
       "      <td>5000</td>\n",
       "      <td>0</td>\n",
       "    </tr>\n",
       "    <tr>\n",
       "      <th>3</th>\n",
       "      <td>50000</td>\n",
       "      <td>2</td>\n",
       "      <td>2</td>\n",
       "      <td>1</td>\n",
       "      <td>37</td>\n",
       "      <td>0</td>\n",
       "      <td>0</td>\n",
       "      <td>0</td>\n",
       "      <td>0</td>\n",
       "      <td>0</td>\n",
       "      <td>...</td>\n",
       "      <td>28314</td>\n",
       "      <td>28959</td>\n",
       "      <td>29547</td>\n",
       "      <td>2000</td>\n",
       "      <td>2019</td>\n",
       "      <td>1200</td>\n",
       "      <td>1100</td>\n",
       "      <td>1069</td>\n",
       "      <td>1000</td>\n",
       "      <td>0</td>\n",
       "    </tr>\n",
       "    <tr>\n",
       "      <th>4</th>\n",
       "      <td>50000</td>\n",
       "      <td>1</td>\n",
       "      <td>2</td>\n",
       "      <td>1</td>\n",
       "      <td>57</td>\n",
       "      <td>-1</td>\n",
       "      <td>0</td>\n",
       "      <td>-1</td>\n",
       "      <td>0</td>\n",
       "      <td>0</td>\n",
       "      <td>...</td>\n",
       "      <td>20940</td>\n",
       "      <td>19146</td>\n",
       "      <td>19131</td>\n",
       "      <td>2000</td>\n",
       "      <td>36681</td>\n",
       "      <td>10000</td>\n",
       "      <td>9000</td>\n",
       "      <td>689</td>\n",
       "      <td>679</td>\n",
       "      <td>0</td>\n",
       "    </tr>\n",
       "  </tbody>\n",
       "</table>\n",
       "<p>5 rows × 23 columns</p>\n",
       "</div>"
      ],
      "text/plain": [
       "   LIMIT_BAL  SEX  EDUCATION  MARRIAGE  AGE  PAY_STATUS_M9  PAY_STATUS_M8  \\\n",
       "0      20000    2          2         1   24              2              2   \n",
       "1     120000    2          2         2   26             -1              2   \n",
       "2      90000    2          2         2   34              0              0   \n",
       "3      50000    2          2         1   37              0              0   \n",
       "4      50000    1          2         1   57             -1              0   \n",
       "\n",
       "   PAY_STATUS_M7  PAY_STATUS_M6  PAY_STATUS_M5  ...  BILL_M6  BILL_M5  \\\n",
       "0             -1             -1             -2  ...        0        0   \n",
       "1              0              0              0  ...     3272     3455   \n",
       "2              0              0              0  ...    14331    14948   \n",
       "3              0              0              0  ...    28314    28959   \n",
       "4             -1              0              0  ...    20940    19146   \n",
       "\n",
       "   BILL_M4  PAID_M9  PAID_M8  PAID_M7  PAID_M6  PAID_M5  PAID_M4  DEFAULT  \n",
       "0        0        0      689        0        0        0        0        1  \n",
       "1     3261        0     1000     1000     1000        0     2000        1  \n",
       "2    15549     1518     1500     1000     1000     1000     5000        0  \n",
       "3    29547     2000     2019     1200     1100     1069     1000        0  \n",
       "4    19131     2000    36681    10000     9000      689      679        0  \n",
       "\n",
       "[5 rows x 23 columns]"
      ]
     },
     "execution_count": 8,
     "metadata": {},
     "output_type": "execute_result"
    }
   ],
   "source": [
    "#features\n",
    "features = rawData.iloc[:,[1,2,3,4,5,6,7,8,9,10,11,13,14,15,16,17,18,19,20,21,22,23,24]] #ID taken out\n",
    "print('Summary of feature sample')\n",
    "features.head()"
   ]
  },
  {
   "cell_type": "markdown",
   "metadata": {},
   "source": [
    "2. Select the dependent variable:"
   ]
  },
  {
   "cell_type": "code",
   "execution_count": 9,
   "metadata": {},
   "outputs": [
    {
     "name": "stdout",
     "output_type": "stream",
     "text": [
      "0          3913\n",
      "1          2682\n",
      "2         29239\n",
      "3         46990\n",
      "4          8617\n",
      "          ...  \n",
      "29995    188948\n",
      "29996      1683\n",
      "29997      3565\n",
      "29998     -1645\n",
      "29999     47929\n",
      "Name: BILL_M9, Length: 30000, dtype: int64\n"
     ]
    }
   ],
   "source": [
    "#dependent variable\n",
    "depVar = rawData['BILL_M9']\n",
    "print(depVar)"
   ]
  },
  {
   "cell_type": "markdown",
   "metadata": {},
   "source": [
    "3. Establish *training* set for x-variable or Feature Space. \n",
    "(for this this example: first 1000 lines; for final models: 70/30 split)"
   ]
  },
  {
   "cell_type": "code",
   "execution_count": 10,
   "metadata": {},
   "outputs": [
    {
     "data": {
      "text/html": [
       "<div>\n",
       "<style scoped>\n",
       "    .dataframe tbody tr th:only-of-type {\n",
       "        vertical-align: middle;\n",
       "    }\n",
       "\n",
       "    .dataframe tbody tr th {\n",
       "        vertical-align: top;\n",
       "    }\n",
       "\n",
       "    .dataframe thead th {\n",
       "        text-align: right;\n",
       "    }\n",
       "</style>\n",
       "<table border=\"1\" class=\"dataframe\">\n",
       "  <thead>\n",
       "    <tr style=\"text-align: right;\">\n",
       "      <th></th>\n",
       "      <th>LIMIT_BAL</th>\n",
       "      <th>SEX</th>\n",
       "      <th>EDUCATION</th>\n",
       "      <th>MARRIAGE</th>\n",
       "      <th>AGE</th>\n",
       "      <th>PAY_STATUS_M9</th>\n",
       "      <th>PAY_STATUS_M8</th>\n",
       "      <th>PAY_STATUS_M7</th>\n",
       "      <th>PAY_STATUS_M6</th>\n",
       "      <th>PAY_STATUS_M5</th>\n",
       "      <th>...</th>\n",
       "      <th>BILL_M6</th>\n",
       "      <th>BILL_M5</th>\n",
       "      <th>BILL_M4</th>\n",
       "      <th>PAID_M9</th>\n",
       "      <th>PAID_M8</th>\n",
       "      <th>PAID_M7</th>\n",
       "      <th>PAID_M6</th>\n",
       "      <th>PAID_M5</th>\n",
       "      <th>PAID_M4</th>\n",
       "      <th>DEFAULT</th>\n",
       "    </tr>\n",
       "  </thead>\n",
       "  <tbody>\n",
       "    <tr>\n",
       "      <th>0</th>\n",
       "      <td>20000</td>\n",
       "      <td>2</td>\n",
       "      <td>2</td>\n",
       "      <td>1</td>\n",
       "      <td>24</td>\n",
       "      <td>2</td>\n",
       "      <td>2</td>\n",
       "      <td>-1</td>\n",
       "      <td>-1</td>\n",
       "      <td>-2</td>\n",
       "      <td>...</td>\n",
       "      <td>0</td>\n",
       "      <td>0</td>\n",
       "      <td>0</td>\n",
       "      <td>0</td>\n",
       "      <td>689</td>\n",
       "      <td>0</td>\n",
       "      <td>0</td>\n",
       "      <td>0</td>\n",
       "      <td>0</td>\n",
       "      <td>1</td>\n",
       "    </tr>\n",
       "    <tr>\n",
       "      <th>1</th>\n",
       "      <td>120000</td>\n",
       "      <td>2</td>\n",
       "      <td>2</td>\n",
       "      <td>2</td>\n",
       "      <td>26</td>\n",
       "      <td>-1</td>\n",
       "      <td>2</td>\n",
       "      <td>0</td>\n",
       "      <td>0</td>\n",
       "      <td>0</td>\n",
       "      <td>...</td>\n",
       "      <td>3272</td>\n",
       "      <td>3455</td>\n",
       "      <td>3261</td>\n",
       "      <td>0</td>\n",
       "      <td>1000</td>\n",
       "      <td>1000</td>\n",
       "      <td>1000</td>\n",
       "      <td>0</td>\n",
       "      <td>2000</td>\n",
       "      <td>1</td>\n",
       "    </tr>\n",
       "    <tr>\n",
       "      <th>2</th>\n",
       "      <td>90000</td>\n",
       "      <td>2</td>\n",
       "      <td>2</td>\n",
       "      <td>2</td>\n",
       "      <td>34</td>\n",
       "      <td>0</td>\n",
       "      <td>0</td>\n",
       "      <td>0</td>\n",
       "      <td>0</td>\n",
       "      <td>0</td>\n",
       "      <td>...</td>\n",
       "      <td>14331</td>\n",
       "      <td>14948</td>\n",
       "      <td>15549</td>\n",
       "      <td>1518</td>\n",
       "      <td>1500</td>\n",
       "      <td>1000</td>\n",
       "      <td>1000</td>\n",
       "      <td>1000</td>\n",
       "      <td>5000</td>\n",
       "      <td>0</td>\n",
       "    </tr>\n",
       "    <tr>\n",
       "      <th>3</th>\n",
       "      <td>50000</td>\n",
       "      <td>2</td>\n",
       "      <td>2</td>\n",
       "      <td>1</td>\n",
       "      <td>37</td>\n",
       "      <td>0</td>\n",
       "      <td>0</td>\n",
       "      <td>0</td>\n",
       "      <td>0</td>\n",
       "      <td>0</td>\n",
       "      <td>...</td>\n",
       "      <td>28314</td>\n",
       "      <td>28959</td>\n",
       "      <td>29547</td>\n",
       "      <td>2000</td>\n",
       "      <td>2019</td>\n",
       "      <td>1200</td>\n",
       "      <td>1100</td>\n",
       "      <td>1069</td>\n",
       "      <td>1000</td>\n",
       "      <td>0</td>\n",
       "    </tr>\n",
       "    <tr>\n",
       "      <th>4</th>\n",
       "      <td>50000</td>\n",
       "      <td>1</td>\n",
       "      <td>2</td>\n",
       "      <td>1</td>\n",
       "      <td>57</td>\n",
       "      <td>-1</td>\n",
       "      <td>0</td>\n",
       "      <td>-1</td>\n",
       "      <td>0</td>\n",
       "      <td>0</td>\n",
       "      <td>...</td>\n",
       "      <td>20940</td>\n",
       "      <td>19146</td>\n",
       "      <td>19131</td>\n",
       "      <td>2000</td>\n",
       "      <td>36681</td>\n",
       "      <td>10000</td>\n",
       "      <td>9000</td>\n",
       "      <td>689</td>\n",
       "      <td>679</td>\n",
       "      <td>0</td>\n",
       "    </tr>\n",
       "  </tbody>\n",
       "</table>\n",
       "<p>5 rows × 23 columns</p>\n",
       "</div>"
      ],
      "text/plain": [
       "   LIMIT_BAL  SEX  EDUCATION  MARRIAGE  AGE  PAY_STATUS_M9  PAY_STATUS_M8  \\\n",
       "0      20000    2          2         1   24              2              2   \n",
       "1     120000    2          2         2   26             -1              2   \n",
       "2      90000    2          2         2   34              0              0   \n",
       "3      50000    2          2         1   37              0              0   \n",
       "4      50000    1          2         1   57             -1              0   \n",
       "\n",
       "   PAY_STATUS_M7  PAY_STATUS_M6  PAY_STATUS_M5  ...  BILL_M6  BILL_M5  \\\n",
       "0             -1             -1             -2  ...        0        0   \n",
       "1              0              0              0  ...     3272     3455   \n",
       "2              0              0              0  ...    14331    14948   \n",
       "3              0              0              0  ...    28314    28959   \n",
       "4             -1              0              0  ...    20940    19146   \n",
       "\n",
       "   BILL_M4  PAID_M9  PAID_M8  PAID_M7  PAID_M6  PAID_M5  PAID_M4  DEFAULT  \n",
       "0        0        0      689        0        0        0        0        1  \n",
       "1     3261        0     1000     1000     1000        0     2000        1  \n",
       "2    15549     1518     1500     1000     1000     1000     5000        0  \n",
       "3    29547     2000     2019     1200     1100     1069     1000        0  \n",
       "4    19131     2000    36681    10000     9000      689      679        0  \n",
       "\n",
       "[5 rows x 23 columns]"
      ]
     },
     "execution_count": 10,
     "metadata": {},
     "output_type": "execute_result"
    }
   ],
   "source": [
    "#Training Set (Feature Space: X Training)\n",
    "x_train = (features[: 1000])\n",
    "x_train.head()"
   ]
  },
  {
   "cell_type": "markdown",
   "metadata": {},
   "source": [
    "4. Establish the *training set* y-variable or Dependent Variable (the number of rows much match the X-training set)."
   ]
  },
  {
   "cell_type": "code",
   "execution_count": 11,
   "metadata": {},
   "outputs": [
    {
     "name": "stdout",
     "output_type": "stream",
     "text": [
      "The number of observations in the Y training set are: 1000\n"
     ]
    },
    {
     "data": {
      "text/plain": [
       "0     3913\n",
       "1     2682\n",
       "2    29239\n",
       "3    46990\n",
       "4     8617\n",
       "Name: BILL_M9, dtype: int64"
      ]
     },
     "execution_count": 11,
     "metadata": {},
     "output_type": "execute_result"
    }
   ],
   "source": [
    "#Dependent Variable Training Set (y Training)\n",
    "y_train = depVar[: 1000]\n",
    "y_train_count = len(y_train.index) # len: returns the # of items.\n",
    "print('The number of observations in the Y training set are:',str(y_train_count))\n",
    "y_train.head()"
   ]
  },
  {
   "cell_type": "markdown",
   "metadata": {},
   "source": [
    "5. Establish the *testing set* for the x-variable or Feature space."
   ]
  },
  {
   "cell_type": "code",
   "execution_count": 12,
   "metadata": {},
   "outputs": [
    {
     "name": "stdout",
     "output_type": "stream",
     "text": [
      "The number of observations in the feature testing set is: 100\n",
      "       LIMIT_BAL  SEX  EDUCATION  MARRIAGE  AGE  PAY_STATUS_M9  PAY_STATUS_M8  \\\n",
      "29900      20000    1          2         2   29              0              0   \n",
      "29901      50000    1          2         2   29              1              2   \n",
      "29902     170000    1          3         2   30              0             -1   \n",
      "29903     260000    1          1         1   30             -1              0   \n",
      "29904      60000    1          3         2   30              0              0   \n",
      "\n",
      "       PAY_STATUS_M7  PAY_STATUS_M6  PAY_STATUS_M5  ...  BILL_M6  BILL_M5  \\\n",
      "29900             -2             -2             -2  ...        0        0   \n",
      "29901              0              0              0  ...    50590    50248   \n",
      "29902              0              0              0  ...   161351   126198   \n",
      "29903             -1             -1             -1  ...       99       99   \n",
      "29904              0              0              0  ...    58732    59306   \n",
      "\n",
      "       BILL_M4  PAID_M9  PAID_M8  PAID_M7  PAID_M6  PAID_M5  PAID_M4  DEFAULT  \n",
      "29900        0        0        0        0        0        0        0        1  \n",
      "29901    49387        0     6556     3250     1563     1208      781        0  \n",
      "29902   124746   168096     6409     7335     4448     4519     5003        0  \n",
      "29903   172104    10018    13333       99       99   172104    30013        0  \n",
      "29904    59728     2600     4553     5800     2000     1000     1462        1  \n",
      "\n",
      "[5 rows x 23 columns]\n"
     ]
    }
   ],
   "source": [
    "#Testing Set (x_test)\n",
    "x_test = features[-100:]\n",
    "x_test_count = len(x_test.index)\n",
    "print('The number of observations in the feature testing set is:',str(x_test_count))\n",
    "print(x_test.head())"
   ]
  },
  {
   "cell_type": "markdown",
   "metadata": {},
   "source": [
    "6. Establish ground truth "
   ]
  },
  {
   "cell_type": "code",
   "execution_count": 13,
   "metadata": {},
   "outputs": [
    {
     "name": "stdout",
     "output_type": "stream",
     "text": [
      "The number of observations in the Y training set are: 100\n"
     ]
    },
    {
     "data": {
      "text/plain": [
       "29900    16809\n",
       "29901    50845\n",
       "29902    10392\n",
       "29903    27378\n",
       "29904    54952\n",
       "Name: BILL_M9, dtype: int64"
      ]
     },
     "execution_count": 13,
     "metadata": {},
     "output_type": "execute_result"
    }
   ],
   "source": [
    "#Ground Truth (y_test) \n",
    "y_test = depVar[-100:]\n",
    "y_test_count = len(y_test.index)\n",
    "print('The number of observations in the Y training set are:',str(y_test_count))\n",
    "y_test.head()"
   ]
  },
  {
   "cell_type": "markdown",
   "metadata": {},
   "source": [
    "**Step 1.6:** Cross validation\n",
    "    \n",
    "Cross validation must be implemented to prevent overfitting. Sci-kit has a pre-built function.\n",
    "Remember to import libraries: *from sklearn.model_selection import train_test_split*"
   ]
  },
  {
   "cell_type": "code",
   "execution_count": 14,
   "metadata": {},
   "outputs": [],
   "source": [
    "x_train, x_test, y_train, y_test = train_test_split(x_train, y_train) #pre-built function"
   ]
  },
  {
   "cell_type": "code",
   "execution_count": 15,
   "metadata": {},
   "outputs": [
    {
     "data": {
      "text/plain": [
       "((750, 23), (250, 23))"
      ]
     },
     "execution_count": 15,
     "metadata": {},
     "output_type": "execute_result"
    }
   ],
   "source": [
    "x_train.shape, x_test.shape #to confirm that the split was made."
   ]
  },
  {
   "cell_type": "markdown",
   "metadata": {},
   "source": [
    "**Step 7:** Sci-Kit learn format\n",
    "\n",
    "Sci-Kit Learn 'Estimator Object'(equivalent to e1071 and caret in R). The linear_model Estimator Object was used to access the LinearRegression algorithm from the sklearn base:"
   ]
  },
  {
   "cell_type": "code",
   "execution_count": 16,
   "metadata": {},
   "outputs": [],
   "source": [
    "from sklearn.linear_model import LinearRegression"
   ]
  },
  {
   "cell_type": "markdown",
   "metadata": {},
   "source": [
    "**Step 8:** Tuning parameters and model definition\n",
    "\n",
    "When defining the model, parameters can be accessed for each specific model.\n",
    "Link: https://scikit-learn.org/stable/modules/generated/sklearn.linear_model.LinearRegression.html#sklearn.linear_model.LinearRegression"
   ]
  },
  {
   "cell_type": "code",
   "execution_count": 17,
   "metadata": {},
   "outputs": [],
   "source": [
    "#model = LinearRegression(parameters go here)\n",
    "model = LinearRegression(n_jobs=10)"
   ]
  },
  {
   "cell_type": "markdown",
   "metadata": {},
   "source": [
    "## 2. Building the models\n",
    "Process of building a pipeline for creating a model and making predictions.\n",
    "\n",
    "**STEPS**\n",
    "\n",
    "**Step 2.0:** Import modules for libraries, estimators,model metrics, cross validation.\n",
    "\n",
    "**Step 2.1:** Establish variables for defining each model.\n"
   ]
  },
  {
   "cell_type": "code",
   "execution_count": 18,
   "metadata": {},
   "outputs": [],
   "source": [
    "#Models\n",
    "modelRF = RandomForestRegressor()\n",
    "modelSVR = SVR()\n",
    "modelLR = LinearRegression()"
   ]
  },
  {
   "cell_type": "markdown",
   "metadata": {},
   "source": [
    "**Step 2.2:** Variable specifically for your features. (Control of training). Repeat Step 1.5.1"
   ]
  },
  {
   "cell_type": "code",
   "execution_count": 19,
   "metadata": {},
   "outputs": [
    {
     "name": "stdout",
     "output_type": "stream",
     "text": [
      "Summary of feature sample\n"
     ]
    },
    {
     "data": {
      "text/html": [
       "<div>\n",
       "<style scoped>\n",
       "    .dataframe tbody tr th:only-of-type {\n",
       "        vertical-align: middle;\n",
       "    }\n",
       "\n",
       "    .dataframe tbody tr th {\n",
       "        vertical-align: top;\n",
       "    }\n",
       "\n",
       "    .dataframe thead th {\n",
       "        text-align: right;\n",
       "    }\n",
       "</style>\n",
       "<table border=\"1\" class=\"dataframe\">\n",
       "  <thead>\n",
       "    <tr style=\"text-align: right;\">\n",
       "      <th></th>\n",
       "      <th>LIMIT_BAL</th>\n",
       "      <th>SEX</th>\n",
       "      <th>EDUCATION</th>\n",
       "      <th>MARRIAGE</th>\n",
       "      <th>AGE</th>\n",
       "      <th>PAY_STATUS_M9</th>\n",
       "      <th>PAY_STATUS_M8</th>\n",
       "      <th>PAY_STATUS_M7</th>\n",
       "      <th>PAY_STATUS_M6</th>\n",
       "      <th>PAY_STATUS_M5</th>\n",
       "      <th>...</th>\n",
       "      <th>BILL_M7</th>\n",
       "      <th>BILL_M6</th>\n",
       "      <th>BILL_M5</th>\n",
       "      <th>BILL_M4</th>\n",
       "      <th>PAID_M9</th>\n",
       "      <th>PAID_M8</th>\n",
       "      <th>PAID_M7</th>\n",
       "      <th>PAID_M6</th>\n",
       "      <th>PAID_M5</th>\n",
       "      <th>PAID_M4</th>\n",
       "    </tr>\n",
       "  </thead>\n",
       "  <tbody>\n",
       "    <tr>\n",
       "      <th>0</th>\n",
       "      <td>20000</td>\n",
       "      <td>2</td>\n",
       "      <td>2</td>\n",
       "      <td>1</td>\n",
       "      <td>24</td>\n",
       "      <td>2</td>\n",
       "      <td>2</td>\n",
       "      <td>-1</td>\n",
       "      <td>-1</td>\n",
       "      <td>-2</td>\n",
       "      <td>...</td>\n",
       "      <td>689</td>\n",
       "      <td>0</td>\n",
       "      <td>0</td>\n",
       "      <td>0</td>\n",
       "      <td>0</td>\n",
       "      <td>689</td>\n",
       "      <td>0</td>\n",
       "      <td>0</td>\n",
       "      <td>0</td>\n",
       "      <td>0</td>\n",
       "    </tr>\n",
       "    <tr>\n",
       "      <th>1</th>\n",
       "      <td>120000</td>\n",
       "      <td>2</td>\n",
       "      <td>2</td>\n",
       "      <td>2</td>\n",
       "      <td>26</td>\n",
       "      <td>-1</td>\n",
       "      <td>2</td>\n",
       "      <td>0</td>\n",
       "      <td>0</td>\n",
       "      <td>0</td>\n",
       "      <td>...</td>\n",
       "      <td>2682</td>\n",
       "      <td>3272</td>\n",
       "      <td>3455</td>\n",
       "      <td>3261</td>\n",
       "      <td>0</td>\n",
       "      <td>1000</td>\n",
       "      <td>1000</td>\n",
       "      <td>1000</td>\n",
       "      <td>0</td>\n",
       "      <td>2000</td>\n",
       "    </tr>\n",
       "    <tr>\n",
       "      <th>2</th>\n",
       "      <td>90000</td>\n",
       "      <td>2</td>\n",
       "      <td>2</td>\n",
       "      <td>2</td>\n",
       "      <td>34</td>\n",
       "      <td>0</td>\n",
       "      <td>0</td>\n",
       "      <td>0</td>\n",
       "      <td>0</td>\n",
       "      <td>0</td>\n",
       "      <td>...</td>\n",
       "      <td>13559</td>\n",
       "      <td>14331</td>\n",
       "      <td>14948</td>\n",
       "      <td>15549</td>\n",
       "      <td>1518</td>\n",
       "      <td>1500</td>\n",
       "      <td>1000</td>\n",
       "      <td>1000</td>\n",
       "      <td>1000</td>\n",
       "      <td>5000</td>\n",
       "    </tr>\n",
       "    <tr>\n",
       "      <th>3</th>\n",
       "      <td>50000</td>\n",
       "      <td>2</td>\n",
       "      <td>2</td>\n",
       "      <td>1</td>\n",
       "      <td>37</td>\n",
       "      <td>0</td>\n",
       "      <td>0</td>\n",
       "      <td>0</td>\n",
       "      <td>0</td>\n",
       "      <td>0</td>\n",
       "      <td>...</td>\n",
       "      <td>49291</td>\n",
       "      <td>28314</td>\n",
       "      <td>28959</td>\n",
       "      <td>29547</td>\n",
       "      <td>2000</td>\n",
       "      <td>2019</td>\n",
       "      <td>1200</td>\n",
       "      <td>1100</td>\n",
       "      <td>1069</td>\n",
       "      <td>1000</td>\n",
       "    </tr>\n",
       "    <tr>\n",
       "      <th>4</th>\n",
       "      <td>50000</td>\n",
       "      <td>1</td>\n",
       "      <td>2</td>\n",
       "      <td>1</td>\n",
       "      <td>57</td>\n",
       "      <td>-1</td>\n",
       "      <td>0</td>\n",
       "      <td>-1</td>\n",
       "      <td>0</td>\n",
       "      <td>0</td>\n",
       "      <td>...</td>\n",
       "      <td>35835</td>\n",
       "      <td>20940</td>\n",
       "      <td>19146</td>\n",
       "      <td>19131</td>\n",
       "      <td>2000</td>\n",
       "      <td>36681</td>\n",
       "      <td>10000</td>\n",
       "      <td>9000</td>\n",
       "      <td>689</td>\n",
       "      <td>679</td>\n",
       "    </tr>\n",
       "  </tbody>\n",
       "</table>\n",
       "<p>5 rows × 23 columns</p>\n",
       "</div>"
      ],
      "text/plain": [
       "   LIMIT_BAL  SEX  EDUCATION  MARRIAGE  AGE  PAY_STATUS_M9  PAY_STATUS_M8  \\\n",
       "0      20000    2          2         1   24              2              2   \n",
       "1     120000    2          2         2   26             -1              2   \n",
       "2      90000    2          2         2   34              0              0   \n",
       "3      50000    2          2         1   37              0              0   \n",
       "4      50000    1          2         1   57             -1              0   \n",
       "\n",
       "   PAY_STATUS_M7  PAY_STATUS_M6  PAY_STATUS_M5  ...  BILL_M7  BILL_M6  \\\n",
       "0             -1             -1             -2  ...      689        0   \n",
       "1              0              0              0  ...     2682     3272   \n",
       "2              0              0              0  ...    13559    14331   \n",
       "3              0              0              0  ...    49291    28314   \n",
       "4             -1              0              0  ...    35835    20940   \n",
       "\n",
       "   BILL_M5  BILL_M4  PAID_M9  PAID_M8  PAID_M7  PAID_M6  PAID_M5  PAID_M4  \n",
       "0        0        0        0      689        0        0        0        0  \n",
       "1     3455     3261        0     1000     1000     1000        0     2000  \n",
       "2    14948    15549     1518     1500     1000     1000     1000     5000  \n",
       "3    28959    29547     2000     2019     1200     1100     1069     1000  \n",
       "4    19146    19131     2000    36681    10000     9000      689      679  \n",
       "\n",
       "[5 rows x 23 columns]"
      ]
     },
     "execution_count": 19,
     "metadata": {},
     "output_type": "execute_result"
    }
   ],
   "source": [
    "#features\n",
    "features = rawData.iloc[:,1:24]\n",
    "print('Summary of feature sample')\n",
    "features.head()"
   ]
  },
  {
   "cell_type": "markdown",
   "metadata": {},
   "source": [
    "**Step 2.3:** Validation of dependent variable. Repeat Step 1.5.2"
   ]
  },
  {
   "cell_type": "code",
   "execution_count": 20,
   "metadata": {},
   "outputs": [
    {
     "name": "stdout",
     "output_type": "stream",
     "text": [
      "0          3913\n",
      "1          2682\n",
      "2         29239\n",
      "3         46990\n",
      "4          8617\n",
      "          ...  \n",
      "29995    188948\n",
      "29996      1683\n",
      "29997      3565\n",
      "29998     -1645\n",
      "29999     47929\n",
      "Name: BILL_M9, Length: 30000, dtype: int64\n"
     ]
    }
   ],
   "source": [
    "#dependent variable\n",
    "print(depVar)"
   ]
  },
  {
   "cell_type": "markdown",
   "metadata": {},
   "source": [
    "**Step 2.4:** Buiding the models (training). Syntax: *model.fit(x_train,y_train)*"
   ]
  },
  {
   "cell_type": "code",
   "execution_count": 21,
   "metadata": {},
   "outputs": [
    {
     "data": {
      "text/plain": [
       "RandomForestRegressor(bootstrap=True, ccp_alpha=0.0, criterion='mse',\n",
       "                      max_depth=None, max_features='auto', max_leaf_nodes=None,\n",
       "                      max_samples=None, min_impurity_decrease=0.0,\n",
       "                      min_impurity_split=None, min_samples_leaf=1,\n",
       "                      min_samples_split=2, min_weight_fraction_leaf=0.0,\n",
       "                      n_estimators=100, n_jobs=None, oob_score=False,\n",
       "                      random_state=None, verbose=0, warm_start=False)"
      ]
     },
     "execution_count": 21,
     "metadata": {},
     "output_type": "execute_result"
    }
   ],
   "source": [
    "#Random Forest\n",
    "modelRF.fit(x_train,y_train)"
   ]
  },
  {
   "cell_type": "code",
   "execution_count": 22,
   "metadata": {},
   "outputs": [
    {
     "data": {
      "text/plain": [
       "SVR(C=1.0, cache_size=200, coef0=0.0, degree=3, epsilon=0.1, gamma='scale',\n",
       "    kernel='rbf', max_iter=-1, shrinking=True, tol=0.001, verbose=False)"
      ]
     },
     "execution_count": 22,
     "metadata": {},
     "output_type": "execute_result"
    }
   ],
   "source": [
    "#Support Vector Regression\n",
    "modelSVR.fit(x_train,y_train)"
   ]
  },
  {
   "cell_type": "code",
   "execution_count": 23,
   "metadata": {},
   "outputs": [
    {
     "data": {
      "text/plain": [
       "LinearRegression(copy_X=True, fit_intercept=True, n_jobs=None, normalize=False)"
      ]
     },
     "execution_count": 23,
     "metadata": {},
     "output_type": "execute_result"
    }
   ],
   "source": [
    "#Linear Regression\n",
    "modelLR.fit(x_train,y_train)"
   ]
  },
  {
   "cell_type": "markdown",
   "metadata": {},
   "source": [
    "## 3. Choosing the right model\n",
    "Models with the highest scores of *cross_val_score* should be used to make predictions.\n",
    "\n",
    "**STEPS**\n",
    "\n",
    "**Step 3.0:** Check import of model metrics of library: from sklearn.model_selection import cross_val_score (Step 1.2)\n",
    "\n",
    "**Step 3.1:** Pass each trained model and the training sets to the function to obtain the training score. For single metric evaluation:\n",
    "\n",
    "1. 1st value:  The score array for test scores on each cv split. (Higher is an indicator of a better performing model)\n",
    "\n",
    "2. 2nd value: The time for fitting the estimator on the train set for each cv split.\n",
    "\n",
    "3. 3rd value:  The time for scoring the estimator on the test set for each cv split. \n",
    "\n",
    "*In the following case Linear Regression has the highests scores to predict BILL_M9: \"Bill in month 9\""
   ]
  },
  {
   "cell_type": "code",
   "execution_count": 24,
   "metadata": {},
   "outputs": [
    {
     "name": "stdout",
     "output_type": "stream",
     "text": [
      "[0.95317661 0.91476108 0.93670404 0.9753535  0.91038286]\n"
     ]
    }
   ],
   "source": [
    "#Random Forest Cross Validation\n",
    "print(cross_val_score(modelRF, x_train, y_train)) "
   ]
  },
  {
   "cell_type": "code",
   "execution_count": 25,
   "metadata": {},
   "outputs": [
    {
     "name": "stdout",
     "output_type": "stream",
     "text": [
      "[-0.16571321 -0.15342555 -0.09234668 -0.11112128 -0.18652706]\n"
     ]
    }
   ],
   "source": [
    "#Support Vector Regression Validation\n",
    "print(cross_val_score(modelSVR, x_train, y_train)) "
   ]
  },
  {
   "cell_type": "code",
   "execution_count": 26,
   "metadata": {},
   "outputs": [
    {
     "name": "stdout",
     "output_type": "stream",
     "text": [
      "[0.97225495 0.98752476 0.95166075 0.98417552 0.92953638]\n"
     ]
    }
   ],
   "source": [
    "#Linear Regression Validation\n",
    "print(cross_val_score(modelLR, x_train, y_train))"
   ]
  },
  {
   "cell_type": "markdown",
   "metadata": {},
   "source": [
    "**Step 3.2:** Check metrics (eg.Accuracy, Kappa, RMSE and R Squared according to the type of model) to see how the model fit the data. Most of the time this follows the normal R Squared convention for Regression.\n",
    "\n",
    "Note: There are numerous other ways to check for model overfit and underfit using Sci-Kit learn.\n",
    "\n",
    "syntaxis: *model.score(X_train,y_train)*"
   ]
  },
  {
   "cell_type": "code",
   "execution_count": 27,
   "metadata": {},
   "outputs": [
    {
     "name": "stdout",
     "output_type": "stream",
     "text": [
      "[0.94982678 0.90815264 0.935995   0.97480447 0.91389102]\n"
     ]
    },
    {
     "data": {
      "text/plain": [
       "0.9922031519492329"
      ]
     },
     "execution_count": 27,
     "metadata": {},
     "output_type": "execute_result"
    }
   ],
   "source": [
    "#Model Fitting and Scoring: Random Forest\n",
    "modelRF.fit(x_train,y_train)\n",
    "print(cross_val_score(modelRF, x_train, y_train))\n",
    "modelRF.score(x_train,y_train)"
   ]
  },
  {
   "cell_type": "code",
   "execution_count": 28,
   "metadata": {},
   "outputs": [
    {
     "name": "stdout",
     "output_type": "stream",
     "text": [
      "[-0.16571321 -0.15342555 -0.09234668 -0.11112128 -0.18652706]\n"
     ]
    },
    {
     "data": {
      "text/plain": [
       "-0.13976783723805175"
      ]
     },
     "execution_count": 28,
     "metadata": {},
     "output_type": "execute_result"
    }
   ],
   "source": [
    "#Model Fitting and Scoring: Support Vector Regression\n",
    "modelSVR.fit(x_train,y_train)\n",
    "print(cross_val_score(modelSVR, x_train, y_train)) \n",
    "modelSVR.score(x_train,y_train)"
   ]
  },
  {
   "cell_type": "code",
   "execution_count": 29,
   "metadata": {},
   "outputs": [
    {
     "name": "stdout",
     "output_type": "stream",
     "text": [
      "[0.97225495 0.98752476 0.95166075 0.98417552 0.92953638]\n"
     ]
    },
    {
     "data": {
      "text/plain": [
       "0.9707851052986352"
      ]
     },
     "execution_count": 29,
     "metadata": {},
     "output_type": "execute_result"
    }
   ],
   "source": [
    "#Model Fitting and Scoring: Linear Regression\n",
    "modelLR.fit(x_train,y_train)\n",
    "print(cross_val_score(modelLR, x_train, y_train)) \n",
    "modelLR.score(x_train,y_train)"
   ]
  },
  {
   "cell_type": "markdown",
   "metadata": {},
   "source": [
    "## 4. Making predictions and evaluating the results\n",
    "**Predictions:** Just like in R."
   ]
  },
  {
   "cell_type": "code",
   "execution_count": 30,
   "metadata": {},
   "outputs": [],
   "source": [
    "#Predictions: Random Forest\n",
    "predictionsRF = modelRF.predict(x_test)"
   ]
  },
  {
   "cell_type": "code",
   "execution_count": 31,
   "metadata": {},
   "outputs": [],
   "source": [
    "#Predictions: Support Vector Regression\n",
    "predictionsSVR = modelSVR.predict(x_test)"
   ]
  },
  {
   "cell_type": "code",
   "execution_count": 32,
   "metadata": {},
   "outputs": [],
   "source": [
    "#Predictions: Linear Regression\n",
    "predictionsLR = modelLR.predict(x_test)"
   ]
  },
  {
   "cell_type": "code",
   "execution_count": 33,
   "metadata": {},
   "outputs": [],
   "source": [
    "#List Zero for plotting: can be whichever model; is just to copy array structure\n",
    "list_zero = modelRF.predict(x_test)\n",
    "list_zero[:]=0"
   ]
  },
  {
   "cell_type": "code",
   "execution_count": 34,
   "metadata": {},
   "outputs": [],
   "source": [
    "#print(predictionsRF)"
   ]
  },
  {
   "cell_type": "markdown",
   "metadata": {},
   "source": [
    "**Evaluations:** *sklearn.metrics* contains metric functions\n",
    "\n",
    "Confirm import of libraries:\n",
    "\n",
    "*from sklearn.metrics import r2_score* (R2)\n",
    "\n",
    "*from sklearn.metrics import mean_squared_error* (MSE); in order to make root square:\n",
    "\n",
    "*from math import sqrt*\n"
   ]
  },
  {
   "cell_type": "code",
   "execution_count": 35,
   "metadata": {},
   "outputs": [],
   "source": [
    "#predRsquared = r2_score(y_test,predictions)\n",
    "predRsquaredRF = r2_score(y_test,predictionsRF)\n",
    "predRsquaredSVR = r2_score(y_test,predictionsSVR)\n",
    "predRsquaredLR = r2_score(y_test,predictionsLR)"
   ]
  },
  {
   "cell_type": "code",
   "execution_count": 36,
   "metadata": {},
   "outputs": [],
   "source": [
    "#rmse = sqrt(mean_squared_error(y_test, predictions))\n",
    "rmseRF = sqrt(mean_squared_error(y_test, predictionsRF))\n",
    "rmseSVR = sqrt(mean_squared_error(y_test, predictionsSVR))\n",
    "rmseLR = sqrt(mean_squared_error(y_test, predictionsLR))"
   ]
  },
  {
   "cell_type": "code",
   "execution_count": 37,
   "metadata": {},
   "outputs": [
    {
     "name": "stdout",
     "output_type": "stream",
     "text": [
      "Comparison of models\n",
      "Model                        R Squared     RMSE\n",
      "-------------------------  -----------  -------\n",
      "Random Forest                    0.911  24752.4\n",
      "Support Vector Regression       -0.188  90484.2\n",
      "Linear Regression                0.919  23640.7\n"
     ]
    }
   ],
   "source": [
    "print(\"Comparison of models\")\n",
    "print(tabulate([['Random Forest','%.3f'% predRsquaredRF,'%.3f'% rmseRF],['Support Vector Regression','%.3f'% predRsquaredSVR,'%.3f'% rmseSVR],['Linear Regression','%.3f'% predRsquaredLR,'%.3f'% rmseLR]], headers=['Model', 'R Squared', 'RMSE']))"
   ]
  },
  {
   "cell_type": "markdown",
   "metadata": {},
   "source": [
    "**Plotting the results:** \n",
    "\n",
    "The final step in the model building process (unless the model will be deployed) is plot a comparison between the known values in the test set and the predictions made by the model."
   ]
  },
  {
   "cell_type": "code",
   "execution_count": 38,
   "metadata": {},
   "outputs": [
    {
     "data": {
      "image/png": "[encoded data removed]",
      "text/plain": [
       "<Figure size 576x576 with 1 Axes>"
      ]
     },
     "metadata": {
      "needs_background": "light"
     },
     "output_type": "display_data"
    }
   ],
   "source": [
    "# plt.scatter(y_test, predictions, color=['blue','green'], alpha = 0.5)\n",
    "# plt.xlabel('Ground Truth')\n",
    "# plt.ylabel('Predictions')\n",
    "# plt.show()\n",
    "\n",
    "plt.figure(figsize=(8,8))\n",
    "plt.scatter(y_test, predictionsRF, color='green', alpha = 0.5)\n",
    "plt.scatter(y_test, y_test, color='blue',s=7,alpha = 0.5)\n",
    "plt.title('Actual vs predicted values')\n",
    "plt.xlabel('Ground Truth')\n",
    "plt.ylabel('Predictions')\n",
    "\n",
    "plt.show()"
   ]
  },
  {
   "cell_type": "markdown",
   "metadata": {},
   "source": [
    "## Part II: Application to Credit-One classification problem"
   ]
  },
  {
   "cell_type": "markdown",
   "metadata": {},
   "source": [
    "## 1. Cleaning and preprocessing data\n",
    "\n",
    "https://scikit-learn.org/stable/modules/preprocessing.html#preprocessing"
   ]
  },
  {
   "cell_type": "code",
   "execution_count": 196,
   "metadata": {},
   "outputs": [
    {
     "data": {
      "text/html": [
       "<div>\n",
       "<style scoped>\n",
       "    .dataframe tbody tr th:only-of-type {\n",
       "        vertical-align: middle;\n",
       "    }\n",
       "\n",
       "    .dataframe tbody tr th {\n",
       "        vertical-align: top;\n",
       "    }\n",
       "\n",
       "    .dataframe thead th {\n",
       "        text-align: right;\n",
       "    }\n",
       "</style>\n",
       "<table border=\"1\" class=\"dataframe\">\n",
       "  <thead>\n",
       "    <tr style=\"text-align: right;\">\n",
       "      <th></th>\n",
       "      <th>ID</th>\n",
       "      <th>LIMIT_BAL</th>\n",
       "      <th>SEX</th>\n",
       "      <th>EDUCATION</th>\n",
       "      <th>MARRIAGE</th>\n",
       "      <th>AGE</th>\n",
       "      <th>PAY_0</th>\n",
       "      <th>PAY_2</th>\n",
       "      <th>PAY_3</th>\n",
       "      <th>PAY_4</th>\n",
       "      <th>...</th>\n",
       "      <th>BILL_AMT4</th>\n",
       "      <th>BILL_AMT5</th>\n",
       "      <th>BILL_AMT6</th>\n",
       "      <th>PAY_AMT1</th>\n",
       "      <th>PAY_AMT2</th>\n",
       "      <th>PAY_AMT3</th>\n",
       "      <th>PAY_AMT4</th>\n",
       "      <th>PAY_AMT5</th>\n",
       "      <th>PAY_AMT6</th>\n",
       "      <th>default payment next month</th>\n",
       "    </tr>\n",
       "  </thead>\n",
       "  <tbody>\n",
       "    <tr>\n",
       "      <th>0</th>\n",
       "      <td>1</td>\n",
       "      <td>20000</td>\n",
       "      <td>2</td>\n",
       "      <td>2</td>\n",
       "      <td>1</td>\n",
       "      <td>24</td>\n",
       "      <td>2</td>\n",
       "      <td>2</td>\n",
       "      <td>-1</td>\n",
       "      <td>-1</td>\n",
       "      <td>...</td>\n",
       "      <td>0</td>\n",
       "      <td>0</td>\n",
       "      <td>0</td>\n",
       "      <td>0</td>\n",
       "      <td>689</td>\n",
       "      <td>0</td>\n",
       "      <td>0</td>\n",
       "      <td>0</td>\n",
       "      <td>0</td>\n",
       "      <td>1</td>\n",
       "    </tr>\n",
       "    <tr>\n",
       "      <th>1</th>\n",
       "      <td>2</td>\n",
       "      <td>120000</td>\n",
       "      <td>2</td>\n",
       "      <td>2</td>\n",
       "      <td>2</td>\n",
       "      <td>26</td>\n",
       "      <td>-1</td>\n",
       "      <td>2</td>\n",
       "      <td>0</td>\n",
       "      <td>0</td>\n",
       "      <td>...</td>\n",
       "      <td>3272</td>\n",
       "      <td>3455</td>\n",
       "      <td>3261</td>\n",
       "      <td>0</td>\n",
       "      <td>1000</td>\n",
       "      <td>1000</td>\n",
       "      <td>1000</td>\n",
       "      <td>0</td>\n",
       "      <td>2000</td>\n",
       "      <td>1</td>\n",
       "    </tr>\n",
       "    <tr>\n",
       "      <th>2</th>\n",
       "      <td>3</td>\n",
       "      <td>90000</td>\n",
       "      <td>2</td>\n",
       "      <td>2</td>\n",
       "      <td>2</td>\n",
       "      <td>34</td>\n",
       "      <td>0</td>\n",
       "      <td>0</td>\n",
       "      <td>0</td>\n",
       "      <td>0</td>\n",
       "      <td>...</td>\n",
       "      <td>14331</td>\n",
       "      <td>14948</td>\n",
       "      <td>15549</td>\n",
       "      <td>1518</td>\n",
       "      <td>1500</td>\n",
       "      <td>1000</td>\n",
       "      <td>1000</td>\n",
       "      <td>1000</td>\n",
       "      <td>5000</td>\n",
       "      <td>0</td>\n",
       "    </tr>\n",
       "    <tr>\n",
       "      <th>3</th>\n",
       "      <td>4</td>\n",
       "      <td>50000</td>\n",
       "      <td>2</td>\n",
       "      <td>2</td>\n",
       "      <td>1</td>\n",
       "      <td>37</td>\n",
       "      <td>0</td>\n",
       "      <td>0</td>\n",
       "      <td>0</td>\n",
       "      <td>0</td>\n",
       "      <td>...</td>\n",
       "      <td>28314</td>\n",
       "      <td>28959</td>\n",
       "      <td>29547</td>\n",
       "      <td>2000</td>\n",
       "      <td>2019</td>\n",
       "      <td>1200</td>\n",
       "      <td>1100</td>\n",
       "      <td>1069</td>\n",
       "      <td>1000</td>\n",
       "      <td>0</td>\n",
       "    </tr>\n",
       "    <tr>\n",
       "      <th>4</th>\n",
       "      <td>5</td>\n",
       "      <td>50000</td>\n",
       "      <td>1</td>\n",
       "      <td>2</td>\n",
       "      <td>1</td>\n",
       "      <td>57</td>\n",
       "      <td>-1</td>\n",
       "      <td>0</td>\n",
       "      <td>-1</td>\n",
       "      <td>0</td>\n",
       "      <td>...</td>\n",
       "      <td>20940</td>\n",
       "      <td>19146</td>\n",
       "      <td>19131</td>\n",
       "      <td>2000</td>\n",
       "      <td>36681</td>\n",
       "      <td>10000</td>\n",
       "      <td>9000</td>\n",
       "      <td>689</td>\n",
       "      <td>679</td>\n",
       "      <td>0</td>\n",
       "    </tr>\n",
       "  </tbody>\n",
       "</table>\n",
       "<p>5 rows × 25 columns</p>\n",
       "</div>"
      ],
      "text/plain": [
       "   ID  LIMIT_BAL  SEX  EDUCATION  MARRIAGE  AGE  PAY_0  PAY_2  PAY_3  PAY_4  \\\n",
       "0   1      20000    2          2         1   24      2      2     -1     -1   \n",
       "1   2     120000    2          2         2   26     -1      2      0      0   \n",
       "2   3      90000    2          2         2   34      0      0      0      0   \n",
       "3   4      50000    2          2         1   37      0      0      0      0   \n",
       "4   5      50000    1          2         1   57     -1      0     -1      0   \n",
       "\n",
       "   ...  BILL_AMT4  BILL_AMT5  BILL_AMT6  PAY_AMT1  PAY_AMT2  PAY_AMT3  \\\n",
       "0  ...          0          0          0         0       689         0   \n",
       "1  ...       3272       3455       3261         0      1000      1000   \n",
       "2  ...      14331      14948      15549      1518      1500      1000   \n",
       "3  ...      28314      28959      29547      2000      2019      1200   \n",
       "4  ...      20940      19146      19131      2000     36681     10000   \n",
       "\n",
       "   PAY_AMT4  PAY_AMT5  PAY_AMT6  default payment next month  \n",
       "0         0         0         0                           1  \n",
       "1      1000         0      2000                           1  \n",
       "2      1000      1000      5000                           0  \n",
       "3      1100      1069      1000                           0  \n",
       "4      9000       689       679                           0  \n",
       "\n",
       "[5 rows x 25 columns]"
      ]
     },
     "execution_count": 196,
     "metadata": {},
     "output_type": "execute_result"
    }
   ],
   "source": [
    "#IMPORT DATA: Note: has to be in the same folder where is the notebook. Default structure: dataframe.\n",
    "credit = pd.read_csv('default_credit_card_clients.csv', header =1)\n",
    "credit.head()# quick view sample the dataframe by calling the name in a cell"
   ]
  },
  {
   "cell_type": "code",
   "execution_count": 197,
   "metadata": {},
   "outputs": [
    {
     "data": {
      "text/html": [
       "<div>\n",
       "<style scoped>\n",
       "    .dataframe tbody tr th:only-of-type {\n",
       "        vertical-align: middle;\n",
       "    }\n",
       "\n",
       "    .dataframe tbody tr th {\n",
       "        vertical-align: top;\n",
       "    }\n",
       "\n",
       "    .dataframe thead th {\n",
       "        text-align: right;\n",
       "    }\n",
       "</style>\n",
       "<table border=\"1\" class=\"dataframe\">\n",
       "  <thead>\n",
       "    <tr style=\"text-align: right;\">\n",
       "      <th></th>\n",
       "      <th>LIMIT_BAL</th>\n",
       "      <th>SEX</th>\n",
       "      <th>EDUCATION</th>\n",
       "      <th>MARRIAGE</th>\n",
       "      <th>AGE</th>\n",
       "      <th>PAY_STATUS_M9</th>\n",
       "      <th>PAY_STATUS_M8</th>\n",
       "      <th>PAY_STATUS_M7</th>\n",
       "      <th>PAY_STATUS_M6</th>\n",
       "      <th>PAY_STATUS_M5</th>\n",
       "      <th>...</th>\n",
       "      <th>BILL_M6</th>\n",
       "      <th>BILL_M5</th>\n",
       "      <th>BILL_M4</th>\n",
       "      <th>PAID_M9</th>\n",
       "      <th>PAID_M8</th>\n",
       "      <th>PAID_M7</th>\n",
       "      <th>PAID_M6</th>\n",
       "      <th>PAID_M5</th>\n",
       "      <th>PAID_M4</th>\n",
       "      <th>DEFAULT</th>\n",
       "    </tr>\n",
       "  </thead>\n",
       "  <tbody>\n",
       "    <tr>\n",
       "      <th>0</th>\n",
       "      <td>20000</td>\n",
       "      <td>2</td>\n",
       "      <td>2</td>\n",
       "      <td>1</td>\n",
       "      <td>24</td>\n",
       "      <td>2</td>\n",
       "      <td>2</td>\n",
       "      <td>-1</td>\n",
       "      <td>-1</td>\n",
       "      <td>-2</td>\n",
       "      <td>...</td>\n",
       "      <td>0</td>\n",
       "      <td>0</td>\n",
       "      <td>0</td>\n",
       "      <td>0</td>\n",
       "      <td>689</td>\n",
       "      <td>0</td>\n",
       "      <td>0</td>\n",
       "      <td>0</td>\n",
       "      <td>0</td>\n",
       "      <td>1</td>\n",
       "    </tr>\n",
       "    <tr>\n",
       "      <th>1</th>\n",
       "      <td>120000</td>\n",
       "      <td>2</td>\n",
       "      <td>2</td>\n",
       "      <td>2</td>\n",
       "      <td>26</td>\n",
       "      <td>-1</td>\n",
       "      <td>2</td>\n",
       "      <td>0</td>\n",
       "      <td>0</td>\n",
       "      <td>0</td>\n",
       "      <td>...</td>\n",
       "      <td>3272</td>\n",
       "      <td>3455</td>\n",
       "      <td>3261</td>\n",
       "      <td>0</td>\n",
       "      <td>1000</td>\n",
       "      <td>1000</td>\n",
       "      <td>1000</td>\n",
       "      <td>0</td>\n",
       "      <td>2000</td>\n",
       "      <td>1</td>\n",
       "    </tr>\n",
       "    <tr>\n",
       "      <th>2</th>\n",
       "      <td>90000</td>\n",
       "      <td>2</td>\n",
       "      <td>2</td>\n",
       "      <td>2</td>\n",
       "      <td>34</td>\n",
       "      <td>0</td>\n",
       "      <td>0</td>\n",
       "      <td>0</td>\n",
       "      <td>0</td>\n",
       "      <td>0</td>\n",
       "      <td>...</td>\n",
       "      <td>14331</td>\n",
       "      <td>14948</td>\n",
       "      <td>15549</td>\n",
       "      <td>1518</td>\n",
       "      <td>1500</td>\n",
       "      <td>1000</td>\n",
       "      <td>1000</td>\n",
       "      <td>1000</td>\n",
       "      <td>5000</td>\n",
       "      <td>0</td>\n",
       "    </tr>\n",
       "    <tr>\n",
       "      <th>3</th>\n",
       "      <td>50000</td>\n",
       "      <td>2</td>\n",
       "      <td>2</td>\n",
       "      <td>1</td>\n",
       "      <td>37</td>\n",
       "      <td>0</td>\n",
       "      <td>0</td>\n",
       "      <td>0</td>\n",
       "      <td>0</td>\n",
       "      <td>0</td>\n",
       "      <td>...</td>\n",
       "      <td>28314</td>\n",
       "      <td>28959</td>\n",
       "      <td>29547</td>\n",
       "      <td>2000</td>\n",
       "      <td>2019</td>\n",
       "      <td>1200</td>\n",
       "      <td>1100</td>\n",
       "      <td>1069</td>\n",
       "      <td>1000</td>\n",
       "      <td>0</td>\n",
       "    </tr>\n",
       "    <tr>\n",
       "      <th>4</th>\n",
       "      <td>50000</td>\n",
       "      <td>1</td>\n",
       "      <td>2</td>\n",
       "      <td>1</td>\n",
       "      <td>57</td>\n",
       "      <td>-1</td>\n",
       "      <td>0</td>\n",
       "      <td>-1</td>\n",
       "      <td>0</td>\n",
       "      <td>0</td>\n",
       "      <td>...</td>\n",
       "      <td>20940</td>\n",
       "      <td>19146</td>\n",
       "      <td>19131</td>\n",
       "      <td>2000</td>\n",
       "      <td>36681</td>\n",
       "      <td>10000</td>\n",
       "      <td>9000</td>\n",
       "      <td>689</td>\n",
       "      <td>679</td>\n",
       "      <td>0</td>\n",
       "    </tr>\n",
       "  </tbody>\n",
       "</table>\n",
       "<p>5 rows × 24 columns</p>\n",
       "</div>"
      ],
      "text/plain": [
       "   LIMIT_BAL  SEX  EDUCATION  MARRIAGE  AGE  PAY_STATUS_M9  PAY_STATUS_M8  \\\n",
       "0      20000    2          2         1   24              2              2   \n",
       "1     120000    2          2         2   26             -1              2   \n",
       "2      90000    2          2         2   34              0              0   \n",
       "3      50000    2          2         1   37              0              0   \n",
       "4      50000    1          2         1   57             -1              0   \n",
       "\n",
       "   PAY_STATUS_M7  PAY_STATUS_M6  PAY_STATUS_M5  ...  BILL_M6  BILL_M5  \\\n",
       "0             -1             -1             -2  ...        0        0   \n",
       "1              0              0              0  ...     3272     3455   \n",
       "2              0              0              0  ...    14331    14948   \n",
       "3              0              0              0  ...    28314    28959   \n",
       "4             -1              0              0  ...    20940    19146   \n",
       "\n",
       "   BILL_M4  PAID_M9  PAID_M8  PAID_M7  PAID_M6  PAID_M5  PAID_M4  DEFAULT  \n",
       "0        0        0      689        0        0        0        0        1  \n",
       "1     3261        0     1000     1000     1000        0     2000        1  \n",
       "2    15549     1518     1500     1000     1000     1000     5000        0  \n",
       "3    29547     2000     2019     1200     1100     1069     1000        0  \n",
       "4    19131     2000    36681    10000     9000      689      679        0  \n",
       "\n",
       "[5 rows x 24 columns]"
      ]
     },
     "execution_count": 197,
     "metadata": {},
     "output_type": "execute_result"
    }
   ],
   "source": [
    "#RENAME OF COLUMNS AND DROP OF ID\n",
    "credit.columns = ['ID', 'LIMIT_BAL', 'SEX', 'EDUCATION', 'MARRIAGE', 'AGE', 'PAY_STATUS_M9', 'PAY_STATUS_M8', 'PAY_STATUS_M7', 'PAY_STATUS_M6',\n",
    "       'PAY_STATUS_M5', 'PAY_STATUS_M4', 'BILL_M9', 'BILL_M8', 'BILL_M7', 'BILL_M6', 'BILL_M5', 'BILL_M4', 'PAID_M9', 'PAID_M8',\n",
    "       'PAID_M7', 'PAID_M6', 'PAID_M5', 'PAID_M4', 'DEFAULT']\n",
    "\n",
    "credit = credit.iloc[:,1:25] # with \":\" all rows are selected. Drop of ID.\n",
    "credit_raw = credit.iloc[:,1:25] # with \":\" all rows are selected. Drop of ID.\n",
    "credit.head()"
   ]
  },
  {
   "cell_type": "code",
   "execution_count": 198,
   "metadata": {},
   "outputs": [
    {
     "data": {
      "text/plain": [
       "LIMIT_BAL        0\n",
       "SEX              0\n",
       "EDUCATION        0\n",
       "MARRIAGE         0\n",
       "AGE              0\n",
       "PAY_STATUS_M9    0\n",
       "PAY_STATUS_M8    0\n",
       "PAY_STATUS_M7    0\n",
       "PAY_STATUS_M6    0\n",
       "PAY_STATUS_M5    0\n",
       "PAY_STATUS_M4    0\n",
       "BILL_M9          0\n",
       "BILL_M8          0\n",
       "BILL_M7          0\n",
       "BILL_M6          0\n",
       "BILL_M5          0\n",
       "BILL_M4          0\n",
       "PAID_M9          0\n",
       "PAID_M8          0\n",
       "PAID_M7          0\n",
       "PAID_M6          0\n",
       "PAID_M5          0\n",
       "PAID_M4          0\n",
       "DEFAULT          0\n",
       "dtype: int64"
      ]
     },
     "execution_count": 198,
     "metadata": {},
     "output_type": "execute_result"
    }
   ],
   "source": [
    "#Identification of Nulls\n",
    "credit.isnull().sum() "
   ]
  },
  {
   "cell_type": "code",
   "execution_count": 199,
   "metadata": {},
   "outputs": [
    {
     "data": {
      "text/plain": [
       "2    14030\n",
       "1    10585\n",
       "3     4917\n",
       "4      468\n",
       "Name: EDUCATION, dtype: int64"
      ]
     },
     "execution_count": 199,
     "metadata": {},
     "output_type": "execute_result"
    }
   ],
   "source": [
    "#SIMPLIFY. EDUCATION 0,4,5,6 were labeled as others; can be merged.\n",
    "fil = (credit.EDUCATION == 5) | (credit.EDUCATION == 6) | (credit.EDUCATION == 0)\n",
    "credit.loc[fil, 'EDUCATION'] = 4\n",
    "credit.EDUCATION.value_counts()"
   ]
  },
  {
   "cell_type": "markdown",
   "metadata": {},
   "source": [
    "## 2. Covariance estimation"
   ]
  },
  {
   "cell_type": "code",
   "execution_count": 200,
   "metadata": {
    "scrolled": false
   },
   "outputs": [
    {
     "name": "stdout",
     "output_type": "stream",
     "text": [
      "                  LIMIT_BAL          SEX     EDUCATION     MARRIAGE  \\\n",
      "LIMIT_BAL      1.683446e+10  1571.050630 -22322.227579 -7323.669658   \n",
      "SEX            1.571051e+03     0.239247      0.004962    -0.008014   \n",
      "EDUCATION     -2.232223e+04     0.004962      0.554272    -0.057954   \n",
      "MARRIAGE      -7.323670e+03    -0.008014     -0.057954     0.272452   \n",
      "AGE            1.730767e+05    -0.409726      1.251988    -1.992764   \n",
      "PAY_STATUS_M9 -3.954593e+04    -0.031685      0.094202     0.011683   \n",
      "PAY_STATUS_M8 -4.603765e+04    -0.041442      0.115604     0.015122   \n",
      "PAY_STATUS_M7 -4.443225e+04    -0.038694      0.109088     0.020421   \n",
      "PAY_STATUS_M6 -4.057181e+04    -0.034411      0.101430     0.020213   \n",
      "PAY_STATUS_M5 -3.667056e+04    -0.030521      0.087814     0.021074   \n",
      "PAY_STATUS_M4 -3.509308e+04    -0.024754      0.076186     0.020616   \n",
      "BILL_M9        2.727020e+09 -1211.694332    909.885257  -902.154685   \n",
      "BILL_M8        2.570130e+09 -1085.595467    634.798683  -802.517866   \n",
      "BILL_M7        2.548533e+09  -833.207432    346.636738  -901.679085   \n",
      "BILL_M6        2.453926e+09  -688.489572   -293.636171  -783.881599   \n",
      "BILL_M5        2.331481e+09  -505.694333   -563.008154  -805.840875   \n",
      "BILL_M4        2.243837e+09  -487.430160   -560.712350  -659.223347   \n",
      "PAID_M9        4.195711e+08    -1.964266   -506.667858   -51.691615   \n",
      "PAID_M8        5.333504e+08   -15.675500   -562.524961   -97.327974   \n",
      "PAID_M7        4.801180e+08   -74.034812   -580.608025   -32.546082   \n",
      "PAID_M6        4.131202e+08   -17.080110   -477.604029  -103.518204   \n",
      "PAID_M5        4.305657e+08   -12.458809   -513.432438    -9.607709   \n",
      "PAID_M4        5.065153e+08   -24.051885   -583.157800   -61.623271   \n",
      "DEFAULT       -8.267552e+03    -0.008113      0.010458    -0.005273   \n",
      "\n",
      "                         AGE  PAY_STATUS_M9  PAY_STATUS_M8  PAY_STATUS_M7  \\\n",
      "LIMIT_BAL      173076.722569  -39545.930009  -46037.648360  -44432.253315   \n",
      "SEX                -0.409726      -0.031685      -0.041442      -0.038694   \n",
      "EDUCATION           1.251988       0.094202       0.115604       0.109088   \n",
      "MARRIAGE           -1.992764       0.011683       0.015122       0.020421   \n",
      "AGE                84.969755      -0.408639      -0.553408      -0.585263   \n",
      "PAY_STATUS_M9      -0.408639       1.262930       0.904330       0.772384   \n",
      "PAY_STATUS_M8      -0.553408       0.904330       1.433254       1.098371   \n",
      "PAY_STATUS_M7      -0.585263       0.772384       1.098371       1.432492   \n",
      "PAY_STATUS_M6      -0.535851       0.707972       0.926680       1.087761   \n",
      "PAY_STATUS_M5      -0.562245       0.648743       0.844886       0.931455   \n",
      "PAY_STATUS_M4      -0.517022       0.613292       0.792320       0.870815   \n",
      "BILL_M9         38172.933546   15480.304170   20706.614217   18373.210469   \n",
      "BILL_M8         35613.657962   15185.916919   20045.829482   20214.071495   \n",
      "BILL_M7         34334.251320   14011.556537   18609.510991   18882.491544   \n",
      "BILL_M6         30453.108180   12950.248389   17116.298983   17494.100555   \n",
      "BILL_M5         27654.067800   12341.668685   16110.952468   16382.947539   \n",
      "BILL_M4         26137.648547   11844.759724   15642.875812   15847.089648   \n",
      "PAID_M9          3992.041735   -1475.495089   -1600.240756      25.668468   \n",
      "PAID_M8          4626.861549   -1815.138407   -1627.192336   -1841.952825   \n",
      "PAID_M7          4746.824393   -1396.168258   -1178.331282   -1123.428782   \n",
      "PAID_M6          3087.324192   -1126.847945    -878.843879    -863.762183   \n",
      "PAID_M5          3218.052172    -999.107730    -678.468530    -655.796002   \n",
      "PAID_M4          3191.903901   -1172.193614    -776.835035    -763.026041   \n",
      "DEFAULT             0.053143       0.151499       0.130960       0.116867   \n",
      "\n",
      "               PAY_STATUS_M6  PAY_STATUS_M5  ...       BILL_M6       BILL_M5  \\\n",
      "LIMIT_BAL      -40571.811859  -36670.562325  ...  2.453926e+09  2.331481e+09   \n",
      "SEX                -0.034411      -0.030521  ... -6.884896e+02 -5.056943e+02   \n",
      "EDUCATION           0.101430       0.087814  ... -2.936362e+02 -5.630082e+02   \n",
      "MARRIAGE            0.020213       0.021074  ... -7.838816e+02 -8.058409e+02   \n",
      "AGE                -0.535851      -0.562245  ...  3.045311e+04  2.765407e+04   \n",
      "PAY_STATUS_M9       0.707972       0.648743  ...  1.295025e+04  1.234167e+04   \n",
      "PAY_STATUS_M8       0.926680       0.844886  ...  1.711630e+04  1.611095e+04   \n",
      "PAY_STATUS_M7       1.087761       0.931455  ...  1.749410e+04  1.638295e+04   \n",
      "PAY_STATUS_M6       1.366885       1.086161  ...  1.849642e+04  1.726555e+04   \n",
      "PAY_STATUS_M5       1.086161       1.284114  ...  1.982293e+04  1.858659e+04   \n",
      "PAY_STATUS_M4       0.963263       1.064545  ...  1.970555e+04  2.033812e+04   \n",
      "BILL_M9         17460.198259   17246.377531  ...  4.075286e+09  3.714795e+09   \n",
      "BILL_M8         18790.627741   18301.285286  ...  4.086508e+09  3.720401e+09   \n",
      "BILL_M7         19862.999426   19122.663330  ...  4.122238e+09  3.726780e+09   \n",
      "BILL_M6         18496.423186   19822.925512  ...  4.138716e+09  3.677105e+09   \n",
      "BILL_M5         17265.551898   18586.590324  ...  3.677105e+09  3.696294e+09   \n",
      "BILL_M4         16651.586314   17715.690075  ...  3.451762e+09  3.425914e+09   \n",
      "PAID_M9          -181.295613    -114.281714  ...  2.482888e+08  2.185501e+08   \n",
      "PAID_M8           -52.358166     -83.324487  ...  3.076686e+08  2.538936e+08   \n",
      "PAID_M7         -1425.205189     180.812142  ...  3.398374e+08  2.700805e+08   \n",
      "PAID_M6          -796.035739   -1034.961970  ...  1.312133e+08  2.791830e+08   \n",
      "PAID_M5          -599.991629    -577.161017  ...  1.576892e+08  1.315051e+08   \n",
      "PAID_M4          -552.137338    -463.892613  ...  2.031590e+08  1.774537e+08   \n",
      "DEFAULT             0.105115       0.096020  ... -2.711999e+02 -1.705974e+02   \n",
      "\n",
      "                    BILL_M4       PAID_M9       PAID_M8       PAID_M7  \\\n",
      "LIMIT_BAL      2.243837e+09  4.195711e+08  5.333504e+08  4.801180e+08   \n",
      "SEX           -4.874302e+02 -1.964266e+00 -1.567550e+01 -7.403481e+01   \n",
      "EDUCATION     -5.607123e+02 -5.066679e+02 -5.625250e+02 -5.806080e+02   \n",
      "MARRIAGE      -6.592233e+02 -5.169161e+01 -9.732797e+01 -3.254608e+01   \n",
      "AGE            2.613765e+04  3.992042e+03  4.626862e+03  4.746824e+03   \n",
      "PAY_STATUS_M9  1.184476e+04 -1.475495e+03 -1.815138e+03 -1.396168e+03   \n",
      "PAY_STATUS_M8  1.564288e+04 -1.600241e+03 -1.627192e+03 -1.178331e+03   \n",
      "PAY_STATUS_M7  1.584709e+04  2.566847e+01 -1.841953e+03 -1.123429e+03   \n",
      "PAY_STATUS_M6  1.665159e+04 -1.812956e+02 -5.235817e+01 -1.425205e+03   \n",
      "PAY_STATUS_M5  1.771569e+04 -1.142817e+02 -8.332449e+01  1.808121e+02   \n",
      "PAY_STATUS_M4  1.952488e+04 -2.850067e+01 -1.383995e+02  1.181210e+02   \n",
      "BILL_M9        3.519876e+09  1.710894e+08  1.685692e+08  2.034048e+08   \n",
      "BILL_M8        3.524868e+09  3.305146e+08  1.653859e+08  1.888731e+08   \n",
      "BILL_M7        3.524247e+09  2.806565e+08  5.064226e+08  1.587478e+08   \n",
      "BILL_M6        3.451762e+09  2.482888e+08  3.076686e+08  3.398374e+08   \n",
      "BILL_M5        3.425914e+09  2.185501e+08  2.538936e+08  2.700805e+08   \n",
      "BILL_M4        3.546692e+09  1.972478e+08  2.369244e+08  2.451233e+08   \n",
      "PAID_M9        1.972478e+08  2.743423e+08  1.089849e+08  7.354626e+07   \n",
      "PAID_M8        2.369244e+08  1.089849e+08  5.308817e+08  9.929841e+07   \n",
      "PAID_M7        2.451233e+08  7.354626e+07  9.929841e+07  3.100051e+08   \n",
      "PAID_M6        2.334670e+08  5.178189e+07  6.501168e+07  5.966970e+07   \n",
      "PAID_M5        2.799982e+08  3.756893e+07  6.368414e+07  4.282921e+07   \n",
      "PAID_M4        1.222761e+08  5.469033e+07  6.456816e+07  5.093879e+07   \n",
      "DEFAULT       -1.327963e+02 -5.013746e+02 -5.602107e+02 -4.110763e+02   \n",
      "\n",
      "                    PAID_M6       PAID_M5       PAID_M4      DEFAULT  \n",
      "LIMIT_BAL      4.131202e+08  4.305657e+08  5.065153e+08 -8267.551759  \n",
      "SEX           -1.708011e+01 -1.245881e+01 -2.405188e+01    -0.008113  \n",
      "EDUCATION     -4.776040e+02 -5.134324e+02 -5.831578e+02     0.010458  \n",
      "MARRIAGE      -1.035182e+02 -9.607709e+00 -6.162327e+01    -0.005273  \n",
      "AGE            3.087324e+03  3.218052e+03  3.191904e+03     0.053143  \n",
      "PAY_STATUS_M9 -1.126848e+03 -9.991077e+02 -1.172194e+03     0.151499  \n",
      "PAY_STATUS_M8 -8.788439e+02 -6.784685e+02 -7.768350e+02     0.130960  \n",
      "PAY_STATUS_M7 -8.637622e+02 -6.557960e+02 -7.630260e+02     0.116867  \n",
      "PAY_STATUS_M6 -7.960357e+02 -5.999916e+02 -5.521373e+02     0.105115  \n",
      "PAY_STATUS_M5 -1.034962e+03 -5.771610e+02 -4.638926e+02     0.096020  \n",
      "PAY_STATUS_M4  3.426237e+02 -8.158327e+02 -5.172163e+02     0.089194  \n",
      "BILL_M9        1.826164e+08  1.879091e+08  2.347681e+08  -600.394108  \n",
      "BILL_M8        1.643518e+08  1.717652e+08  2.204845e+08  -419.289137  \n",
      "BILL_M7        1.558003e+08  1.904126e+08  2.247817e+08  -405.153680  \n",
      "BILL_M6        1.312133e+08  1.576892e+08  2.031590e+08  -271.199885  \n",
      "BILL_M5        2.791830e+08  1.315051e+08  1.774537e+08  -170.597447  \n",
      "BILL_M4        2.334670e+08  2.799982e+08  1.222761e+08  -132.796294  \n",
      "PAID_M9        5.178189e+07  3.756893e+07  5.469033e+07  -501.374552  \n",
      "PAID_M8        6.501168e+07  6.368414e+07  6.456816e+07  -560.210740  \n",
      "PAID_M7        5.966970e+07  4.282921e+07  5.093879e+07  -411.076284  \n",
      "PAID_M6        2.454286e+08  3.634098e+07  4.395747e+07  -369.515887  \n",
      "PAID_M5        3.634098e+07  2.334266e+08  4.207110e+07  -349.562530  \n",
      "PAID_M4        4.395747e+07  4.207110e+07  3.160383e+08  -392.426415  \n",
      "DEFAULT       -3.695159e+02 -3.495625e+02 -3.924264e+02     0.172276  \n",
      "\n",
      "[24 rows x 24 columns]\n"
     ]
    }
   ],
   "source": [
    "covMat = credit.cov()\n",
    "print(covMat)"
   ]
  },
  {
   "cell_type": "code",
   "execution_count": 202,
   "metadata": {},
   "outputs": [
    {
     "data": {
      "text/plain": [
       "Text(0.5, 1, 'Correlation between variables heat map')"
      ]
     },
     "execution_count": 202,
     "metadata": {},
     "output_type": "execute_result"
    },
    {
     "data": {
      "image/png": "[encoded data removed]",
      "text/plain": [
       "<Figure size 2160x720 with 2 Axes>"
      ]
     },
     "metadata": {},
     "output_type": "display_data"
    }
   ],
   "source": [
    "correlation = credit.corr()\n",
    "plt.subplots(figsize=(30,10))\n",
    "sns.heatmap(correlation, square=True, annot=True, fmt=\".1f\" )\n",
    "plt.title('Correlation between variables heat map')\n",
    "#It seems the bills per month are highly correlated between them, which suggest PCA may be valuable."
   ]
  },
  {
   "cell_type": "markdown",
   "metadata": {},
   "source": [
    "## 3. Exploratory Data Analysis (EDA)"
   ]
  },
  {
   "cell_type": "code",
   "execution_count": 45,
   "metadata": {
    "scrolled": true
   },
   "outputs": [
    {
     "data": {
      "text/html": [
       "<div>\n",
       "<style scoped>\n",
       "    .dataframe tbody tr th:only-of-type {\n",
       "        vertical-align: middle;\n",
       "    }\n",
       "\n",
       "    .dataframe tbody tr th {\n",
       "        vertical-align: top;\n",
       "    }\n",
       "\n",
       "    .dataframe thead th {\n",
       "        text-align: right;\n",
       "    }\n",
       "</style>\n",
       "<table border=\"1\" class=\"dataframe\">\n",
       "  <thead>\n",
       "    <tr style=\"text-align: right;\">\n",
       "      <th></th>\n",
       "      <th>LIMIT_BAL</th>\n",
       "      <th>SEX</th>\n",
       "      <th>EDUCATION</th>\n",
       "      <th>MARRIAGE</th>\n",
       "      <th>AGE</th>\n",
       "      <th>PAY_STATUS_M9</th>\n",
       "      <th>PAY_STATUS_M8</th>\n",
       "      <th>PAY_STATUS_M7</th>\n",
       "      <th>PAY_STATUS_M6</th>\n",
       "      <th>PAY_STATUS_M5</th>\n",
       "      <th>...</th>\n",
       "      <th>BILL_M6</th>\n",
       "      <th>BILL_M5</th>\n",
       "      <th>BILL_M4</th>\n",
       "      <th>PAID_M9</th>\n",
       "      <th>PAID_M8</th>\n",
       "      <th>PAID_M7</th>\n",
       "      <th>PAID_M6</th>\n",
       "      <th>PAID_M5</th>\n",
       "      <th>PAID_M4</th>\n",
       "      <th>DEFAULT</th>\n",
       "    </tr>\n",
       "  </thead>\n",
       "  <tbody>\n",
       "    <tr>\n",
       "      <th>count</th>\n",
       "      <td>30000.000000</td>\n",
       "      <td>30000.000000</td>\n",
       "      <td>30000.000000</td>\n",
       "      <td>30000.000000</td>\n",
       "      <td>30000.000000</td>\n",
       "      <td>30000.000000</td>\n",
       "      <td>30000.000000</td>\n",
       "      <td>30000.000000</td>\n",
       "      <td>30000.000000</td>\n",
       "      <td>30000.000000</td>\n",
       "      <td>...</td>\n",
       "      <td>30000.000000</td>\n",
       "      <td>30000.000000</td>\n",
       "      <td>30000.000000</td>\n",
       "      <td>30000.000000</td>\n",
       "      <td>3.000000e+04</td>\n",
       "      <td>30000.00000</td>\n",
       "      <td>30000.000000</td>\n",
       "      <td>30000.000000</td>\n",
       "      <td>30000.000000</td>\n",
       "      <td>30000.000000</td>\n",
       "    </tr>\n",
       "    <tr>\n",
       "      <th>mean</th>\n",
       "      <td>167484.322667</td>\n",
       "      <td>1.603733</td>\n",
       "      <td>1.842267</td>\n",
       "      <td>1.551867</td>\n",
       "      <td>35.485500</td>\n",
       "      <td>-0.016700</td>\n",
       "      <td>-0.133767</td>\n",
       "      <td>-0.166200</td>\n",
       "      <td>-0.220667</td>\n",
       "      <td>-0.266200</td>\n",
       "      <td>...</td>\n",
       "      <td>43262.948967</td>\n",
       "      <td>40311.400967</td>\n",
       "      <td>38871.760400</td>\n",
       "      <td>5663.580500</td>\n",
       "      <td>5.921163e+03</td>\n",
       "      <td>5225.68150</td>\n",
       "      <td>4826.076867</td>\n",
       "      <td>4799.387633</td>\n",
       "      <td>5215.502567</td>\n",
       "      <td>0.221200</td>\n",
       "    </tr>\n",
       "    <tr>\n",
       "      <th>std</th>\n",
       "      <td>129747.661567</td>\n",
       "      <td>0.489129</td>\n",
       "      <td>0.744494</td>\n",
       "      <td>0.521970</td>\n",
       "      <td>9.217904</td>\n",
       "      <td>1.123802</td>\n",
       "      <td>1.197186</td>\n",
       "      <td>1.196868</td>\n",
       "      <td>1.169139</td>\n",
       "      <td>1.133187</td>\n",
       "      <td>...</td>\n",
       "      <td>64332.856134</td>\n",
       "      <td>60797.155770</td>\n",
       "      <td>59554.107537</td>\n",
       "      <td>16563.280354</td>\n",
       "      <td>2.304087e+04</td>\n",
       "      <td>17606.96147</td>\n",
       "      <td>15666.159744</td>\n",
       "      <td>15278.305679</td>\n",
       "      <td>17777.465775</td>\n",
       "      <td>0.415062</td>\n",
       "    </tr>\n",
       "    <tr>\n",
       "      <th>min</th>\n",
       "      <td>10000.000000</td>\n",
       "      <td>1.000000</td>\n",
       "      <td>1.000000</td>\n",
       "      <td>0.000000</td>\n",
       "      <td>21.000000</td>\n",
       "      <td>-2.000000</td>\n",
       "      <td>-2.000000</td>\n",
       "      <td>-2.000000</td>\n",
       "      <td>-2.000000</td>\n",
       "      <td>-2.000000</td>\n",
       "      <td>...</td>\n",
       "      <td>-170000.000000</td>\n",
       "      <td>-81334.000000</td>\n",
       "      <td>-339603.000000</td>\n",
       "      <td>0.000000</td>\n",
       "      <td>0.000000e+00</td>\n",
       "      <td>0.00000</td>\n",
       "      <td>0.000000</td>\n",
       "      <td>0.000000</td>\n",
       "      <td>0.000000</td>\n",
       "      <td>0.000000</td>\n",
       "    </tr>\n",
       "    <tr>\n",
       "      <th>25%</th>\n",
       "      <td>50000.000000</td>\n",
       "      <td>1.000000</td>\n",
       "      <td>1.000000</td>\n",
       "      <td>1.000000</td>\n",
       "      <td>28.000000</td>\n",
       "      <td>-1.000000</td>\n",
       "      <td>-1.000000</td>\n",
       "      <td>-1.000000</td>\n",
       "      <td>-1.000000</td>\n",
       "      <td>-1.000000</td>\n",
       "      <td>...</td>\n",
       "      <td>2326.750000</td>\n",
       "      <td>1763.000000</td>\n",
       "      <td>1256.000000</td>\n",
       "      <td>1000.000000</td>\n",
       "      <td>8.330000e+02</td>\n",
       "      <td>390.00000</td>\n",
       "      <td>296.000000</td>\n",
       "      <td>252.500000</td>\n",
       "      <td>117.750000</td>\n",
       "      <td>0.000000</td>\n",
       "    </tr>\n",
       "    <tr>\n",
       "      <th>50%</th>\n",
       "      <td>140000.000000</td>\n",
       "      <td>2.000000</td>\n",
       "      <td>2.000000</td>\n",
       "      <td>2.000000</td>\n",
       "      <td>34.000000</td>\n",
       "      <td>0.000000</td>\n",
       "      <td>0.000000</td>\n",
       "      <td>0.000000</td>\n",
       "      <td>0.000000</td>\n",
       "      <td>0.000000</td>\n",
       "      <td>...</td>\n",
       "      <td>19052.000000</td>\n",
       "      <td>18104.500000</td>\n",
       "      <td>17071.000000</td>\n",
       "      <td>2100.000000</td>\n",
       "      <td>2.009000e+03</td>\n",
       "      <td>1800.00000</td>\n",
       "      <td>1500.000000</td>\n",
       "      <td>1500.000000</td>\n",
       "      <td>1500.000000</td>\n",
       "      <td>0.000000</td>\n",
       "    </tr>\n",
       "    <tr>\n",
       "      <th>75%</th>\n",
       "      <td>240000.000000</td>\n",
       "      <td>2.000000</td>\n",
       "      <td>2.000000</td>\n",
       "      <td>2.000000</td>\n",
       "      <td>41.000000</td>\n",
       "      <td>0.000000</td>\n",
       "      <td>0.000000</td>\n",
       "      <td>0.000000</td>\n",
       "      <td>0.000000</td>\n",
       "      <td>0.000000</td>\n",
       "      <td>...</td>\n",
       "      <td>54506.000000</td>\n",
       "      <td>50190.500000</td>\n",
       "      <td>49198.250000</td>\n",
       "      <td>5006.000000</td>\n",
       "      <td>5.000000e+03</td>\n",
       "      <td>4505.00000</td>\n",
       "      <td>4013.250000</td>\n",
       "      <td>4031.500000</td>\n",
       "      <td>4000.000000</td>\n",
       "      <td>0.000000</td>\n",
       "    </tr>\n",
       "    <tr>\n",
       "      <th>max</th>\n",
       "      <td>1000000.000000</td>\n",
       "      <td>2.000000</td>\n",
       "      <td>4.000000</td>\n",
       "      <td>3.000000</td>\n",
       "      <td>79.000000</td>\n",
       "      <td>8.000000</td>\n",
       "      <td>8.000000</td>\n",
       "      <td>8.000000</td>\n",
       "      <td>8.000000</td>\n",
       "      <td>8.000000</td>\n",
       "      <td>...</td>\n",
       "      <td>891586.000000</td>\n",
       "      <td>927171.000000</td>\n",
       "      <td>961664.000000</td>\n",
       "      <td>873552.000000</td>\n",
       "      <td>1.684259e+06</td>\n",
       "      <td>896040.00000</td>\n",
       "      <td>621000.000000</td>\n",
       "      <td>426529.000000</td>\n",
       "      <td>528666.000000</td>\n",
       "      <td>1.000000</td>\n",
       "    </tr>\n",
       "  </tbody>\n",
       "</table>\n",
       "<p>8 rows × 24 columns</p>\n",
       "</div>"
      ],
      "text/plain": [
       "            LIMIT_BAL           SEX     EDUCATION      MARRIAGE           AGE  \\\n",
       "count    30000.000000  30000.000000  30000.000000  30000.000000  30000.000000   \n",
       "mean    167484.322667      1.603733      1.842267      1.551867     35.485500   \n",
       "std     129747.661567      0.489129      0.744494      0.521970      9.217904   \n",
       "min      10000.000000      1.000000      1.000000      0.000000     21.000000   \n",
       "25%      50000.000000      1.000000      1.000000      1.000000     28.000000   \n",
       "50%     140000.000000      2.000000      2.000000      2.000000     34.000000   \n",
       "75%     240000.000000      2.000000      2.000000      2.000000     41.000000   \n",
       "max    1000000.000000      2.000000      4.000000      3.000000     79.000000   \n",
       "\n",
       "       PAY_STATUS_M9  PAY_STATUS_M8  PAY_STATUS_M7  PAY_STATUS_M6  \\\n",
       "count   30000.000000   30000.000000   30000.000000   30000.000000   \n",
       "mean       -0.016700      -0.133767      -0.166200      -0.220667   \n",
       "std         1.123802       1.197186       1.196868       1.169139   \n",
       "min        -2.000000      -2.000000      -2.000000      -2.000000   \n",
       "25%        -1.000000      -1.000000      -1.000000      -1.000000   \n",
       "50%         0.000000       0.000000       0.000000       0.000000   \n",
       "75%         0.000000       0.000000       0.000000       0.000000   \n",
       "max         8.000000       8.000000       8.000000       8.000000   \n",
       "\n",
       "       PAY_STATUS_M5  ...        BILL_M6        BILL_M5        BILL_M4  \\\n",
       "count   30000.000000  ...   30000.000000   30000.000000   30000.000000   \n",
       "mean       -0.266200  ...   43262.948967   40311.400967   38871.760400   \n",
       "std         1.133187  ...   64332.856134   60797.155770   59554.107537   \n",
       "min        -2.000000  ... -170000.000000  -81334.000000 -339603.000000   \n",
       "25%        -1.000000  ...    2326.750000    1763.000000    1256.000000   \n",
       "50%         0.000000  ...   19052.000000   18104.500000   17071.000000   \n",
       "75%         0.000000  ...   54506.000000   50190.500000   49198.250000   \n",
       "max         8.000000  ...  891586.000000  927171.000000  961664.000000   \n",
       "\n",
       "             PAID_M9       PAID_M8       PAID_M7        PAID_M6  \\\n",
       "count   30000.000000  3.000000e+04   30000.00000   30000.000000   \n",
       "mean     5663.580500  5.921163e+03    5225.68150    4826.076867   \n",
       "std     16563.280354  2.304087e+04   17606.96147   15666.159744   \n",
       "min         0.000000  0.000000e+00       0.00000       0.000000   \n",
       "25%      1000.000000  8.330000e+02     390.00000     296.000000   \n",
       "50%      2100.000000  2.009000e+03    1800.00000    1500.000000   \n",
       "75%      5006.000000  5.000000e+03    4505.00000    4013.250000   \n",
       "max    873552.000000  1.684259e+06  896040.00000  621000.000000   \n",
       "\n",
       "             PAID_M5        PAID_M4       DEFAULT  \n",
       "count   30000.000000   30000.000000  30000.000000  \n",
       "mean     4799.387633    5215.502567      0.221200  \n",
       "std     15278.305679   17777.465775      0.415062  \n",
       "min         0.000000       0.000000      0.000000  \n",
       "25%       252.500000     117.750000      0.000000  \n",
       "50%      1500.000000    1500.000000      0.000000  \n",
       "75%      4031.500000    4000.000000      0.000000  \n",
       "max    426529.000000  528666.000000      1.000000  \n",
       "\n",
       "[8 rows x 24 columns]"
      ]
     },
     "execution_count": 45,
     "metadata": {},
     "output_type": "execute_result"
    }
   ],
   "source": [
    "credit.describe()"
   ]
  },
  {
   "cell_type": "code",
   "execution_count": 46,
   "metadata": {},
   "outputs": [
    {
     "name": "stdout",
     "output_type": "stream",
     "text": [
      "credit default structure rows-col: (6636, 24)\n",
      "credit non default structure rows-col: (23364, 24)\n"
     ]
    }
   ],
   "source": [
    "#Subseting according to default\n",
    "non_default = credit['DEFAULT']==0\n",
    "credit_nondefault = credit[non_default]\n",
    "\n",
    "is_default = credit['DEFAULT']!=0\n",
    "credit_default = credit[is_default]\n",
    "\n",
    "print('credit default structure rows-col:',credit_default.shape)\n",
    "print('credit non default structure rows-col:',credit_nondefault.shape)"
   ]
  },
  {
   "cell_type": "code",
   "execution_count": 47,
   "metadata": {},
   "outputs": [
    {
     "data": {
      "text/plain": [
       "Text(0, 0.5, 'Total credit limit (NT$)')"
      ]
     },
     "execution_count": 47,
     "metadata": {},
     "output_type": "execute_result"
    },
    {
     "data": {
      "image/png": "[encoded data removed]",
      "text/plain": [
       "<Figure size 432x288 with 2 Axes>"
      ]
     },
     "metadata": {
      "needs_background": "light"
     },
     "output_type": "display_data"
    }
   ],
   "source": [
    "B = credit_default['LIMIT_BAL']\n",
    "plt.subplot(2,3,4)\n",
    "plt.boxplot(B,0,'rD')\n",
    "plt.ylim(0, 1000000)\n",
    "plt.title('Default Customers Box-Plot')\n",
    "plt.ylabel('Total credit limit (NT$)')\n",
    "\n",
    "C = credit_nondefault['LIMIT_BAL']\n",
    "plt.subplot(2,3,6)\n",
    "plt.boxplot(C,0,'gD')\n",
    "plt.title('Non-Default Customers Box-Plot')\n",
    "plt.ylabel('Total credit limit (NT$)')"
   ]
  },
  {
   "cell_type": "code",
   "execution_count": 48,
   "metadata": {},
   "outputs": [
    {
     "name": "stdout",
     "output_type": "stream",
     "text": [
      "The use of limit for total population is: 23.21 %\n",
      "The use of credit for default population is: 29.41 %\n",
      "The use of limit for non default population is: 21.92 %\n"
     ]
    },
    {
     "data": {
      "text/plain": [
       "Text(0, 0.5, '% used of Bill Limit')"
      ]
     },
     "execution_count": 48,
     "metadata": {},
     "output_type": "execute_result"
    },
    {
     "data": {
      "image/png": "[encoded data removed]",
      "text/plain": [
       "<Figure size 432x288 with 2 Axes>"
      ]
     },
     "metadata": {
      "needs_background": "light"
     },
     "output_type": "display_data"
    }
   ],
   "source": [
    "# Set of features\n",
    "mean = credit['BILL_M4'].sum()/credit['LIMIT_BAL'].sum()\n",
    "mean = mean * 100\n",
    "print('The use of limit for total population is:','%.2f'% mean, '%')\n",
    "\n",
    "mean_def = credit_default['BILL_M4'].sum()/credit_default['LIMIT_BAL'].sum()\n",
    "mean_def = mean_def * 100\n",
    "print('The use of credit for default population is:','%.2f'% mean_def, '%')\n",
    "\n",
    "mean_non = credit_nondefault['BILL_M4'].sum()/credit_nondefault['LIMIT_BAL'].sum()\n",
    "mean_non = mean_non * 100\n",
    "print('The use of limit for non default population is:', '%.2f'% mean_non, '%')\n",
    "\n",
    "percentage_def = credit_default['BILL_M4']/credit_default['LIMIT_BAL']\n",
    "B = percentage_def\n",
    "plt.subplot(2,3,4)\n",
    "plt.boxplot(B,0,'rD')\n",
    "plt.ylim(0,4)\n",
    "plt.title('Default Customers Box-Plot')\n",
    "plt.ylabel('% used of Bill Limit')\n",
    "\n",
    "percentage_nondef = credit_nondefault['BILL_M4']/credit_nondefault['LIMIT_BAL']\n",
    "C = percentage_nondef\n",
    "plt.subplot(2,3,6)\n",
    "plt.boxplot(C,0,'gD')\n",
    "plt.ylim(0,4)\n",
    "plt.title('Non-Default Customers Box-Plot')\n",
    "plt.ylabel('% used of Bill Limit')\n",
    "\n",
    "#Insigth: What is happening that bill is more than the limit_balance?"
   ]
  },
  {
   "cell_type": "markdown",
   "metadata": {},
   "source": [
    "## 4. Feature Engineering: Principal Components Analysis (PCA)\n",
    "\n",
    "https://www.aprendemachinelearning.com/comprende-principal-component-analysis/\n",
    "\n",
    "https://www.edureka.co/blog/principal-component-analysis/\n",
    "\n",
    "https://support.minitab.com/en-us/minitab/18/help-and-how-to/modeling-statistics/multivariate/how-to/principal-components/interpret-the-results/key-results/\n",
    "\n",
    "1. Standarize the entry data (Normalization of variables)\n",
    "2. Obtain eigenvectors and eigenvalues from the covariance matrix.\n",
    "3. Order eigenvalues descending; and select the \"k\" eigenvectors with the greatest \"k\" eigenvectors. (\"k\" is the number of dimensions of the new space of characteristics).\n",
    "4. Build the matrix \"W\" with the \"k\" eigenvectors selected.\n",
    "5. Transform the original dataset \"X-Standarized\" through \"W\" to obtain the new \"k\" dimension characteristics."
   ]
  },
  {
   "cell_type": "code",
   "execution_count": 49,
   "metadata": {},
   "outputs": [],
   "source": [
    "import pandas as pd\n",
    "import numpy as np\n",
    "import matplotlib.pyplot as plt\n",
    "%matplotlib inline\n",
    "plt.rcParams['figure.figsize'] = (8, 8)\n",
    "plt.style.use('ggplot')\n",
    "from sklearn.decomposition import PCA\n",
    "from sklearn.preprocessing import StandardScaler"
   ]
  },
  {
   "cell_type": "code",
   "execution_count": 50,
   "metadata": {},
   "outputs": [
    {
     "data": {
      "text/html": [
       "<div>\n",
       "<style scoped>\n",
       "    .dataframe tbody tr th:only-of-type {\n",
       "        vertical-align: middle;\n",
       "    }\n",
       "\n",
       "    .dataframe tbody tr th {\n",
       "        vertical-align: top;\n",
       "    }\n",
       "\n",
       "    .dataframe thead th {\n",
       "        text-align: right;\n",
       "    }\n",
       "</style>\n",
       "<table border=\"1\" class=\"dataframe\">\n",
       "  <thead>\n",
       "    <tr style=\"text-align: right;\">\n",
       "      <th></th>\n",
       "      <th>LIMIT_BAL</th>\n",
       "      <th>AGE</th>\n",
       "      <th>BILL_M9</th>\n",
       "      <th>BILL_M8</th>\n",
       "      <th>BILL_M7</th>\n",
       "      <th>BILL_M6</th>\n",
       "      <th>BILL_M5</th>\n",
       "      <th>BILL_M4</th>\n",
       "      <th>PAID_M9</th>\n",
       "      <th>PAID_M8</th>\n",
       "      <th>PAID_M7</th>\n",
       "      <th>PAID_M6</th>\n",
       "      <th>PAID_M5</th>\n",
       "      <th>PAID_M4</th>\n",
       "    </tr>\n",
       "  </thead>\n",
       "  <tbody>\n",
       "    <tr>\n",
       "      <th>0</th>\n",
       "      <td>-1.136720</td>\n",
       "      <td>-1.246020</td>\n",
       "      <td>-0.642501</td>\n",
       "      <td>-0.647399</td>\n",
       "      <td>-0.667993</td>\n",
       "      <td>-0.672497</td>\n",
       "      <td>-0.663059</td>\n",
       "      <td>-0.652724</td>\n",
       "      <td>-0.341942</td>\n",
       "      <td>-0.227086</td>\n",
       "      <td>-0.296801</td>\n",
       "      <td>-0.308063</td>\n",
       "      <td>-0.314136</td>\n",
       "      <td>-0.293382</td>\n",
       "    </tr>\n",
       "    <tr>\n",
       "      <th>1</th>\n",
       "      <td>-0.365981</td>\n",
       "      <td>-1.029047</td>\n",
       "      <td>-0.659219</td>\n",
       "      <td>-0.666747</td>\n",
       "      <td>-0.639254</td>\n",
       "      <td>-0.621636</td>\n",
       "      <td>-0.606229</td>\n",
       "      <td>-0.597966</td>\n",
       "      <td>-0.341942</td>\n",
       "      <td>-0.213588</td>\n",
       "      <td>-0.240005</td>\n",
       "      <td>-0.244230</td>\n",
       "      <td>-0.314136</td>\n",
       "      <td>-0.180878</td>\n",
       "    </tr>\n",
       "    <tr>\n",
       "      <th>2</th>\n",
       "      <td>-0.597202</td>\n",
       "      <td>-0.161156</td>\n",
       "      <td>-0.298560</td>\n",
       "      <td>-0.493899</td>\n",
       "      <td>-0.482408</td>\n",
       "      <td>-0.449730</td>\n",
       "      <td>-0.417188</td>\n",
       "      <td>-0.391630</td>\n",
       "      <td>-0.250292</td>\n",
       "      <td>-0.191887</td>\n",
       "      <td>-0.240005</td>\n",
       "      <td>-0.244230</td>\n",
       "      <td>-0.248683</td>\n",
       "      <td>-0.012122</td>\n",
       "    </tr>\n",
       "    <tr>\n",
       "      <th>3</th>\n",
       "      <td>-0.905498</td>\n",
       "      <td>0.164303</td>\n",
       "      <td>-0.057491</td>\n",
       "      <td>-0.013293</td>\n",
       "      <td>0.032846</td>\n",
       "      <td>-0.232373</td>\n",
       "      <td>-0.186729</td>\n",
       "      <td>-0.156579</td>\n",
       "      <td>-0.221191</td>\n",
       "      <td>-0.169361</td>\n",
       "      <td>-0.228645</td>\n",
       "      <td>-0.237846</td>\n",
       "      <td>-0.244166</td>\n",
       "      <td>-0.237130</td>\n",
       "    </tr>\n",
       "    <tr>\n",
       "      <th>4</th>\n",
       "      <td>-0.905498</td>\n",
       "      <td>2.334029</td>\n",
       "      <td>-0.578618</td>\n",
       "      <td>-0.611318</td>\n",
       "      <td>-0.161189</td>\n",
       "      <td>-0.346997</td>\n",
       "      <td>-0.348137</td>\n",
       "      <td>-0.331482</td>\n",
       "      <td>-0.221191</td>\n",
       "      <td>1.335034</td>\n",
       "      <td>0.271165</td>\n",
       "      <td>0.266434</td>\n",
       "      <td>-0.269039</td>\n",
       "      <td>-0.255187</td>\n",
       "    </tr>\n",
       "    <tr>\n",
       "      <th>...</th>\n",
       "      <td>...</td>\n",
       "      <td>...</td>\n",
       "      <td>...</td>\n",
       "      <td>...</td>\n",
       "      <td>...</td>\n",
       "      <td>...</td>\n",
       "      <td>...</td>\n",
       "      <td>...</td>\n",
       "      <td>...</td>\n",
       "      <td>...</td>\n",
       "      <td>...</td>\n",
       "      <td>...</td>\n",
       "      <td>...</td>\n",
       "      <td>...</td>\n",
       "    </tr>\n",
       "    <tr>\n",
       "      <th>29995</th>\n",
       "      <td>0.404759</td>\n",
       "      <td>0.381275</td>\n",
       "      <td>1.870379</td>\n",
       "      <td>2.018136</td>\n",
       "      <td>2.326690</td>\n",
       "      <td>0.695474</td>\n",
       "      <td>-0.149259</td>\n",
       "      <td>-0.384392</td>\n",
       "      <td>0.171250</td>\n",
       "      <td>0.611048</td>\n",
       "      <td>-0.012648</td>\n",
       "      <td>-0.113564</td>\n",
       "      <td>0.013131</td>\n",
       "      <td>-0.237130</td>\n",
       "    </tr>\n",
       "    <tr>\n",
       "      <th>29996</th>\n",
       "      <td>-0.134759</td>\n",
       "      <td>0.815221</td>\n",
       "      <td>-0.672786</td>\n",
       "      <td>-0.665299</td>\n",
       "      <td>-0.627430</td>\n",
       "      <td>-0.532924</td>\n",
       "      <td>-0.577691</td>\n",
       "      <td>-0.652724</td>\n",
       "      <td>-0.231032</td>\n",
       "      <td>-0.103955</td>\n",
       "      <td>0.214255</td>\n",
       "      <td>-0.299828</td>\n",
       "      <td>-0.314136</td>\n",
       "      <td>-0.293382</td>\n",
       "    </tr>\n",
       "    <tr>\n",
       "      <th>29997</th>\n",
       "      <td>-1.059646</td>\n",
       "      <td>0.164303</td>\n",
       "      <td>-0.647227</td>\n",
       "      <td>-0.643830</td>\n",
       "      <td>-0.638158</td>\n",
       "      <td>-0.347961</td>\n",
       "      <td>-0.324517</td>\n",
       "      <td>-0.327687</td>\n",
       "      <td>-0.341942</td>\n",
       "      <td>-0.256990</td>\n",
       "      <td>0.952725</td>\n",
       "      <td>-0.039964</td>\n",
       "      <td>-0.183229</td>\n",
       "      <td>-0.119001</td>\n",
       "    </tr>\n",
       "    <tr>\n",
       "      <th>29998</th>\n",
       "      <td>-0.674276</td>\n",
       "      <td>0.598248</td>\n",
       "      <td>-0.717982</td>\n",
       "      <td>0.410269</td>\n",
       "      <td>0.422373</td>\n",
       "      <td>0.147844</td>\n",
       "      <td>-0.468063</td>\n",
       "      <td>0.169130</td>\n",
       "      <td>4.844316</td>\n",
       "      <td>-0.109033</td>\n",
       "      <td>-0.229895</td>\n",
       "      <td>-0.185120</td>\n",
       "      <td>3.152536</td>\n",
       "      <td>-0.191904</td>\n",
       "    </tr>\n",
       "    <tr>\n",
       "      <th>29999</th>\n",
       "      <td>-0.905498</td>\n",
       "      <td>1.140680</td>\n",
       "      <td>-0.044739</td>\n",
       "      <td>-0.003851</td>\n",
       "      <td>0.039667</td>\n",
       "      <td>-0.104582</td>\n",
       "      <td>-0.129669</td>\n",
       "      <td>-0.395592</td>\n",
       "      <td>-0.216481</td>\n",
       "      <td>-0.178866</td>\n",
       "      <td>-0.215582</td>\n",
       "      <td>-0.244230</td>\n",
       "      <td>-0.248683</td>\n",
       "      <td>-0.237130</td>\n",
       "    </tr>\n",
       "  </tbody>\n",
       "</table>\n",
       "<p>30000 rows × 14 columns</p>\n",
       "</div>"
      ],
      "text/plain": [
       "       LIMIT_BAL       AGE   BILL_M9   BILL_M8   BILL_M7   BILL_M6   BILL_M5  \\\n",
       "0      -1.136720 -1.246020 -0.642501 -0.647399 -0.667993 -0.672497 -0.663059   \n",
       "1      -0.365981 -1.029047 -0.659219 -0.666747 -0.639254 -0.621636 -0.606229   \n",
       "2      -0.597202 -0.161156 -0.298560 -0.493899 -0.482408 -0.449730 -0.417188   \n",
       "3      -0.905498  0.164303 -0.057491 -0.013293  0.032846 -0.232373 -0.186729   \n",
       "4      -0.905498  2.334029 -0.578618 -0.611318 -0.161189 -0.346997 -0.348137   \n",
       "...          ...       ...       ...       ...       ...       ...       ...   \n",
       "29995   0.404759  0.381275  1.870379  2.018136  2.326690  0.695474 -0.149259   \n",
       "29996  -0.134759  0.815221 -0.672786 -0.665299 -0.627430 -0.532924 -0.577691   \n",
       "29997  -1.059646  0.164303 -0.647227 -0.643830 -0.638158 -0.347961 -0.324517   \n",
       "29998  -0.674276  0.598248 -0.717982  0.410269  0.422373  0.147844 -0.468063   \n",
       "29999  -0.905498  1.140680 -0.044739 -0.003851  0.039667 -0.104582 -0.129669   \n",
       "\n",
       "        BILL_M4   PAID_M9   PAID_M8   PAID_M7   PAID_M6   PAID_M5   PAID_M4  \n",
       "0     -0.652724 -0.341942 -0.227086 -0.296801 -0.308063 -0.314136 -0.293382  \n",
       "1     -0.597966 -0.341942 -0.213588 -0.240005 -0.244230 -0.314136 -0.180878  \n",
       "2     -0.391630 -0.250292 -0.191887 -0.240005 -0.244230 -0.248683 -0.012122  \n",
       "3     -0.156579 -0.221191 -0.169361 -0.228645 -0.237846 -0.244166 -0.237130  \n",
       "4     -0.331482 -0.221191  1.335034  0.271165  0.266434 -0.269039 -0.255187  \n",
       "...         ...       ...       ...       ...       ...       ...       ...  \n",
       "29995 -0.384392  0.171250  0.611048 -0.012648 -0.113564  0.013131 -0.237130  \n",
       "29996 -0.652724 -0.231032 -0.103955  0.214255 -0.299828 -0.314136 -0.293382  \n",
       "29997 -0.327687 -0.341942 -0.256990  0.952725 -0.039964 -0.183229 -0.119001  \n",
       "29998  0.169130  4.844316 -0.109033 -0.229895 -0.185120  3.152536 -0.191904  \n",
       "29999 -0.395592 -0.216481 -0.178866 -0.215582 -0.244230 -0.248683 -0.237130  \n",
       "\n",
       "[30000 rows x 14 columns]"
      ]
     },
     "execution_count": 50,
     "metadata": {},
     "output_type": "execute_result"
    }
   ],
   "source": [
    "#Normalize the data\n",
    "scaler = StandardScaler()\n",
    "col_to_norm =['LIMIT_BAL', 'AGE','BILL_M9', 'BILL_M8', 'BILL_M7', 'BILL_M6', 'BILL_M5', 'BILL_M4', 'PAID_M9', 'PAID_M8',\n",
    "       'PAID_M7', 'PAID_M6', 'PAID_M5', 'PAID_M4'] \n",
    "\n",
    "scaler.fit(credit[col_to_norm]) #calculus of mean for transformation\n",
    "credit[col_to_norm] = scaler.transform(credit[col_to_norm])#scaling and normalization of data\n",
    "\n",
    "credit[col_to_norm]"
   ]
  },
  {
   "cell_type": "code",
   "execution_count": 51,
   "metadata": {},
   "outputs": [],
   "source": [
    "#PCA application\n",
    "pca = PCA (n_components = 5) # Can also be defined by obtain a minimun \"explained\" eg.pca=PCA(.85)\n",
    "pca.fit(credit[col_to_norm]) #obtain the principal components\n",
    "pca_col = pca.transform(credit[col_to_norm]) #conversion of data to new PCA dimensions"
   ]
  },
  {
   "cell_type": "code",
   "execution_count": 52,
   "metadata": {},
   "outputs": [
    {
     "data": {
      "text/html": [
       "<div>\n",
       "<style scoped>\n",
       "    .dataframe tbody tr th:only-of-type {\n",
       "        vertical-align: middle;\n",
       "    }\n",
       "\n",
       "    .dataframe tbody tr th {\n",
       "        vertical-align: top;\n",
       "    }\n",
       "\n",
       "    .dataframe thead th {\n",
       "        text-align: right;\n",
       "    }\n",
       "</style>\n",
       "<table border=\"1\" class=\"dataframe\">\n",
       "  <thead>\n",
       "    <tr style=\"text-align: right;\">\n",
       "      <th></th>\n",
       "      <th>PCA 1</th>\n",
       "      <th>PCA 2</th>\n",
       "      <th>PCA 3</th>\n",
       "      <th>PCA 4</th>\n",
       "      <th>PCA 5</th>\n",
       "    </tr>\n",
       "  </thead>\n",
       "  <tbody>\n",
       "    <tr>\n",
       "      <th>0</th>\n",
       "      <td>-1.958481</td>\n",
       "      <td>-0.537045</td>\n",
       "      <td>1.329990</td>\n",
       "      <td>-0.175758</td>\n",
       "      <td>0.017492</td>\n",
       "    </tr>\n",
       "    <tr>\n",
       "      <th>1</th>\n",
       "      <td>-1.735307</td>\n",
       "      <td>-0.217341</td>\n",
       "      <td>0.863764</td>\n",
       "      <td>-0.280640</td>\n",
       "      <td>0.048594</td>\n",
       "    </tr>\n",
       "    <tr>\n",
       "      <th>2</th>\n",
       "      <td>-1.224240</td>\n",
       "      <td>-0.284887</td>\n",
       "      <td>0.213208</td>\n",
       "      <td>-0.008159</td>\n",
       "      <td>0.126947</td>\n",
       "    </tr>\n",
       "    <tr>\n",
       "      <th>3</th>\n",
       "      <td>-0.540935</td>\n",
       "      <td>-0.666624</td>\n",
       "      <td>0.097471</td>\n",
       "      <td>0.292369</td>\n",
       "      <td>0.009729</td>\n",
       "    </tr>\n",
       "    <tr>\n",
       "      <th>4</th>\n",
       "      <td>-0.848741</td>\n",
       "      <td>0.739026</td>\n",
       "      <td>-1.392033</td>\n",
       "      <td>1.658859</td>\n",
       "      <td>-0.317834</td>\n",
       "    </tr>\n",
       "    <tr>\n",
       "      <th>...</th>\n",
       "      <td>...</td>\n",
       "      <td>...</td>\n",
       "      <td>...</td>\n",
       "      <td>...</td>\n",
       "      <td>...</td>\n",
       "    </tr>\n",
       "    <tr>\n",
       "      <th>29995</th>\n",
       "      <td>2.576909</td>\n",
       "      <td>-0.689440</td>\n",
       "      <td>-0.305680</td>\n",
       "      <td>0.517722</td>\n",
       "      <td>0.649533</td>\n",
       "    </tr>\n",
       "    <tr>\n",
       "      <th>29996</th>\n",
       "      <td>-1.544026</td>\n",
       "      <td>0.187339</td>\n",
       "      <td>-0.724707</td>\n",
       "      <td>0.546432</td>\n",
       "      <td>-0.114662</td>\n",
       "    </tr>\n",
       "    <tr>\n",
       "      <th>29997</th>\n",
       "      <td>-1.284849</td>\n",
       "      <td>0.146719</td>\n",
       "      <td>0.250843</td>\n",
       "      <td>0.429783</td>\n",
       "      <td>-0.481175</td>\n",
       "    </tr>\n",
       "    <tr>\n",
       "      <th>29998</th>\n",
       "      <td>0.831741</td>\n",
       "      <td>2.421474</td>\n",
       "      <td>0.363127</td>\n",
       "      <td>0.220004</td>\n",
       "      <td>0.539966</td>\n",
       "    </tr>\n",
       "    <tr>\n",
       "      <th>29999</th>\n",
       "      <td>-0.516816</td>\n",
       "      <td>-0.600527</td>\n",
       "      <td>-0.749551</td>\n",
       "      <td>0.656096</td>\n",
       "      <td>0.011874</td>\n",
       "    </tr>\n",
       "  </tbody>\n",
       "</table>\n",
       "<p>30000 rows × 5 columns</p>\n",
       "</div>"
      ],
      "text/plain": [
       "          PCA 1     PCA 2     PCA 3     PCA 4     PCA 5\n",
       "0     -1.958481 -0.537045  1.329990 -0.175758  0.017492\n",
       "1     -1.735307 -0.217341  0.863764 -0.280640  0.048594\n",
       "2     -1.224240 -0.284887  0.213208 -0.008159  0.126947\n",
       "3     -0.540935 -0.666624  0.097471  0.292369  0.009729\n",
       "4     -0.848741  0.739026 -1.392033  1.658859 -0.317834\n",
       "...         ...       ...       ...       ...       ...\n",
       "29995  2.576909 -0.689440 -0.305680  0.517722  0.649533\n",
       "29996 -1.544026  0.187339 -0.724707  0.546432 -0.114662\n",
       "29997 -1.284849  0.146719  0.250843  0.429783 -0.481175\n",
       "29998  0.831741  2.421474  0.363127  0.220004  0.539966\n",
       "29999 -0.516816 -0.600527 -0.749551  0.656096  0.011874\n",
       "\n",
       "[30000 rows x 5 columns]"
      ]
     },
     "execution_count": 52,
     "metadata": {},
     "output_type": "execute_result"
    }
   ],
   "source": [
    "pca_df = pd.DataFrame(data = pca_col, columns = ['PCA 1','PCA 2','PCA 3','PCA 4','PCA 5'])\n",
    "pca_df"
   ]
  },
  {
   "cell_type": "code",
   "execution_count": 53,
   "metadata": {},
   "outputs": [
    {
     "name": "stdout",
     "output_type": "stream",
     "text": [
      "Shape of Credit PCA (30000, 5)\n",
      "[0.42279426 0.12258339 0.07464922 0.06606715 0.06311574]\n",
      "suma: 0.7492097568928384\n"
     ]
    }
   ],
   "source": [
    "print(\"Shape of Credit PCA\", pca_col.shape)\n",
    "expl = pca.explained_variance_ratio_\n",
    "print(expl)\n",
    "print('suma:',sum(expl[0:5]))#5 components\n",
    "#With 5 components almost 75% of variance is explained"
   ]
  },
  {
   "cell_type": "code",
   "execution_count": 54,
   "metadata": {},
   "outputs": [
    {
     "data": {
      "image/png": "[encoded data removed]",
      "text/plain": [
       "<Figure size 576x576 with 1 Axes>"
      ]
     },
     "metadata": {},
     "output_type": "display_data"
    }
   ],
   "source": [
    "#graficamos el acumulado de varianza explicada en las nuevas dimensiones\n",
    "plt.plot(np.cumsum(pca.explained_variance_ratio_))\n",
    "plt.title('Variance explained by number of principal components')\n",
    "plt.xlabel('number of principal components')\n",
    "plt.ylabel('cumulative explained variance')\n",
    "plt.xticks([0,1,2,3,4],('1', '2', '3', '4', '5')) #change of x-axis labels, as python considers zero as 1st element.\n",
    "\n",
    "plt.show()"
   ]
  },
  {
   "cell_type": "code",
   "execution_count": 55,
   "metadata": {},
   "outputs": [
    {
     "data": {
      "text/html": [
       "<div>\n",
       "<style scoped>\n",
       "    .dataframe tbody tr th:only-of-type {\n",
       "        vertical-align: middle;\n",
       "    }\n",
       "\n",
       "    .dataframe tbody tr th {\n",
       "        vertical-align: top;\n",
       "    }\n",
       "\n",
       "    .dataframe thead th {\n",
       "        text-align: right;\n",
       "    }\n",
       "</style>\n",
       "<table border=\"1\" class=\"dataframe\">\n",
       "  <thead>\n",
       "    <tr style=\"text-align: right;\">\n",
       "      <th></th>\n",
       "      <th>SEX</th>\n",
       "      <th>EDUCATION</th>\n",
       "      <th>MARRIAGE</th>\n",
       "      <th>PAY_STATUS_M9</th>\n",
       "      <th>PAY_STATUS_M8</th>\n",
       "      <th>PAY_STATUS_M7</th>\n",
       "      <th>PAY_STATUS_M6</th>\n",
       "      <th>PAY_STATUS_M5</th>\n",
       "      <th>PAY_STATUS_M4</th>\n",
       "      <th>DEFAULT</th>\n",
       "    </tr>\n",
       "  </thead>\n",
       "  <tbody>\n",
       "    <tr>\n",
       "      <th>0</th>\n",
       "      <td>2</td>\n",
       "      <td>2</td>\n",
       "      <td>1</td>\n",
       "      <td>2</td>\n",
       "      <td>2</td>\n",
       "      <td>-1</td>\n",
       "      <td>-1</td>\n",
       "      <td>-2</td>\n",
       "      <td>-2</td>\n",
       "      <td>1</td>\n",
       "    </tr>\n",
       "    <tr>\n",
       "      <th>1</th>\n",
       "      <td>2</td>\n",
       "      <td>2</td>\n",
       "      <td>2</td>\n",
       "      <td>-1</td>\n",
       "      <td>2</td>\n",
       "      <td>0</td>\n",
       "      <td>0</td>\n",
       "      <td>0</td>\n",
       "      <td>2</td>\n",
       "      <td>1</td>\n",
       "    </tr>\n",
       "    <tr>\n",
       "      <th>2</th>\n",
       "      <td>2</td>\n",
       "      <td>2</td>\n",
       "      <td>2</td>\n",
       "      <td>0</td>\n",
       "      <td>0</td>\n",
       "      <td>0</td>\n",
       "      <td>0</td>\n",
       "      <td>0</td>\n",
       "      <td>0</td>\n",
       "      <td>0</td>\n",
       "    </tr>\n",
       "    <tr>\n",
       "      <th>3</th>\n",
       "      <td>2</td>\n",
       "      <td>2</td>\n",
       "      <td>1</td>\n",
       "      <td>0</td>\n",
       "      <td>0</td>\n",
       "      <td>0</td>\n",
       "      <td>0</td>\n",
       "      <td>0</td>\n",
       "      <td>0</td>\n",
       "      <td>0</td>\n",
       "    </tr>\n",
       "    <tr>\n",
       "      <th>4</th>\n",
       "      <td>1</td>\n",
       "      <td>2</td>\n",
       "      <td>1</td>\n",
       "      <td>-1</td>\n",
       "      <td>0</td>\n",
       "      <td>-1</td>\n",
       "      <td>0</td>\n",
       "      <td>0</td>\n",
       "      <td>0</td>\n",
       "      <td>0</td>\n",
       "    </tr>\n",
       "  </tbody>\n",
       "</table>\n",
       "</div>"
      ],
      "text/plain": [
       "   SEX  EDUCATION  MARRIAGE  PAY_STATUS_M9  PAY_STATUS_M8  PAY_STATUS_M7  \\\n",
       "0    2          2         1              2              2             -1   \n",
       "1    2          2         2             -1              2              0   \n",
       "2    2          2         2              0              0              0   \n",
       "3    2          2         1              0              0              0   \n",
       "4    1          2         1             -1              0             -1   \n",
       "\n",
       "   PAY_STATUS_M6  PAY_STATUS_M5  PAY_STATUS_M4  DEFAULT  \n",
       "0             -1             -2             -2        1  \n",
       "1              0              0              2        1  \n",
       "2              0              0              0        0  \n",
       "3              0              0              0        0  \n",
       "4              0              0              0        0  "
      ]
     },
     "execution_count": 55,
     "metadata": {},
     "output_type": "execute_result"
    }
   ],
   "source": [
    "credit.drop(labels = ['LIMIT_BAL','AGE','BILL_M9', 'BILL_M8', 'BILL_M7', 'BILL_M6', 'BILL_M5', 'BILL_M4', 'PAID_M9', 'PAID_M8','PAID_M7', 'PAID_M6', 'PAID_M5', 'PAID_M4'], axis=1,inplace = True)\n",
    "credit.head()"
   ]
  },
  {
   "cell_type": "code",
   "execution_count": 56,
   "metadata": {},
   "outputs": [
    {
     "data": {
      "text/html": [
       "<div>\n",
       "<style scoped>\n",
       "    .dataframe tbody tr th:only-of-type {\n",
       "        vertical-align: middle;\n",
       "    }\n",
       "\n",
       "    .dataframe tbody tr th {\n",
       "        vertical-align: top;\n",
       "    }\n",
       "\n",
       "    .dataframe thead th {\n",
       "        text-align: right;\n",
       "    }\n",
       "</style>\n",
       "<table border=\"1\" class=\"dataframe\">\n",
       "  <thead>\n",
       "    <tr style=\"text-align: right;\">\n",
       "      <th></th>\n",
       "      <th>SEX</th>\n",
       "      <th>EDUCATION</th>\n",
       "      <th>MARRIAGE</th>\n",
       "      <th>PAY_STATUS_M9</th>\n",
       "      <th>PAY_STATUS_M8</th>\n",
       "      <th>PAY_STATUS_M7</th>\n",
       "      <th>PAY_STATUS_M6</th>\n",
       "      <th>PAY_STATUS_M5</th>\n",
       "      <th>PAY_STATUS_M4</th>\n",
       "      <th>DEFAULT</th>\n",
       "      <th>PCA 1</th>\n",
       "      <th>PCA 2</th>\n",
       "      <th>PCA 3</th>\n",
       "      <th>PCA 4</th>\n",
       "      <th>PCA 5</th>\n",
       "    </tr>\n",
       "  </thead>\n",
       "  <tbody>\n",
       "    <tr>\n",
       "      <th>0</th>\n",
       "      <td>2</td>\n",
       "      <td>2</td>\n",
       "      <td>1</td>\n",
       "      <td>2</td>\n",
       "      <td>2</td>\n",
       "      <td>-1</td>\n",
       "      <td>-1</td>\n",
       "      <td>-2</td>\n",
       "      <td>-2</td>\n",
       "      <td>1</td>\n",
       "      <td>-1.958481</td>\n",
       "      <td>-0.537045</td>\n",
       "      <td>1.329990</td>\n",
       "      <td>-0.175758</td>\n",
       "      <td>0.017492</td>\n",
       "    </tr>\n",
       "    <tr>\n",
       "      <th>1</th>\n",
       "      <td>2</td>\n",
       "      <td>2</td>\n",
       "      <td>2</td>\n",
       "      <td>-1</td>\n",
       "      <td>2</td>\n",
       "      <td>0</td>\n",
       "      <td>0</td>\n",
       "      <td>0</td>\n",
       "      <td>2</td>\n",
       "      <td>1</td>\n",
       "      <td>-1.735307</td>\n",
       "      <td>-0.217341</td>\n",
       "      <td>0.863764</td>\n",
       "      <td>-0.280640</td>\n",
       "      <td>0.048594</td>\n",
       "    </tr>\n",
       "    <tr>\n",
       "      <th>2</th>\n",
       "      <td>2</td>\n",
       "      <td>2</td>\n",
       "      <td>2</td>\n",
       "      <td>0</td>\n",
       "      <td>0</td>\n",
       "      <td>0</td>\n",
       "      <td>0</td>\n",
       "      <td>0</td>\n",
       "      <td>0</td>\n",
       "      <td>0</td>\n",
       "      <td>-1.224240</td>\n",
       "      <td>-0.284887</td>\n",
       "      <td>0.213208</td>\n",
       "      <td>-0.008159</td>\n",
       "      <td>0.126947</td>\n",
       "    </tr>\n",
       "    <tr>\n",
       "      <th>3</th>\n",
       "      <td>2</td>\n",
       "      <td>2</td>\n",
       "      <td>1</td>\n",
       "      <td>0</td>\n",
       "      <td>0</td>\n",
       "      <td>0</td>\n",
       "      <td>0</td>\n",
       "      <td>0</td>\n",
       "      <td>0</td>\n",
       "      <td>0</td>\n",
       "      <td>-0.540935</td>\n",
       "      <td>-0.666624</td>\n",
       "      <td>0.097471</td>\n",
       "      <td>0.292369</td>\n",
       "      <td>0.009729</td>\n",
       "    </tr>\n",
       "    <tr>\n",
       "      <th>4</th>\n",
       "      <td>1</td>\n",
       "      <td>2</td>\n",
       "      <td>1</td>\n",
       "      <td>-1</td>\n",
       "      <td>0</td>\n",
       "      <td>-1</td>\n",
       "      <td>0</td>\n",
       "      <td>0</td>\n",
       "      <td>0</td>\n",
       "      <td>0</td>\n",
       "      <td>-0.848741</td>\n",
       "      <td>0.739026</td>\n",
       "      <td>-1.392033</td>\n",
       "      <td>1.658859</td>\n",
       "      <td>-0.317834</td>\n",
       "    </tr>\n",
       "  </tbody>\n",
       "</table>\n",
       "</div>"
      ],
      "text/plain": [
       "   SEX  EDUCATION  MARRIAGE  PAY_STATUS_M9  PAY_STATUS_M8  PAY_STATUS_M7  \\\n",
       "0    2          2         1              2              2             -1   \n",
       "1    2          2         2             -1              2              0   \n",
       "2    2          2         2              0              0              0   \n",
       "3    2          2         1              0              0              0   \n",
       "4    1          2         1             -1              0             -1   \n",
       "\n",
       "   PAY_STATUS_M6  PAY_STATUS_M5  PAY_STATUS_M4  DEFAULT     PCA 1     PCA 2  \\\n",
       "0             -1             -2             -2        1 -1.958481 -0.537045   \n",
       "1              0              0              2        1 -1.735307 -0.217341   \n",
       "2              0              0              0        0 -1.224240 -0.284887   \n",
       "3              0              0              0        0 -0.540935 -0.666624   \n",
       "4              0              0              0        0 -0.848741  0.739026   \n",
       "\n",
       "      PCA 3     PCA 4     PCA 5  \n",
       "0  1.329990 -0.175758  0.017492  \n",
       "1  0.863764 -0.280640  0.048594  \n",
       "2  0.213208 -0.008159  0.126947  \n",
       "3  0.097471  0.292369  0.009729  \n",
       "4 -1.392033  1.658859 -0.317834  "
      ]
     },
     "execution_count": 56,
     "metadata": {},
     "output_type": "execute_result"
    }
   ],
   "source": [
    "credit = pd.concat([credit, pca_df], axis=1)\n",
    "credit.head()"
   ]
  },
  {
   "cell_type": "markdown",
   "metadata": {},
   "source": [
    "## 5. One Hot Encoding"
   ]
  },
  {
   "cell_type": "code",
   "execution_count": 57,
   "metadata": {},
   "outputs": [],
   "source": [
    "categorical_vars = ['SEX', 'EDUCATION', 'MARRIAGE', 'PAY_STATUS_M9','PAY_STATUS_M8','PAY_STATUS_M7','PAY_STATUS_M6','PAY_STATUS_M5','PAY_STATUS_M4']\n",
    "credit[categorical_vars] = credit[categorical_vars].astype(str)\n",
    "credit = pd.get_dummies(credit,columns=categorical_vars,drop_first=True)"
   ]
  },
  {
   "cell_type": "code",
   "execution_count": 58,
   "metadata": {},
   "outputs": [
    {
     "data": {
      "text/plain": [
       "(30000, 71)"
      ]
     },
     "execution_count": 58,
     "metadata": {},
     "output_type": "execute_result"
    }
   ],
   "source": [
    "credit.shape #the results show variables have been dumified"
   ]
  },
  {
   "cell_type": "code",
   "execution_count": 59,
   "metadata": {},
   "outputs": [
    {
     "data": {
      "text/plain": [
       "0"
      ]
     },
     "execution_count": 59,
     "metadata": {},
     "output_type": "execute_result"
    }
   ],
   "source": [
    "credit.columns.get_loc('DEFAULT')#Identify location of DEFAULT"
   ]
  },
  {
   "cell_type": "code",
   "execution_count": 60,
   "metadata": {},
   "outputs": [],
   "source": [
    "default = credit['DEFAULT']\n",
    "credit.drop(labels=['DEFAULT'], axis=1,inplace = True)\n",
    "credit.insert(0, 'DEFAULT', default)"
   ]
  },
  {
   "cell_type": "code",
   "execution_count": 61,
   "metadata": {},
   "outputs": [
    {
     "data": {
      "text/html": [
       "<div>\n",
       "<style scoped>\n",
       "    .dataframe tbody tr th:only-of-type {\n",
       "        vertical-align: middle;\n",
       "    }\n",
       "\n",
       "    .dataframe tbody tr th {\n",
       "        vertical-align: top;\n",
       "    }\n",
       "\n",
       "    .dataframe thead th {\n",
       "        text-align: right;\n",
       "    }\n",
       "</style>\n",
       "<table border=\"1\" class=\"dataframe\">\n",
       "  <thead>\n",
       "    <tr style=\"text-align: right;\">\n",
       "      <th></th>\n",
       "      <th>DEFAULT</th>\n",
       "      <th>PCA 1</th>\n",
       "      <th>PCA 2</th>\n",
       "      <th>PCA 3</th>\n",
       "      <th>PCA 4</th>\n",
       "      <th>PCA 5</th>\n",
       "      <th>SEX_2</th>\n",
       "      <th>EDUCATION_2</th>\n",
       "      <th>EDUCATION_3</th>\n",
       "      <th>EDUCATION_4</th>\n",
       "      <th>...</th>\n",
       "      <th>PAY_STATUS_M5_8</th>\n",
       "      <th>PAY_STATUS_M4_-2</th>\n",
       "      <th>PAY_STATUS_M4_0</th>\n",
       "      <th>PAY_STATUS_M4_2</th>\n",
       "      <th>PAY_STATUS_M4_3</th>\n",
       "      <th>PAY_STATUS_M4_4</th>\n",
       "      <th>PAY_STATUS_M4_5</th>\n",
       "      <th>PAY_STATUS_M4_6</th>\n",
       "      <th>PAY_STATUS_M4_7</th>\n",
       "      <th>PAY_STATUS_M4_8</th>\n",
       "    </tr>\n",
       "  </thead>\n",
       "  <tbody>\n",
       "    <tr>\n",
       "      <th>0</th>\n",
       "      <td>1</td>\n",
       "      <td>-1.958481</td>\n",
       "      <td>-0.537045</td>\n",
       "      <td>1.329990</td>\n",
       "      <td>-0.175758</td>\n",
       "      <td>0.017492</td>\n",
       "      <td>1</td>\n",
       "      <td>1</td>\n",
       "      <td>0</td>\n",
       "      <td>0</td>\n",
       "      <td>...</td>\n",
       "      <td>0</td>\n",
       "      <td>1</td>\n",
       "      <td>0</td>\n",
       "      <td>0</td>\n",
       "      <td>0</td>\n",
       "      <td>0</td>\n",
       "      <td>0</td>\n",
       "      <td>0</td>\n",
       "      <td>0</td>\n",
       "      <td>0</td>\n",
       "    </tr>\n",
       "    <tr>\n",
       "      <th>1</th>\n",
       "      <td>1</td>\n",
       "      <td>-1.735307</td>\n",
       "      <td>-0.217341</td>\n",
       "      <td>0.863764</td>\n",
       "      <td>-0.280640</td>\n",
       "      <td>0.048594</td>\n",
       "      <td>1</td>\n",
       "      <td>1</td>\n",
       "      <td>0</td>\n",
       "      <td>0</td>\n",
       "      <td>...</td>\n",
       "      <td>0</td>\n",
       "      <td>0</td>\n",
       "      <td>0</td>\n",
       "      <td>1</td>\n",
       "      <td>0</td>\n",
       "      <td>0</td>\n",
       "      <td>0</td>\n",
       "      <td>0</td>\n",
       "      <td>0</td>\n",
       "      <td>0</td>\n",
       "    </tr>\n",
       "    <tr>\n",
       "      <th>2</th>\n",
       "      <td>0</td>\n",
       "      <td>-1.224240</td>\n",
       "      <td>-0.284887</td>\n",
       "      <td>0.213208</td>\n",
       "      <td>-0.008159</td>\n",
       "      <td>0.126947</td>\n",
       "      <td>1</td>\n",
       "      <td>1</td>\n",
       "      <td>0</td>\n",
       "      <td>0</td>\n",
       "      <td>...</td>\n",
       "      <td>0</td>\n",
       "      <td>0</td>\n",
       "      <td>1</td>\n",
       "      <td>0</td>\n",
       "      <td>0</td>\n",
       "      <td>0</td>\n",
       "      <td>0</td>\n",
       "      <td>0</td>\n",
       "      <td>0</td>\n",
       "      <td>0</td>\n",
       "    </tr>\n",
       "    <tr>\n",
       "      <th>3</th>\n",
       "      <td>0</td>\n",
       "      <td>-0.540935</td>\n",
       "      <td>-0.666624</td>\n",
       "      <td>0.097471</td>\n",
       "      <td>0.292369</td>\n",
       "      <td>0.009729</td>\n",
       "      <td>1</td>\n",
       "      <td>1</td>\n",
       "      <td>0</td>\n",
       "      <td>0</td>\n",
       "      <td>...</td>\n",
       "      <td>0</td>\n",
       "      <td>0</td>\n",
       "      <td>1</td>\n",
       "      <td>0</td>\n",
       "      <td>0</td>\n",
       "      <td>0</td>\n",
       "      <td>0</td>\n",
       "      <td>0</td>\n",
       "      <td>0</td>\n",
       "      <td>0</td>\n",
       "    </tr>\n",
       "    <tr>\n",
       "      <th>4</th>\n",
       "      <td>0</td>\n",
       "      <td>-0.848741</td>\n",
       "      <td>0.739026</td>\n",
       "      <td>-1.392033</td>\n",
       "      <td>1.658859</td>\n",
       "      <td>-0.317834</td>\n",
       "      <td>0</td>\n",
       "      <td>1</td>\n",
       "      <td>0</td>\n",
       "      <td>0</td>\n",
       "      <td>...</td>\n",
       "      <td>0</td>\n",
       "      <td>0</td>\n",
       "      <td>1</td>\n",
       "      <td>0</td>\n",
       "      <td>0</td>\n",
       "      <td>0</td>\n",
       "      <td>0</td>\n",
       "      <td>0</td>\n",
       "      <td>0</td>\n",
       "      <td>0</td>\n",
       "    </tr>\n",
       "  </tbody>\n",
       "</table>\n",
       "<p>5 rows × 71 columns</p>\n",
       "</div>"
      ],
      "text/plain": [
       "   DEFAULT     PCA 1     PCA 2     PCA 3     PCA 4     PCA 5  SEX_2  \\\n",
       "0        1 -1.958481 -0.537045  1.329990 -0.175758  0.017492      1   \n",
       "1        1 -1.735307 -0.217341  0.863764 -0.280640  0.048594      1   \n",
       "2        0 -1.224240 -0.284887  0.213208 -0.008159  0.126947      1   \n",
       "3        0 -0.540935 -0.666624  0.097471  0.292369  0.009729      1   \n",
       "4        0 -0.848741  0.739026 -1.392033  1.658859 -0.317834      0   \n",
       "\n",
       "   EDUCATION_2  EDUCATION_3  EDUCATION_4  ...  PAY_STATUS_M5_8  \\\n",
       "0            1            0            0  ...                0   \n",
       "1            1            0            0  ...                0   \n",
       "2            1            0            0  ...                0   \n",
       "3            1            0            0  ...                0   \n",
       "4            1            0            0  ...                0   \n",
       "\n",
       "   PAY_STATUS_M4_-2  PAY_STATUS_M4_0  PAY_STATUS_M4_2  PAY_STATUS_M4_3  \\\n",
       "0                 1                0                0                0   \n",
       "1                 0                0                1                0   \n",
       "2                 0                1                0                0   \n",
       "3                 0                1                0                0   \n",
       "4                 0                1                0                0   \n",
       "\n",
       "   PAY_STATUS_M4_4  PAY_STATUS_M4_5  PAY_STATUS_M4_6  PAY_STATUS_M4_7  \\\n",
       "0                0                0                0                0   \n",
       "1                0                0                0                0   \n",
       "2                0                0                0                0   \n",
       "3                0                0                0                0   \n",
       "4                0                0                0                0   \n",
       "\n",
       "   PAY_STATUS_M4_8  \n",
       "0                0  \n",
       "1                0  \n",
       "2                0  \n",
       "3                0  \n",
       "4                0  \n",
       "\n",
       "[5 rows x 71 columns]"
      ]
     },
     "execution_count": 61,
     "metadata": {},
     "output_type": "execute_result"
    }
   ],
   "source": [
    "credit.head()"
   ]
  },
  {
   "cell_type": "code",
   "execution_count": 62,
   "metadata": {},
   "outputs": [],
   "source": [
    "credit.to_csv('credit_pca.csv')"
   ]
  },
  {
   "cell_type": "markdown",
   "metadata": {},
   "source": [
    "## 6. Classification (Building of models)"
   ]
  },
  {
   "cell_type": "markdown",
   "metadata": {},
   "source": [
    "Selecting and dividing data\n",
    "\n",
    "6.1. Select the features:"
   ]
  },
  {
   "cell_type": "code",
   "execution_count": 63,
   "metadata": {},
   "outputs": [
    {
     "data": {
      "text/html": [
       "<div>\n",
       "<style scoped>\n",
       "    .dataframe tbody tr th:only-of-type {\n",
       "        vertical-align: middle;\n",
       "    }\n",
       "\n",
       "    .dataframe tbody tr th {\n",
       "        vertical-align: top;\n",
       "    }\n",
       "\n",
       "    .dataframe thead th {\n",
       "        text-align: right;\n",
       "    }\n",
       "</style>\n",
       "<table border=\"1\" class=\"dataframe\">\n",
       "  <thead>\n",
       "    <tr style=\"text-align: right;\">\n",
       "      <th></th>\n",
       "      <th>PCA 1</th>\n",
       "      <th>PCA 2</th>\n",
       "      <th>PCA 3</th>\n",
       "      <th>PCA 4</th>\n",
       "      <th>PCA 5</th>\n",
       "      <th>SEX_2</th>\n",
       "      <th>EDUCATION_2</th>\n",
       "      <th>EDUCATION_3</th>\n",
       "      <th>EDUCATION_4</th>\n",
       "      <th>MARRIAGE_1</th>\n",
       "      <th>...</th>\n",
       "      <th>PAY_STATUS_M5_8</th>\n",
       "      <th>PAY_STATUS_M4_-2</th>\n",
       "      <th>PAY_STATUS_M4_0</th>\n",
       "      <th>PAY_STATUS_M4_2</th>\n",
       "      <th>PAY_STATUS_M4_3</th>\n",
       "      <th>PAY_STATUS_M4_4</th>\n",
       "      <th>PAY_STATUS_M4_5</th>\n",
       "      <th>PAY_STATUS_M4_6</th>\n",
       "      <th>PAY_STATUS_M4_7</th>\n",
       "      <th>PAY_STATUS_M4_8</th>\n",
       "    </tr>\n",
       "  </thead>\n",
       "  <tbody>\n",
       "    <tr>\n",
       "      <th>0</th>\n",
       "      <td>-1.958481</td>\n",
       "      <td>-0.537045</td>\n",
       "      <td>1.329990</td>\n",
       "      <td>-0.175758</td>\n",
       "      <td>0.017492</td>\n",
       "      <td>1</td>\n",
       "      <td>1</td>\n",
       "      <td>0</td>\n",
       "      <td>0</td>\n",
       "      <td>1</td>\n",
       "      <td>...</td>\n",
       "      <td>0</td>\n",
       "      <td>1</td>\n",
       "      <td>0</td>\n",
       "      <td>0</td>\n",
       "      <td>0</td>\n",
       "      <td>0</td>\n",
       "      <td>0</td>\n",
       "      <td>0</td>\n",
       "      <td>0</td>\n",
       "      <td>0</td>\n",
       "    </tr>\n",
       "    <tr>\n",
       "      <th>1</th>\n",
       "      <td>-1.735307</td>\n",
       "      <td>-0.217341</td>\n",
       "      <td>0.863764</td>\n",
       "      <td>-0.280640</td>\n",
       "      <td>0.048594</td>\n",
       "      <td>1</td>\n",
       "      <td>1</td>\n",
       "      <td>0</td>\n",
       "      <td>0</td>\n",
       "      <td>0</td>\n",
       "      <td>...</td>\n",
       "      <td>0</td>\n",
       "      <td>0</td>\n",
       "      <td>0</td>\n",
       "      <td>1</td>\n",
       "      <td>0</td>\n",
       "      <td>0</td>\n",
       "      <td>0</td>\n",
       "      <td>0</td>\n",
       "      <td>0</td>\n",
       "      <td>0</td>\n",
       "    </tr>\n",
       "    <tr>\n",
       "      <th>2</th>\n",
       "      <td>-1.224240</td>\n",
       "      <td>-0.284887</td>\n",
       "      <td>0.213208</td>\n",
       "      <td>-0.008159</td>\n",
       "      <td>0.126947</td>\n",
       "      <td>1</td>\n",
       "      <td>1</td>\n",
       "      <td>0</td>\n",
       "      <td>0</td>\n",
       "      <td>0</td>\n",
       "      <td>...</td>\n",
       "      <td>0</td>\n",
       "      <td>0</td>\n",
       "      <td>1</td>\n",
       "      <td>0</td>\n",
       "      <td>0</td>\n",
       "      <td>0</td>\n",
       "      <td>0</td>\n",
       "      <td>0</td>\n",
       "      <td>0</td>\n",
       "      <td>0</td>\n",
       "    </tr>\n",
       "    <tr>\n",
       "      <th>3</th>\n",
       "      <td>-0.540935</td>\n",
       "      <td>-0.666624</td>\n",
       "      <td>0.097471</td>\n",
       "      <td>0.292369</td>\n",
       "      <td>0.009729</td>\n",
       "      <td>1</td>\n",
       "      <td>1</td>\n",
       "      <td>0</td>\n",
       "      <td>0</td>\n",
       "      <td>1</td>\n",
       "      <td>...</td>\n",
       "      <td>0</td>\n",
       "      <td>0</td>\n",
       "      <td>1</td>\n",
       "      <td>0</td>\n",
       "      <td>0</td>\n",
       "      <td>0</td>\n",
       "      <td>0</td>\n",
       "      <td>0</td>\n",
       "      <td>0</td>\n",
       "      <td>0</td>\n",
       "    </tr>\n",
       "    <tr>\n",
       "      <th>4</th>\n",
       "      <td>-0.848741</td>\n",
       "      <td>0.739026</td>\n",
       "      <td>-1.392033</td>\n",
       "      <td>1.658859</td>\n",
       "      <td>-0.317834</td>\n",
       "      <td>0</td>\n",
       "      <td>1</td>\n",
       "      <td>0</td>\n",
       "      <td>0</td>\n",
       "      <td>1</td>\n",
       "      <td>...</td>\n",
       "      <td>0</td>\n",
       "      <td>0</td>\n",
       "      <td>1</td>\n",
       "      <td>0</td>\n",
       "      <td>0</td>\n",
       "      <td>0</td>\n",
       "      <td>0</td>\n",
       "      <td>0</td>\n",
       "      <td>0</td>\n",
       "      <td>0</td>\n",
       "    </tr>\n",
       "  </tbody>\n",
       "</table>\n",
       "<p>5 rows × 70 columns</p>\n",
       "</div>"
      ],
      "text/plain": [
       "      PCA 1     PCA 2     PCA 3     PCA 4     PCA 5  SEX_2  EDUCATION_2  \\\n",
       "0 -1.958481 -0.537045  1.329990 -0.175758  0.017492      1            1   \n",
       "1 -1.735307 -0.217341  0.863764 -0.280640  0.048594      1            1   \n",
       "2 -1.224240 -0.284887  0.213208 -0.008159  0.126947      1            1   \n",
       "3 -0.540935 -0.666624  0.097471  0.292369  0.009729      1            1   \n",
       "4 -0.848741  0.739026 -1.392033  1.658859 -0.317834      0            1   \n",
       "\n",
       "   EDUCATION_3  EDUCATION_4  MARRIAGE_1  ...  PAY_STATUS_M5_8  \\\n",
       "0            0            0           1  ...                0   \n",
       "1            0            0           0  ...                0   \n",
       "2            0            0           0  ...                0   \n",
       "3            0            0           1  ...                0   \n",
       "4            0            0           1  ...                0   \n",
       "\n",
       "   PAY_STATUS_M4_-2  PAY_STATUS_M4_0  PAY_STATUS_M4_2  PAY_STATUS_M4_3  \\\n",
       "0                 1                0                0                0   \n",
       "1                 0                0                1                0   \n",
       "2                 0                1                0                0   \n",
       "3                 0                1                0                0   \n",
       "4                 0                1                0                0   \n",
       "\n",
       "   PAY_STATUS_M4_4  PAY_STATUS_M4_5  PAY_STATUS_M4_6  PAY_STATUS_M4_7  \\\n",
       "0                0                0                0                0   \n",
       "1                0                0                0                0   \n",
       "2                0                0                0                0   \n",
       "3                0                0                0                0   \n",
       "4                0                0                0                0   \n",
       "\n",
       "   PAY_STATUS_M4_8  \n",
       "0                0  \n",
       "1                0  \n",
       "2                0  \n",
       "3                0  \n",
       "4                0  \n",
       "\n",
       "[5 rows x 70 columns]"
      ]
     },
     "execution_count": 63,
     "metadata": {},
     "output_type": "execute_result"
    }
   ],
   "source": [
    "features\n",
    "features = credit.iloc[:,1:]\n",
    "features.head()"
   ]
  },
  {
   "cell_type": "markdown",
   "metadata": {},
   "source": [
    "6.2. Select the dependent variable"
   ]
  },
  {
   "cell_type": "code",
   "execution_count": 64,
   "metadata": {},
   "outputs": [
    {
     "data": {
      "text/plain": [
       "0    1\n",
       "1    1\n",
       "2    0\n",
       "3    0\n",
       "4    0\n",
       "Name: DEFAULT, dtype: int64"
      ]
     },
     "execution_count": 64,
     "metadata": {},
     "output_type": "execute_result"
    }
   ],
   "source": [
    "#dependent variable\n",
    "depvar = credit.iloc[:,0]\n",
    "depvar.head()"
   ]
  },
  {
   "cell_type": "markdown",
   "metadata": {},
   "source": [
    "6.3. Establish *training* and *test set* for both x-variable (Feature Space) and y-variable (Dependent Variable) (70/30 split)"
   ]
  },
  {
   "cell_type": "code",
   "execution_count": 65,
   "metadata": {},
   "outputs": [],
   "source": [
    "#cross-validation\n",
    "#from sklearn.model_selection import train_test_split\n",
    "x = features\n",
    "y = depvar\n",
    "\n",
    "x_train,x_test,y_train,y_test = train_test_split(x,y,test_size = 0.3,random_state = 1) #x and y can be directly"
   ]
  },
  {
   "cell_type": "code",
   "execution_count": 66,
   "metadata": {},
   "outputs": [
    {
     "data": {
      "text/plain": [
       "(9000, 70)"
      ]
     },
     "execution_count": 66,
     "metadata": {},
     "output_type": "execute_result"
    }
   ],
   "source": [
    "x_test.shape #confirmation of split"
   ]
  },
  {
   "cell_type": "code",
   "execution_count": 67,
   "metadata": {},
   "outputs": [
    {
     "data": {
      "text/plain": [
       "10747    0\n",
       "12573    1\n",
       "29676    0\n",
       "8856     1\n",
       "21098    0\n",
       "        ..\n",
       "3344     1\n",
       "14405    0\n",
       "11459    0\n",
       "15814    0\n",
       "23883    0\n",
       "Name: DEFAULT, Length: 9000, dtype: int64"
      ]
     },
     "execution_count": 67,
     "metadata": {},
     "output_type": "execute_result"
    }
   ],
   "source": [
    "y_test #ground truth"
   ]
  },
  {
   "cell_type": "markdown",
   "metadata": {},
   "source": [
    "6.4. Import modules for libraries, estimators, model metrics, cross validation.\n",
    "\n",
    "6.5. Establish variables for defining each model."
   ]
  },
  {
   "cell_type": "code",
   "execution_count": 68,
   "metadata": {},
   "outputs": [],
   "source": [
    "#estimators\n",
    "from sklearn.linear_model import LogisticRegression\n",
    "from sklearn.tree import DecisionTreeClassifier\n",
    "from sklearn.ensemble import RandomForestClassifier"
   ]
  },
  {
   "cell_type": "code",
   "execution_count": 69,
   "metadata": {},
   "outputs": [],
   "source": [
    "#models\n",
    "modelLOG = LogisticRegression(solver='liblinear',max_iter=100,random_state=123)\n",
    "modelDTC = DecisionTreeClassifier()\n",
    "modelRFC = RandomForestClassifier(n_jobs=12)"
   ]
  },
  {
   "cell_type": "code",
   "execution_count": 171,
   "metadata": {},
   "outputs": [],
   "source": [
    "#model metrics. Classification: https://scikit-learn.org/stable/modules/model_evaluation.html\n",
    "\n",
    "from sklearn.metrics import accuracy_score #accuracy: correct predictions vs classification error: incorrect\n",
    "#(True_Positive+True_Negative)/(True_Positive+False_Positive+True_Negative+False_Positive+False_Negative)\n",
    "\n",
    "from sklearn.metrics import roc_auc_score #ROC(Receiver Operating Characteristics),AUC (Area Under The Curve)\n",
    "#It tells how much model is capable of distinguishing between classes. \n",
    "#ROC is a probability curve and AUC represents degree or measure of separability.\n",
    "\n",
    "from sklearn.metrics import precision_score #True_Positive/(True_Positive+False_Positive)\n",
    "#From all the positive predictions, how many were correct? Perfect precision: no false positives.\n",
    "\n",
    "from sklearn.metrics import recall_score #True_Positive/(True_Positive+False_Negative)\n",
    "#From real positives, how many were correct? Perfect recall: no false negatives.\n",
    "\n",
    "from sklearn.metrics import f1_score #f1=(2*(Precision*Recall))/(Precision+Recall)\n",
    "#It is a weighted average of the precision and recall.\n",
    "#f1 score is 1 it’s best and on 0 it’s worst. "
   ]
  },
  {
   "cell_type": "markdown",
   "metadata": {},
   "source": [
    "6.6. Buiding the models (training). Syntax: *model.fit(x_train,y_train)*"
   ]
  },
  {
   "cell_type": "code",
   "execution_count": 71,
   "metadata": {
    "scrolled": true
   },
   "outputs": [
    {
     "data": {
      "text/plain": [
       "LogisticRegression(C=1.0, class_weight=None, dual=False, fit_intercept=True,\n",
       "                   intercept_scaling=1, l1_ratio=None, max_iter=100,\n",
       "                   multi_class='auto', n_jobs=None, penalty='l2',\n",
       "                   random_state=123, solver='liblinear', tol=0.0001, verbose=0,\n",
       "                   warm_start=False)"
      ]
     },
     "execution_count": 71,
     "metadata": {},
     "output_type": "execute_result"
    }
   ],
   "source": [
    "#Logistic Regression\n",
    "modelLOG.fit(x_train,y_train)"
   ]
  },
  {
   "cell_type": "code",
   "execution_count": 72,
   "metadata": {},
   "outputs": [
    {
     "data": {
      "text/plain": [
       "DecisionTreeClassifier(ccp_alpha=0.0, class_weight=None, criterion='gini',\n",
       "                       max_depth=None, max_features=None, max_leaf_nodes=None,\n",
       "                       min_impurity_decrease=0.0, min_impurity_split=None,\n",
       "                       min_samples_leaf=1, min_samples_split=2,\n",
       "                       min_weight_fraction_leaf=0.0, presort='deprecated',\n",
       "                       random_state=None, splitter='best')"
      ]
     },
     "execution_count": 72,
     "metadata": {},
     "output_type": "execute_result"
    }
   ],
   "source": [
    "#Decision Tree Classifier\n",
    "modelDTC.fit(x_train,y_train)"
   ]
  },
  {
   "cell_type": "code",
   "execution_count": 73,
   "metadata": {},
   "outputs": [
    {
     "data": {
      "text/plain": [
       "RandomForestClassifier(bootstrap=True, ccp_alpha=0.0, class_weight=None,\n",
       "                       criterion='gini', max_depth=None, max_features='auto',\n",
       "                       max_leaf_nodes=None, max_samples=None,\n",
       "                       min_impurity_decrease=0.0, min_impurity_split=None,\n",
       "                       min_samples_leaf=1, min_samples_split=2,\n",
       "                       min_weight_fraction_leaf=0.0, n_estimators=100,\n",
       "                       n_jobs=12, oob_score=False, random_state=None, verbose=0,\n",
       "                       warm_start=False)"
      ]
     },
     "execution_count": 73,
     "metadata": {},
     "output_type": "execute_result"
    }
   ],
   "source": [
    "#Random Forest Classifier\n",
    "modelRFC.fit(x_train,y_train)"
   ]
  },
  {
   "cell_type": "markdown",
   "metadata": {},
   "source": [
    "6.7.Choosing the best model\n",
    "\n",
    "Pass each trained model and the training sets to the function to obtain the training score. For single metric evaluation:\n",
    "\n",
    "1st value: The score array for test scores on each cv split. (Higher is an indicator of a better performing model)\n",
    "\n",
    "2nd value: The time for fitting the estimator on the train set for each cv split.\n",
    "\n",
    "3rd value: The time for scoring the estimator on the test set for each cv split.\n"
   ]
  },
  {
   "cell_type": "code",
   "execution_count": 74,
   "metadata": {},
   "outputs": [
    {
     "name": "stdout",
     "output_type": "stream",
     "text": [
      "[0.82261905 0.81333333 0.82238095 0.81809524 0.83238095]\n"
     ]
    },
    {
     "data": {
      "text/plain": [
       "0.823"
      ]
     },
     "execution_count": 74,
     "metadata": {},
     "output_type": "execute_result"
    }
   ],
   "source": [
    "#Model Scoring: Logistic Regression\n",
    "print(cross_val_score(modelLOG, x_train, y_train))\n",
    "modelLOG.score(x_train,y_train)"
   ]
  },
  {
   "cell_type": "code",
   "execution_count": 75,
   "metadata": {},
   "outputs": [
    {
     "name": "stdout",
     "output_type": "stream",
     "text": [
      "[0.72952381 0.71761905 0.72714286 0.73309524 0.72190476]\n"
     ]
    },
    {
     "data": {
      "text/plain": [
       "0.9993333333333333"
      ]
     },
     "execution_count": 75,
     "metadata": {},
     "output_type": "execute_result"
    }
   ],
   "source": [
    "#Model Scoring: Decision Tree Classifier\n",
    "print(cross_val_score(modelDTC, x_train, y_train))\n",
    "modelDTC.score(x_train,y_train)"
   ]
  },
  {
   "cell_type": "code",
   "execution_count": 76,
   "metadata": {},
   "outputs": [
    {
     "name": "stdout",
     "output_type": "stream",
     "text": [
      "[0.81666667 0.80642857 0.81666667 0.81404762 0.82238095]\n"
     ]
    },
    {
     "data": {
      "text/plain": [
       "0.9993333333333333"
      ]
     },
     "execution_count": 76,
     "metadata": {},
     "output_type": "execute_result"
    }
   ],
   "source": [
    "#Model Scoring: Random Forest Classifier\n",
    "print(cross_val_score(modelRFC, x_train, y_train))\n",
    "modelRFC.score(x_train,y_train)"
   ]
  },
  {
   "cell_type": "markdown",
   "metadata": {},
   "source": [
    "6.8.Making predictions"
   ]
  },
  {
   "cell_type": "code",
   "execution_count": 77,
   "metadata": {},
   "outputs": [],
   "source": [
    "#Predictions: Logistic Regression\n",
    "predictionsLOG = modelLOG.predict(x_test)"
   ]
  },
  {
   "cell_type": "code",
   "execution_count": 78,
   "metadata": {},
   "outputs": [],
   "source": [
    "#Predictions: Decision Tree Classifier\n",
    "predictionsDTC = modelDTC.predict(x_test)"
   ]
  },
  {
   "cell_type": "code",
   "execution_count": 79,
   "metadata": {},
   "outputs": [],
   "source": [
    "#Predictions: Random Forest Classifier\n",
    "predictionsRFC = modelRFC.predict(x_test)"
   ]
  },
  {
   "cell_type": "markdown",
   "metadata": {},
   "source": [
    "6.9.First evaluation of the results: metric functions from *sklearn.metrics*\n",
    "\n",
    "Results: even though in the single score the best were decision trees and random forest, the logistic model was the best after comparing to the ground truth. But also it was the fastest in the single metric."
   ]
  },
  {
   "cell_type": "code",
   "execution_count": 80,
   "metadata": {},
   "outputs": [
    {
     "name": "stdout",
     "output_type": "stream",
     "text": [
      "Comparison of models\n",
      "Model            Accuracy    Classification Error    ROC-AUC    Precision    Recall    f-1\n",
      "-------------  ----------  ----------------------  ---------  -----------  --------  -----\n",
      "Logistic            0.819                   0.181      0.65         0.681     0.345  0.458\n",
      "Decision Tree       0.72                    0.28       0.601        0.374     0.388  0.381\n",
      "Random Forest       0.813                   0.187      0.648        0.644     0.352  0.455\n"
     ]
    }
   ],
   "source": [
    "#Accuracy_score\n",
    "predaccuracyLOG = accuracy_score(y_test,predictionsLOG)\n",
    "predaccuracyDTC = accuracy_score(y_test,predictionsDTC)\n",
    "predaccuracyRFC = accuracy_score(y_test,predictionsRFC)\n",
    "\n",
    "#Classification error\n",
    "predclasserrorLOG = 1-predaccuracyLOG\n",
    "predclasserrorDTC = 1-predaccuracyDTC\n",
    "predclasserrorRFC = 1-predaccuracyRFC\n",
    "\n",
    "#ROC-AUC\n",
    "predaucLOG = roc_auc_score(y_test,predictionsLOG)\n",
    "predaucDTC = roc_auc_score(y_test,predictionsDTC)\n",
    "predaucRFC = roc_auc_score(y_test,predictionsRFC)\n",
    "\n",
    "#Precision\n",
    "precisionLOG = precision_score(y_test,predictionsLOG)\n",
    "precisionDTC = precision_score(y_test,predictionsDTC)\n",
    "precisionRFC = precision_score(y_test,predictionsRFC)\n",
    "\n",
    "#Recall\n",
    "recallLOG = recall_score(y_test,predictionsLOG)\n",
    "recallDTC = recall_score(y_test,predictionsDTC)\n",
    "recallRFC = recall_score(y_test,predictionsRFC)\n",
    "\n",
    "#F-1 Score\n",
    "f1LOG = f1_score(y_test,predictionsLOG)\n",
    "f1DTC = f1_score(y_test,predictionsDTC)\n",
    "f1RFC = f1_score(y_test,predictionsRFC)\n",
    "\n",
    "print(\"Comparison of models\")\n",
    "\n",
    "print(tabulate([['Logistic','%.3f'%predaccuracyLOG,'%.3f'%predclasserrorLOG,'%.3f'%predaucLOG,'%.3f'%precisionLOG,'%.3f'%recallLOG,'%.3f'%f1LOG],\n",
    "                ['Decision Tree','%.3f'% predaccuracyDTC,'%.3f'% predclasserrorDTC,'%.3f'%predaucDTC,'%.3f'%precisionDTC,'%.3f'%recallDTC,'%.3f'%f1DTC],\n",
    "                ['Random Forest','%.3f'% predaccuracyRFC,'%.3f'% predclasserrorRFC,'%.3f'%predaucRFC,'%.3f'%precisionRFC,'%.3f'%recallRFC,'%.3f'%f1RFC]], \n",
    "                 headers=['Model','Accuracy','Classification Error','ROC-AUC','Precision','Recall','f-1']))\n",
    "#"
   ]
  },
  {
   "cell_type": "markdown",
   "metadata": {},
   "source": [
    "## 7. Model Tuning"
   ]
  },
  {
   "cell_type": "markdown",
   "metadata": {},
   "source": [
    "**Model tuning #1**"
   ]
  },
  {
   "cell_type": "code",
   "execution_count": 81,
   "metadata": {
    "scrolled": true
   },
   "outputs": [
    {
     "name": "stderr",
     "output_type": "stream",
     "text": [
      "[Parallel(n_jobs=5)]: Using backend LokyBackend with 5 concurrent workers.\n",
      "[Parallel(n_jobs=5)]: Done   1 out of   1 | elapsed:    6.2s finished\n",
      "[Parallel(n_jobs=5)]: Using backend LokyBackend with 5 concurrent workers.\n",
      "[Parallel(n_jobs=5)]: Done   1 out of   1 | elapsed:    4.1s finished\n",
      "[Parallel(n_jobs=5)]: Using backend LokyBackend with 5 concurrent workers.\n",
      "[Parallel(n_jobs=5)]: Done   1 out of   1 | elapsed:    4.4s finished\n",
      "[Parallel(n_jobs=5)]: Using backend LokyBackend with 5 concurrent workers.\n",
      "[Parallel(n_jobs=5)]: Done   1 out of   1 | elapsed:    4.8s finished\n",
      "[Parallel(n_jobs=5)]: Using backend LokyBackend with 5 concurrent workers.\n"
     ]
    },
    {
     "name": "stdout",
     "output_type": "stream",
     "text": [
      "[0.81980952 0.81638095 0.82228571 0.82857143]\n",
      "0.8230952380952381\n"
     ]
    },
    {
     "name": "stderr",
     "output_type": "stream",
     "text": [
      "[Parallel(n_jobs=5)]: Done   1 out of   1 | elapsed:    4.5s finished\n"
     ]
    }
   ],
   "source": [
    "#Logistic - Model Tuning #1\n",
    "modelLOG = LogisticRegression(solver='newton-cg',max_iter=100,random_state=12345,verbose=2,n_jobs=5)\n",
    "modelLOG.fit(x_train,y_train)\n",
    "print(cross_val_score(modelLOG, x_train, y_train,cv=4))\n",
    "print(modelLOG.score(x_train,y_train))\n",
    "predictionsLOG = modelLOG.predict(x_test)"
   ]
  },
  {
   "cell_type": "code",
   "execution_count": 82,
   "metadata": {},
   "outputs": [
    {
     "name": "stdout",
     "output_type": "stream",
     "text": [
      "[0.81504762 0.81485714 0.81790476 0.82171429]\n",
      "0.8194761904761905\n"
     ]
    }
   ],
   "source": [
    "#Decision Tree Classifier - Model Tuning #1\n",
    "modelDTC = DecisionTreeClassifier(ccp_alpha=0.0,criterion='entropy',max_depth=4,splitter='best')\n",
    "modelDTC.fit(x_train,y_train)\n",
    "print(cross_val_score(modelDTC, x_train, y_train,cv=4))\n",
    "print(modelDTC.score(x_train,y_train))\n",
    "predictionsDTC = modelDTC.predict(x_test)"
   ]
  },
  {
   "cell_type": "code",
   "execution_count": 83,
   "metadata": {},
   "outputs": [
    {
     "name": "stdout",
     "output_type": "stream",
     "text": [
      "[0.81447619 0.81028571 0.81561905 0.81847619]\n",
      "0.9992857142857143\n"
     ]
    }
   ],
   "source": [
    "#Random Forest Classifier - Model Tuning #1\n",
    "RandomForestClassifier(max_depth=4,n_estimators=60,n_jobs=12) #estimators:number of trees\n",
    "modelRFC.fit(x_train,y_train)\n",
    "print(cross_val_score(modelRFC, x_train, y_train,cv=4))\n",
    "print(modelRFC.score(x_train,y_train))\n",
    "predictionsRFC = modelRFC.predict(x_test)"
   ]
  },
  {
   "cell_type": "markdown",
   "metadata": {},
   "source": [
    "With this tuning the logistic regression remain similar but is still the best, the decision tree improved and the random forest diminished a bit."
   ]
  },
  {
   "cell_type": "code",
   "execution_count": 84,
   "metadata": {},
   "outputs": [
    {
     "name": "stdout",
     "output_type": "stream",
     "text": [
      "Comparison of models\n",
      "Model            Accuracy    Classification Error    ROC-AUC    Precision    Recall    f-1\n",
      "-------------  ----------  ----------------------  ---------  -----------  --------  -----\n",
      "Logistic            0.819                   0.181      0.65         0.681     0.345  0.459\n",
      "Decision Tree       0.815                   0.185      0.624        0.719     0.278  0.401\n",
      "Random Forest       0.814                   0.186      0.649        0.653     0.351  0.457\n"
     ]
    }
   ],
   "source": [
    "#Accuracy_score\n",
    "predaccuracyLOG = accuracy_score(y_test,predictionsLOG)\n",
    "predaccuracyDTC = accuracy_score(y_test,predictionsDTC)\n",
    "predaccuracyRFC = accuracy_score(y_test,predictionsRFC)\n",
    "\n",
    "#Classification error\n",
    "predclasserrorLOG = 1-predaccuracyLOG\n",
    "predclasserrorDTC = 1-predaccuracyDTC\n",
    "predclasserrorRFC = 1-predaccuracyRFC\n",
    "\n",
    "#ROC-AUC\n",
    "predaucLOG = roc_auc_score(y_test,predictionsLOG)\n",
    "predaucDTC = roc_auc_score(y_test,predictionsDTC)\n",
    "predaucRFC = roc_auc_score(y_test,predictionsRFC)\n",
    "\n",
    "#Precision\n",
    "precisionLOG = precision_score(y_test,predictionsLOG)\n",
    "precisionDTC = precision_score(y_test,predictionsDTC)\n",
    "precisionRFC = precision_score(y_test,predictionsRFC)\n",
    "\n",
    "#Recall\n",
    "recallLOG = recall_score(y_test,predictionsLOG)\n",
    "recallDTC = recall_score(y_test,predictionsDTC)\n",
    "recallRFC = recall_score(y_test,predictionsRFC)\n",
    "\n",
    "#F-1 Score\n",
    "f1LOG = f1_score(y_test,predictionsLOG)\n",
    "f1DTC = f1_score(y_test,predictionsDTC)\n",
    "f1RFC = f1_score(y_test,predictionsRFC)\n",
    "\n",
    "print(\"Comparison of models\")\n",
    "\n",
    "print(tabulate([['Logistic','%.3f'%predaccuracyLOG,'%.3f'%predclasserrorLOG,'%.3f'%predaucLOG,'%.3f'%precisionLOG,'%.3f'%recallLOG,'%.3f'%f1LOG],\n",
    "                ['Decision Tree','%.3f'% predaccuracyDTC,'%.3f'% predclasserrorDTC,'%.3f'%predaucDTC,'%.3f'%precisionDTC,'%.3f'%recallDTC,'%.3f'%f1DTC],\n",
    "                ['Random Forest','%.3f'% predaccuracyRFC,'%.3f'% predclasserrorRFC,'%.3f'%predaucRFC,'%.3f'%precisionRFC,'%.3f'%recallRFC,'%.3f'%f1RFC]], \n",
    "                 headers=['Model','Accuracy','Classification Error','ROC-AUC','Precision','Recall','f-1']))"
   ]
  },
  {
   "cell_type": "markdown",
   "metadata": {},
   "source": [
    "**Model tuning #2**"
   ]
  },
  {
   "cell_type": "code",
   "execution_count": 85,
   "metadata": {},
   "outputs": [
    {
     "name": "stderr",
     "output_type": "stream",
     "text": [
      "[Parallel(n_jobs=5)]: Using backend LokyBackend with 5 concurrent workers.\n",
      "[Parallel(n_jobs=5)]: Done   1 out of   1 | elapsed:    2.9s finished\n",
      "[Parallel(n_jobs=5)]: Using backend LokyBackend with 5 concurrent workers.\n",
      "[Parallel(n_jobs=5)]: Done   1 out of   1 | elapsed:    2.0s finished\n",
      "[Parallel(n_jobs=5)]: Using backend LokyBackend with 5 concurrent workers.\n",
      "[Parallel(n_jobs=5)]: Done   1 out of   1 | elapsed:    2.0s finished\n",
      "[Parallel(n_jobs=5)]: Using backend LokyBackend with 5 concurrent workers.\n",
      "[Parallel(n_jobs=5)]: Done   1 out of   1 | elapsed:    2.1s finished\n",
      "[Parallel(n_jobs=5)]: Using backend LokyBackend with 5 concurrent workers.\n"
     ]
    },
    {
     "name": "stdout",
     "output_type": "stream",
     "text": [
      "[0.81961905 0.81714286 0.82247619 0.82780952]\n",
      "0.823047619047619\n"
     ]
    },
    {
     "name": "stderr",
     "output_type": "stream",
     "text": [
      "[Parallel(n_jobs=5)]: Done   1 out of   1 | elapsed:    2.0s finished\n"
     ]
    }
   ],
   "source": [
    "#Logistic - Model Tuning #2\n",
    "modelLOG = LogisticRegression(solver='lbfgs',max_iter=50,random_state=456,verbose=4,n_jobs=5)\n",
    "modelLOG.fit(x_train,y_train)\n",
    "print(cross_val_score(modelLOG, x_train, y_train,cv=4))\n",
    "print(modelLOG.score(x_train,y_train))\n",
    "predictionsLOG = modelLOG.predict(x_test)"
   ]
  },
  {
   "cell_type": "code",
   "execution_count": 86,
   "metadata": {},
   "outputs": [
    {
     "name": "stdout",
     "output_type": "stream",
     "text": [
      "[0.80457143 0.80019048 0.80819048 0.81085714]\n",
      "0.8458095238095238\n"
     ]
    }
   ],
   "source": [
    "#Decision Tree Classifier - Model Tuning #2\n",
    "modelDTC = DecisionTreeClassifier(ccp_alpha=0.0,criterion='gini',max_depth=10)\n",
    "modelDTC.fit(x_train,y_train)\n",
    "print(cross_val_score(modelDTC, x_train, y_train,cv=4))\n",
    "print(modelDTC.score(x_train,y_train))\n",
    "predictionsDTC = modelDTC.predict(x_test)"
   ]
  },
  {
   "cell_type": "code",
   "execution_count": 87,
   "metadata": {},
   "outputs": [
    {
     "name": "stdout",
     "output_type": "stream",
     "text": [
      "[0.80742857 0.81742857 0.81971429]\n",
      "0.9992857142857143\n"
     ]
    }
   ],
   "source": [
    "#Random Forest Classifier - Model Tuning #1\n",
    "RandomForestClassifier(max_depth=7,n_estimators=100,n_jobs=10) #estimators:number of trees\n",
    "modelRFC.fit(x_train,y_train)\n",
    "print(cross_val_score(modelRFC, x_train, y_train,cv=3))\n",
    "print(modelRFC.score(x_train,y_train))\n",
    "predictionsRFC = modelRFC.predict(x_test)"
   ]
  },
  {
   "cell_type": "code",
   "execution_count": 88,
   "metadata": {},
   "outputs": [
    {
     "name": "stdout",
     "output_type": "stream",
     "text": [
      "Comparison of models\n",
      "Model            Accuracy    Classification Error    ROC-AUC    Precision    Recall    f-1\n",
      "-------------  ----------  ----------------------  ---------  -----------  --------  -----\n",
      "Logistic            0.818                   0.182      0.648        0.68      0.343  0.455\n",
      "Decision Tree       0.81                    0.19       0.635        0.645     0.32   0.428\n",
      "Random Forest       0.813                   0.187      0.651        0.644     0.358  0.461\n"
     ]
    }
   ],
   "source": [
    "#Accuracy_score\n",
    "predaccuracyLOG = accuracy_score(y_test,predictionsLOG)\n",
    "predaccuracyDTC = accuracy_score(y_test,predictionsDTC)\n",
    "predaccuracyRFC = accuracy_score(y_test,predictionsRFC)\n",
    "\n",
    "#Classification error\n",
    "predclasserrorLOG = 1-predaccuracyLOG\n",
    "predclasserrorDTC = 1-predaccuracyDTC\n",
    "predclasserrorRFC = 1-predaccuracyRFC\n",
    "\n",
    "#ROC-AUC\n",
    "predaucLOG = roc_auc_score(y_test,predictionsLOG)\n",
    "predaucDTC = roc_auc_score(y_test,predictionsDTC)\n",
    "predaucRFC = roc_auc_score(y_test,predictionsRFC)\n",
    "\n",
    "#Precision\n",
    "precisionLOG = precision_score(y_test,predictionsLOG)\n",
    "precisionDTC = precision_score(y_test,predictionsDTC)\n",
    "precisionRFC = precision_score(y_test,predictionsRFC)\n",
    "\n",
    "#Recall\n",
    "recallLOG = recall_score(y_test,predictionsLOG)\n",
    "recallDTC = recall_score(y_test,predictionsDTC)\n",
    "recallRFC = recall_score(y_test,predictionsRFC)\n",
    "\n",
    "#F-1 Score\n",
    "f1LOG = f1_score(y_test,predictionsLOG)\n",
    "f1DTC = f1_score(y_test,predictionsDTC)\n",
    "f1RFC = f1_score(y_test,predictionsRFC)\n",
    "\n",
    "print(\"Comparison of models\")\n",
    "\n",
    "print(tabulate([['Logistic','%.3f'%predaccuracyLOG,'%.3f'%predclasserrorLOG,'%.3f'%predaucLOG,'%.3f'%precisionLOG,'%.3f'%recallLOG,'%.3f'%f1LOG],\n",
    "                ['Decision Tree','%.3f'% predaccuracyDTC,'%.3f'% predclasserrorDTC,'%.3f'%predaucDTC,'%.3f'%precisionDTC,'%.3f'%recallDTC,'%.3f'%f1DTC],\n",
    "                ['Random Forest','%.3f'% predaccuracyRFC,'%.3f'% predclasserrorRFC,'%.3f'%predaucRFC,'%.3f'%precisionRFC,'%.3f'%recallRFC,'%.3f'%f1RFC]], \n",
    "                 headers=['Model','Accuracy','Classification Error','ROC-AUC','Precision','Recall','f-1']))"
   ]
  },
  {
   "cell_type": "markdown",
   "metadata": {},
   "source": [
    "## 8. Model Evaluation\n",
    "After fine-tuning and comparing 3 algorithms of classification, the selected model is logistic."
   ]
  },
  {
   "cell_type": "markdown",
   "metadata": {
    "scrolled": true
   },
   "source": [
    "#Selected model\n",
    "modelLOG = LogisticRegression(solver='lbfgs',max_iter=50,random_state=456,verbose=4,n_jobs=5)\n",
    "modelLOG.fit(x_train,y_train)\n",
    "print(cross_val_score(modelLOG, x_train, y_train,cv=4))\n",
    "print(modelLOG.score(x_train,y_train))\n",
    "predictionsLOG = modelLOG.predict(x_test)"
   ]
  },
  {
   "cell_type": "code",
   "execution_count": 89,
   "metadata": {},
   "outputs": [
    {
     "name": "stdout",
     "output_type": "stream",
     "text": [
      "Final Metrics for Logistic Model:\n",
      "Accuracy: 81.80 %\n",
      "AUC-ROC: 64.82 %\n",
      "Precision: 67.96 %\n",
      "Recall: 34.25 %\n",
      "F1-Score: 45.55 %\n"
     ]
    }
   ],
   "source": [
    "predaccuracyLOG = accuracy_score(y_test,predictionsLOG)*100\n",
    "predclasserrorLOG = (1-predaccuracyLOG)*100\n",
    "predaucLOG = roc_auc_score(y_test,predictionsLOG)*100\n",
    "precisionLOG = precision_score(y_test,predictionsLOG)*100\n",
    "recallLOG = recall_score(y_test,predictionsLOG)*100\n",
    "f1LOG = f1_score(y_test,predictionsLOG)*100\n",
    "\n",
    "print('Final Metrics for Logistic Model:')\n",
    "print('Accuracy:','%.2f'%predaccuracyLOG,'%')\n",
    "print('AUC-ROC:','%.2f'%predaucLOG,'%')\n",
    "print('Precision:','%.2f'%precisionLOG,'%')\n",
    "print('Recall:','%.2f'%recallLOG,'%')\n",
    "print('F1-Score:','%.2f'%f1LOG,'%')"
   ]
  },
  {
   "cell_type": "code",
   "execution_count": 181,
   "metadata": {},
   "outputs": [
    {
     "name": "stdout",
     "output_type": "stream",
     "text": [
      "              precision    recall  f1-score   support\n",
      "\n",
      "           0       0.84      0.95      0.89      7000\n",
      "           1       0.68      0.34      0.46      2000\n",
      "\n",
      "    accuracy                           0.82      9000\n",
      "   macro avg       0.76      0.65      0.67      9000\n",
      "weighted avg       0.80      0.82      0.79      9000\n",
      "\n"
     ]
    }
   ],
   "source": [
    "from sklearn import metrics\n",
    "print(metrics.classification_report(y_test,predictionsLOG))"
   ]
  },
  {
   "cell_type": "code",
   "execution_count": 179,
   "metadata": {},
   "outputs": [
    {
     "data": {
      "text/plain": [
       "0.3425"
      ]
     },
     "execution_count": 179,
     "metadata": {},
     "output_type": "execute_result"
    }
   ],
   "source": [
    "#Calculations for confusion matrix and confirmation of metrics\n",
    "prediction = pd.DataFrame(data = predictionsLOG)\n",
    "prediction.columns = ['PREDICTION']\n",
    "\n",
    "real = pd.DataFrame(data = y_test)\n",
    "real.columns = ['REAL']\n",
    "real = real.reset_index(drop = True)\n",
    "merge = pd.concat([real,prediction], axis=1)\n",
    "\n",
    "merge['SUM'] = merge['REAL']+ merge['PREDICTION']\n",
    "\n",
    "def f(row):\n",
    "    if row['SUM'] == 2:\n",
    "        val = 'TrueP'\n",
    "    elif row['SUM'] == 0:\n",
    "        val = 'TrueN'\n",
    "    elif row['REAL'] == 1:\n",
    "        val = 'FalseN'\n",
    "    else:\n",
    "        val = 'FalseP'\n",
    "    return val\n",
    "merge['CATEGORY'] = merge.apply(f, axis=1)\n",
    "\n",
    "TrueP = merge.loc[merge['CATEGORY'] == 'TrueP','CATEGORY'].count()\n",
    "TrueN = merge.loc[merge['CATEGORY'] == 'TrueN','CATEGORY'].count()\n",
    "FalseN = merge.loc[merge['CATEGORY'] == 'FalseN','CATEGORY'].count()\n",
    "FalseP = merge.loc[merge['CATEGORY'] == 'FalseP','CATEGORY'].count()\n",
    "\n",
    "\n",
    "confirm_recall=(TrueP/(TrueP+FalseN))\n",
    "confirm_recall"
   ]
  },
  {
   "cell_type": "code",
   "execution_count": 190,
   "metadata": {},
   "outputs": [
    {
     "data": {
      "image/png": "[encoded data removed]",
      "text/plain": [
       "<Figure size 504x504 with 2 Axes>"
      ]
     },
     "metadata": {},
     "output_type": "display_data"
    }
   ],
   "source": [
    "#Plot non-normalized confusion matrix\n",
    "from mlxtend.plotting import plot_confusion_matrix\n",
    "import matplotlib.pyplot as plt\n",
    "import numpy as np\n",
    "\n",
    "binary = np.array([[TrueN, FalseN],\n",
    "                   [FalseP, TrueP]])\n",
    "\n",
    "fig, ax = plot_confusion_matrix(conf_mat=binary,\n",
    "                                figsize=(7, 7),\n",
    "                                show_absolute=True,\n",
    "                                colorbar=True)\n",
    "plt.title('Confussion Matrix')\n",
    "plt.show()"
   ]
  },
  {
   "cell_type": "code",
   "execution_count": 91,
   "metadata": {},
   "outputs": [
    {
     "data": {
      "image/png": "[encoded data removed]",
      "text/plain": [
       "<Figure size 576x576 with 1 Axes>"
      ]
     },
     "metadata": {},
     "output_type": "display_data"
    }
   ],
   "source": [
    "from sklearn.metrics import plot_roc_curve\n",
    "svc_disp = plot_roc_curve(modelLOG, x_test, y_test)\n",
    "\n",
    "plt.title('ROC Curve')\n",
    "plt.show()"
   ]
  },
  {
   "cell_type": "code",
   "execution_count": null,
   "metadata": {},
   "outputs": [],
   "source": []
  }
 ],
 "metadata": {
  "kernelspec": {
   "display_name": "Python 3",
   "language": "python",
   "name": "python3"
  },
  "language_info": {
   "codemirror_mode": {
    "name": "ipython",
    "version": 3
   },
   "file_extension": ".py",
   "mimetype": "text/x-python",
   "name": "python",
   "nbconvert_exporter": "python",
   "pygments_lexer": "ipython3",
   "version": "3.7.6"
  }
 },
 "nbformat": 4,
 "nbformat_minor": 4
}
